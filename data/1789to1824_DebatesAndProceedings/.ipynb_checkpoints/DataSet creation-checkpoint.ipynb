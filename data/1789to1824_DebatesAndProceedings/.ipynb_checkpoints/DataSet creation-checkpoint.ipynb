{
 "cells": [
  {
   "cell_type": "markdown",
   "metadata": {},
   "source": [
    "# Notebook to split in the middle a page of the Congress document webpages"
   ]
  },
  {
   "cell_type": "markdown",
   "metadata": {},
   "source": [
    "## 1 - Create the .hocr files."
   ]
  },
  {
   "cell_type": "code",
   "execution_count": 212,
   "metadata": {},
   "outputs": [],
   "source": [
    "# For each page run: tesseract  ./INPUT_page.png ./OUTPUT_page -l eng hocr\n",
    "# This will create a file called: \"OUTPUT_page.hocr\" \n",
    "# Use this file to decide where to split the page.\n",
    "\n",
    "# How ? \n",
    "# 1- First list all the paths to the \"page_*.png\" files\n",
    "# 2- Then use this path to create a process that executes the above mentioned tesseract's command."
   ]
  },
  {
   "cell_type": "code",
   "execution_count": 3,
   "metadata": {},
   "outputs": [],
   "source": [
    "import subprocess\n",
    "import os\n",
    "import glob\n",
    "from PIL import Image\n"
   ]
  },
  {
   "cell_type": "code",
   "execution_count": 214,
   "metadata": {},
   "outputs": [
    {
     "name": "stdout",
     "output_type": "stream",
     "text": [
      "Count all the pages of Dataset one: 59306\n"
     ]
    }
   ],
   "source": [
    "def recursive_files_list(start):\n",
    "    start = os.path.join(start,\"*\")\n",
    "    for filename in glob.iglob(start, recursive=True):\n",
    "        if filename.find(\"page\") > -1:\n",
    "            temp_paths.append(filename)\n",
    "        else:\n",
    "            #print(\"Ops: \",filename)\n",
    "            recursive_files_list(start)\n",
    "\n",
    "## Count all the pages\n",
    "num_volumes = 42\n",
    "starting_volumes_dir = \"./volumes/Volume_\"\n",
    "all_paths = []\n",
    "\n",
    "for volume in list(range(1,num_volumes+1)):\n",
    "    path=starting_volumes_dir+str(volume)\n",
    "    temp_paths = []\n",
    "    recursive_files_list(path)\n",
    "    all_paths.append(temp_paths)\n",
    "    \n",
    "\n",
    "\n",
    "count = 0\n",
    "for volume in list(range(num_volumes)):\n",
    "    count+=len(all_paths[volume])\n",
    "    \n",
    "print(\"Count all the pages of Dataset one: \"+str(count*2))"
   ]
  },
  {
   "cell_type": "code",
   "execution_count": 215,
   "metadata": {
    "collapsed": true
   },
   "outputs": [
    {
     "data": {
      "text/plain": [
       "['./volumes/Volume_1/page_304',\n",
       " './volumes/Volume_1/page_146',\n",
       " './volumes/Volume_1/page_171',\n",
       " './volumes/Volume_1/page_13',\n",
       " './volumes/Volume_1/page_207',\n",
       " './volumes/Volume_1/page_497',\n",
       " './volumes/Volume_1/page_211',\n",
       " './volumes/Volume_1/page_501',\n",
       " './volumes/Volume_1/page_217',\n",
       " './volumes/Volume_1/page_552',\n",
       " './volumes/Volume_1/page_140',\n",
       " './volumes/Volume_1/page_111',\n",
       " './volumes/Volume_1/page_476',\n",
       " './volumes/Volume_1/page_305',\n",
       " './volumes/Volume_1/page_298',\n",
       " './volumes/Volume_1/page_360',\n",
       " './volumes/Volume_1/page_163',\n",
       " './volumes/Volume_1/page_303',\n",
       " './volumes/Volume_1/page_81',\n",
       " './volumes/Volume_1/page_481',\n",
       " './volumes/Volume_1/page_472',\n",
       " './volumes/Volume_1/page_160',\n",
       " './volumes/Volume_1/page_622',\n",
       " './volumes/Volume_1/page_546',\n",
       " './volumes/Volume_1/page_167',\n",
       " './volumes/Volume_1/page_55',\n",
       " './volumes/Volume_1/page_13_right.png',\n",
       " './volumes/Volume_1/page_38',\n",
       " './volumes/Volume_1/page_521',\n",
       " './volumes/Volume_1/page_568',\n",
       " './volumes/Volume_1/page_381',\n",
       " './volumes/Volume_1/page_460',\n",
       " './volumes/Volume_1/page_106',\n",
       " './volumes/Volume_1/page_318',\n",
       " './volumes/Volume_1/page_8',\n",
       " './volumes/Volume_1/page_453',\n",
       " './volumes/Volume_1/page_439',\n",
       " './volumes/Volume_1/page_278',\n",
       " './volumes/Volume_1/page_166',\n",
       " './volumes/Volume_1/page_417',\n",
       " './volumes/Volume_1/page_206',\n",
       " './volumes/Volume_1/page_232',\n",
       " './volumes/Volume_1/page_281',\n",
       " './volumes/Volume_1/page_62',\n",
       " './volumes/Volume_1/page_29',\n",
       " './volumes/Volume_1/page_560',\n",
       " './volumes/Volume_1/page_605',\n",
       " './volumes/Volume_1/page_13_left.png',\n",
       " './volumes/Volume_1/page_404',\n",
       " './volumes/Volume_1/page_61',\n",
       " './volumes/Volume_1/page_518',\n",
       " './volumes/Volume_1/page_306',\n",
       " './volumes/Volume_1/page_623',\n",
       " './volumes/Volume_1/page_349',\n",
       " './volumes/Volume_1/page_293',\n",
       " './volumes/Volume_1/page_92',\n",
       " './volumes/Volume_1/page_488',\n",
       " './volumes/Volume_1/page_379',\n",
       " './volumes/Volume_1/page_580',\n",
       " './volumes/Volume_1/page_620',\n",
       " './volumes/Volume_1/page_452',\n",
       " './volumes/Volume_1/page_146.hocr',\n",
       " './volumes/Volume_1/page_455',\n",
       " './volumes/Volume_1/page_205',\n",
       " './volumes/Volume_1/page_466',\n",
       " './volumes/Volume_1/page_138',\n",
       " './volumes/Volume_1/page_562',\n",
       " './volumes/Volume_1/page_510',\n",
       " './volumes/Volume_1/page_192',\n",
       " './volumes/Volume_1/page_86',\n",
       " './volumes/Volume_1/page_576',\n",
       " './volumes/Volume_1/page_1',\n",
       " './volumes/Volume_1/page_54',\n",
       " './volumes/Volume_1/page_498',\n",
       " './volumes/Volume_1/page_388',\n",
       " './volumes/Volume_1/page_73',\n",
       " './volumes/Volume_1/page_178',\n",
       " './volumes/Volume_1/page_447',\n",
       " './volumes/Volume_1/page_553',\n",
       " './volumes/Volume_1/page_470',\n",
       " './volumes/Volume_1/page_153',\n",
       " './volumes/Volume_1/page_506',\n",
       " './volumes/Volume_1/page_164',\n",
       " './volumes/Volume_1/page_315',\n",
       " './volumes/Volume_1/page_249',\n",
       " './volumes/Volume_1/page_137',\n",
       " './volumes/Volume_1/page_569',\n",
       " './volumes/Volume_1/page_636',\n",
       " './volumes/Volume_1/page_145',\n",
       " './volumes/Volume_1/page_352',\n",
       " './volumes/Volume_1/page_612',\n",
       " './volumes/Volume_1/page_158',\n",
       " './volumes/Volume_1/page_88',\n",
       " './volumes/Volume_1/page_325',\n",
       " './volumes/Volume_1/page_284',\n",
       " './volumes/Volume_1/page_308',\n",
       " './volumes/Volume_1/page_96',\n",
       " './volumes/Volume_1/page_587',\n",
       " './volumes/Volume_1/page_191',\n",
       " './volumes/Volume_1/page_27',\n",
       " './volumes/Volume_1/page_99',\n",
       " './volumes/Volume_1/page_267',\n",
       " './volumes/Volume_1/page_224',\n",
       " './volumes/Volume_1/page_227',\n",
       " './volumes/Volume_1/page_572',\n",
       " './volumes/Volume_1/page_403',\n",
       " './volumes/Volume_1/page_176',\n",
       " './volumes/Volume_1/page_324',\n",
       " './volumes/Volume_1/page_338',\n",
       " './volumes/Volume_1/page_276',\n",
       " './volumes/Volume_1/page_177',\n",
       " './volumes/Volume_1/page_255',\n",
       " './volumes/Volume_1/page_547',\n",
       " './volumes/Volume_1/page_256',\n",
       " './volumes/Volume_1/page_294',\n",
       " './volumes/Volume_1/page_337',\n",
       " './volumes/Volume_1/page_370',\n",
       " './volumes/Volume_1/page_442',\n",
       " './volumes/Volume_1/page_604',\n",
       " './volumes/Volume_1/page_246',\n",
       " './volumes/Volume_1/page_317',\n",
       " './volumes/Volume_1/page_261',\n",
       " './volumes/Volume_1/page_42',\n",
       " './volumes/Volume_1/page_382',\n",
       " './volumes/Volume_1/page_575',\n",
       " './volumes/Volume_1/page_127',\n",
       " './volumes/Volume_1/page_585',\n",
       " './volumes/Volume_1/page_295',\n",
       " './volumes/Volume_1/page_189',\n",
       " './volumes/Volume_1/page_125',\n",
       " './volumes/Volume_1/page_264',\n",
       " './volumes/Volume_1/page_590',\n",
       " './volumes/Volume_1/page_606',\n",
       " './volumes/Volume_1/page_155',\n",
       " './volumes/Volume_1/page_215',\n",
       " './volumes/Volume_1/page_444',\n",
       " './volumes/Volume_1/page_421',\n",
       " './volumes/Volume_1/page_274',\n",
       " './volumes/Volume_1/page_4',\n",
       " './volumes/Volume_1/page_87',\n",
       " './volumes/Volume_1/page_387',\n",
       " './volumes/Volume_1/page_350',\n",
       " './volumes/Volume_1/page_473',\n",
       " './volumes/Volume_1/page_380',\n",
       " './volumes/Volume_1/page_529',\n",
       " './volumes/Volume_1/page_361',\n",
       " './volumes/Volume_1/page_23',\n",
       " './volumes/Volume_1/page_132',\n",
       " './volumes/Volume_1/page_489',\n",
       " './volumes/Volume_1/page_406',\n",
       " './volumes/Volume_1/page_240',\n",
       " './volumes/Volume_1/page_484',\n",
       " './volumes/Volume_1/page_66',\n",
       " './volumes/Volume_1/page_626',\n",
       " './volumes/Volume_1/page_347',\n",
       " './volumes/Volume_1/page_25',\n",
       " './volumes/Volume_1/page_210',\n",
       " './volumes/Volume_1/page_241',\n",
       " './volumes/Volume_1/page_591',\n",
       " './volumes/Volume_1/page_634',\n",
       " './volumes/Volume_1/page_316',\n",
       " './volumes/Volume_1/page_104',\n",
       " './volumes/Volume_1/page_395',\n",
       " './volumes/Volume_1/page_262',\n",
       " './volumes/Volume_1/page_445',\n",
       " './volumes/Volume_1/page_60',\n",
       " './volumes/Volume_1/page_33',\n",
       " './volumes/Volume_1/page_314',\n",
       " './volumes/Volume_1/page_228',\n",
       " './volumes/Volume_1/page_500',\n",
       " './volumes/Volume_1/page_570',\n",
       " './volumes/Volume_1/page_312',\n",
       " './volumes/Volume_1/page_252',\n",
       " './volumes/Volume_1/page_537',\n",
       " './volumes/Volume_1/page_619',\n",
       " './volumes/Volume_1/page_254',\n",
       " './volumes/Volume_1/page_564',\n",
       " './volumes/Volume_1/page_70',\n",
       " './volumes/Volume_1/page_49',\n",
       " './volumes/Volume_1/page_59',\n",
       " './volumes/Volume_1/page_301',\n",
       " './volumes/Volume_1/page_103',\n",
       " './volumes/Volume_1/page_446',\n",
       " './volumes/Volume_1/page_625',\n",
       " './volumes/Volume_1/page_299',\n",
       " './volumes/Volume_1/page_429',\n",
       " './volumes/Volume_1/page_397',\n",
       " './volumes/Volume_1/page_39',\n",
       " './volumes/Volume_1/page_68',\n",
       " './volumes/Volume_1/page_578',\n",
       " './volumes/Volume_1/page_527',\n",
       " './volumes/Volume_1/page_611',\n",
       " './volumes/Volume_1/page_79',\n",
       " './volumes/Volume_1/page_297',\n",
       " './volumes/Volume_1/page_459',\n",
       " './volumes/Volume_1/page_80',\n",
       " './volumes/Volume_1/page_93',\n",
       " './volumes/Volume_1/page_72',\n",
       " './volumes/Volume_1/page_244',\n",
       " './volumes/Volume_1/page_624',\n",
       " './volumes/Volume_1/page_383',\n",
       " './volumes/Volume_1/page_567',\n",
       " './volumes/Volume_1/page_173',\n",
       " './volumes/Volume_1/page_109',\n",
       " './volumes/Volume_1/page_493',\n",
       " './volumes/Volume_1/page_386',\n",
       " './volumes/Volume_1/page_46',\n",
       " './volumes/Volume_1/page_237',\n",
       " './volumes/Volume_1/page_333',\n",
       " './volumes/Volume_1/page_185',\n",
       " './volumes/Volume_1/page_504',\n",
       " './volumes/Volume_1/page_341',\n",
       " './volumes/Volume_1/page_43',\n",
       " './volumes/Volume_1/page_17',\n",
       " './volumes/Volume_1/page_363',\n",
       " './volumes/Volume_1/page_233',\n",
       " './volumes/Volume_1/page_451',\n",
       " './volumes/Volume_1/page_319',\n",
       " './volumes/Volume_1/page_313',\n",
       " './volumes/Volume_1/page_219',\n",
       " './volumes/Volume_1/page_621',\n",
       " './volumes/Volume_1/page_487',\n",
       " './volumes/Volume_1/page_463',\n",
       " './volumes/Volume_1/page_101',\n",
       " './volumes/Volume_1/page_184',\n",
       " './volumes/Volume_1/page_579',\n",
       " './volumes/Volume_1/page_230',\n",
       " './volumes/Volume_1/page_630',\n",
       " './volumes/Volume_1/page_410',\n",
       " './volumes/Volume_1/page_596',\n",
       " './volumes/Volume_1/page_449',\n",
       " './volumes/Volume_1/page_543',\n",
       " './volumes/Volume_1/page_266',\n",
       " './volumes/Volume_1/page_550',\n",
       " './volumes/Volume_1/page_413',\n",
       " './volumes/Volume_1/page_511',\n",
       " './volumes/Volume_1/page_371',\n",
       " './volumes/Volume_1/page_329',\n",
       " './volumes/Volume_1/page_536',\n",
       " './volumes/Volume_1/page_530',\n",
       " './volumes/Volume_1/page_13.hocr',\n",
       " './volumes/Volume_1/page_486',\n",
       " './volumes/Volume_1/page_28',\n",
       " './volumes/Volume_1/page_540',\n",
       " './volumes/Volume_1/page_116',\n",
       " './volumes/Volume_1/page_56',\n",
       " './volumes/Volume_1/page_310',\n",
       " './volumes/Volume_1/page_197',\n",
       " './volumes/Volume_1/page_436',\n",
       " './volumes/Volume_1/page_457',\n",
       " './volumes/Volume_1/page_538',\n",
       " './volumes/Volume_1/page_402',\n",
       " './volumes/Volume_1/page_467',\n",
       " './volumes/Volume_1/page_231',\n",
       " './volumes/Volume_1/page_356',\n",
       " './volumes/Volume_1/page_533',\n",
       " './volumes/Volume_1/page_398',\n",
       " './volumes/Volume_1/page_372',\n",
       " './volumes/Volume_1/page_263',\n",
       " './volumes/Volume_1/page_532',\n",
       " './volumes/Volume_1/page_63',\n",
       " './volumes/Volume_1/page_346',\n",
       " './volumes/Volume_1/page_478',\n",
       " './volumes/Volume_1/page_542',\n",
       " './volumes/Volume_1/page_589',\n",
       " './volumes/Volume_1/page_36',\n",
       " './volumes/Volume_1/page_129',\n",
       " './volumes/Volume_1/page_229',\n",
       " './volumes/Volume_1/page_598',\n",
       " './volumes/Volume_1/page_258',\n",
       " './volumes/Volume_1/page_426',\n",
       " './volumes/Volume_1/page_53',\n",
       " './volumes/Volume_1/page_332',\n",
       " './volumes/Volume_1/page_51',\n",
       " './volumes/Volume_1/page_409',\n",
       " './volumes/Volume_1/page_175',\n",
       " './volumes/Volume_1/page_563',\n",
       " './volumes/Volume_1/page_631',\n",
       " './volumes/Volume_1/page_193',\n",
       " './volumes/Volume_1/page_614',\n",
       " './volumes/Volume_1/page_214',\n",
       " './volumes/Volume_1/page_557',\n",
       " './volumes/Volume_1/page_528',\n",
       " './volumes/Volume_1/page_161',\n",
       " './volumes/Volume_1/page_354',\n",
       " './volumes/Volume_1/page_168',\n",
       " './volumes/Volume_1/page_377',\n",
       " './volumes/Volume_1/page_608',\n",
       " './volumes/Volume_1/page_545',\n",
       " './volumes/Volume_1/page_541',\n",
       " './volumes/Volume_1/page_110',\n",
       " './volumes/Volume_1/page_613',\n",
       " './volumes/Volume_1/page_628',\n",
       " './volumes/Volume_1/page_358',\n",
       " './volumes/Volume_1/page_474',\n",
       " './volumes/Volume_1/page_353',\n",
       " './volumes/Volume_1/page_64',\n",
       " './volumes/Volume_1/page_419',\n",
       " './volumes/Volume_1/page_283',\n",
       " './volumes/Volume_1/page_512',\n",
       " './volumes/Volume_1/page_190',\n",
       " './volumes/Volume_1/page_31',\n",
       " './volumes/Volume_1/page_134',\n",
       " './volumes/Volume_1/page_632',\n",
       " './volumes/Volume_1/page_77',\n",
       " './volumes/Volume_1/page_629',\n",
       " './volumes/Volume_1/page_437',\n",
       " './volumes/Volume_1/page_637',\n",
       " './volumes/Volume_1/page_617',\n",
       " './volumes/Volume_1/page_408',\n",
       " './volumes/Volume_1/page_414',\n",
       " './volumes/Volume_1/page_399',\n",
       " './volumes/Volume_1/page_174',\n",
       " './volumes/Volume_1/page_112',\n",
       " './volumes/Volume_1/page_208',\n",
       " './volumes/Volume_1/page_271',\n",
       " './volumes/Volume_1/page_47',\n",
       " './volumes/Volume_1/page_212',\n",
       " './volumes/Volume_1/page_526',\n",
       " './volumes/Volume_1/page_509',\n",
       " './volumes/Volume_1/page_119',\n",
       " './volumes/Volume_1/page_277',\n",
       " './volumes/Volume_1/page_12',\n",
       " './volumes/Volume_1/page_364',\n",
       " './volumes/Volume_1/page_586',\n",
       " './volumes/Volume_1/page_499',\n",
       " './volumes/Volume_1/page_100',\n",
       " './volumes/Volume_1/page_95',\n",
       " './volumes/Volume_1/page_234',\n",
       " './volumes/Volume_1/page_162',\n",
       " './volumes/Volume_1/page_600',\n",
       " './volumes/Volume_1/page_71',\n",
       " './volumes/Volume_1/page_35',\n",
       " './volumes/Volume_1/page_159',\n",
       " './volumes/Volume_1/page_519',\n",
       " './volumes/Volume_1/page_523',\n",
       " './volumes/Volume_1/page_194',\n",
       " './volumes/Volume_1/page_373',\n",
       " './volumes/Volume_1/page_142',\n",
       " './volumes/Volume_1/page_179',\n",
       " './volumes/Volume_1/page_251',\n",
       " './volumes/Volume_1/page_201',\n",
       " './volumes/Volume_1/page_524',\n",
       " './volumes/Volume_1/page_443',\n",
       " './volumes/Volume_1/page_507',\n",
       " './volumes/Volume_1/page_394',\n",
       " './volumes/Volume_1/page_213',\n",
       " './volumes/Volume_1/page_376',\n",
       " './volumes/Volume_1/page_209',\n",
       " './volumes/Volume_1/page_400',\n",
       " './volumes/Volume_1/page_37',\n",
       " './volumes/Volume_1/page_149',\n",
       " './volumes/Volume_1/page_407',\n",
       " './volumes/Volume_1/page_391',\n",
       " './volumes/Volume_1/page_469',\n",
       " './volumes/Volume_1/page_203',\n",
       " './volumes/Volume_1/page_441',\n",
       " './volumes/Volume_1/page_424',\n",
       " './volumes/Volume_1/page_139',\n",
       " './volumes/Volume_1/page_265',\n",
       " './volumes/Volume_1/page_588',\n",
       " './volumes/Volume_1/page_375',\n",
       " './volumes/Volume_1/page_401',\n",
       " './volumes/Volume_1/page_522',\n",
       " './volumes/Volume_1/page_200',\n",
       " './volumes/Volume_1/page_548',\n",
       " './volumes/Volume_1/page_462',\n",
       " './volumes/Volume_1/page_221',\n",
       " './volumes/Volume_1/page_595',\n",
       " './volumes/Volume_1/page_423',\n",
       " './volumes/Volume_1/page_638',\n",
       " './volumes/Volume_1/page_321',\n",
       " './volumes/Volume_1/page_122',\n",
       " './volumes/Volume_1/page_94',\n",
       " './volumes/Volume_1/page_435',\n",
       " './volumes/Volume_1/page_144',\n",
       " './volumes/Volume_1/page_169',\n",
       " './volumes/Volume_1/page_485',\n",
       " './volumes/Volume_1/page_434',\n",
       " './volumes/Volume_1/page_374',\n",
       " './volumes/Volume_1/page_566',\n",
       " './volumes/Volume_1/page_286',\n",
       " './volumes/Volume_1/page_57',\n",
       " './volumes/Volume_1/page_172',\n",
       " './volumes/Volume_1/page_216',\n",
       " './volumes/Volume_1/page_289',\n",
       " './volumes/Volume_1/page_465',\n",
       " './volumes/Volume_1/page_78',\n",
       " './volumes/Volume_1/page_154',\n",
       " './volumes/Volume_1/page_491',\n",
       " './volumes/Volume_1/page_551',\n",
       " './volumes/Volume_1/page_454',\n",
       " './volumes/Volume_1/page_633',\n",
       " './volumes/Volume_1/page_300',\n",
       " './volumes/Volume_1/page_334',\n",
       " './volumes/Volume_1/page_322',\n",
       " './volumes/Volume_1/page_287',\n",
       " './volumes/Volume_1/page_593',\n",
       " './volumes/Volume_1/page_492',\n",
       " './volumes/Volume_1/page_389',\n",
       " './volumes/Volume_1/page_18',\n",
       " './volumes/Volume_1/page_40',\n",
       " './volumes/Volume_1/page_351',\n",
       " './volumes/Volume_1/page_108',\n",
       " './volumes/Volume_1/page_89',\n",
       " './volumes/Volume_1/page_7',\n",
       " './volumes/Volume_1/page_296',\n",
       " './volumes/Volume_1/page_130',\n",
       " './volumes/Volume_1/page_156',\n",
       " './volumes/Volume_1/page_243',\n",
       " './volumes/Volume_1/page_182',\n",
       " './volumes/Volume_1/page_384',\n",
       " './volumes/Volume_1/page_131',\n",
       " './volumes/Volume_1/page_20',\n",
       " './volumes/Volume_1/page_555',\n",
       " './volumes/Volume_1/page_135',\n",
       " './volumes/Volume_1/page_218',\n",
       " './volumes/Volume_1/page_433',\n",
       " './volumes/Volume_1/page_495',\n",
       " './volumes/Volume_1/page_304.hocr',\n",
       " './volumes/Volume_1/page_170',\n",
       " './volumes/Volume_1/page_431',\n",
       " './volumes/Volume_1/page_83',\n",
       " './volumes/Volume_1/page_151',\n",
       " './volumes/Volume_1/page_269',\n",
       " './volumes/Volume_1/page_559',\n",
       " './volumes/Volume_1/page_496',\n",
       " './volumes/Volume_1/page_534',\n",
       " './volumes/Volume_1/page_327',\n",
       " './volumes/Volume_1/page_635',\n",
       " './volumes/Volume_1/page_21',\n",
       " './volumes/Volume_1/page_102',\n",
       " './volumes/Volume_1/page_503',\n",
       " './volumes/Volume_1/page_275',\n",
       " './volumes/Volume_1/page_150',\n",
       " './volumes/Volume_1/page_11',\n",
       " './volumes/Volume_1/page_279',\n",
       " './volumes/Volume_1/page_260',\n",
       " './volumes/Volume_1/page_323',\n",
       " './volumes/Volume_1/page_171.hocr',\n",
       " './volumes/Volume_1/page_581',\n",
       " './volumes/Volume_1/page_238',\n",
       " './volumes/Volume_1/page_147',\n",
       " './volumes/Volume_1/page_136',\n",
       " './volumes/Volume_1/page_345',\n",
       " './volumes/Volume_1/page_609',\n",
       " './volumes/Volume_1/page_482',\n",
       " './volumes/Volume_1/page_16',\n",
       " './volumes/Volume_1/page_250',\n",
       " './volumes/Volume_1/page_420',\n",
       " './volumes/Volume_1/page_30',\n",
       " './volumes/Volume_1/page_432',\n",
       " './volumes/Volume_1/page_26',\n",
       " './volumes/Volume_1/page_396',\n",
       " './volumes/Volume_1/page_336',\n",
       " './volumes/Volume_1/page_480',\n",
       " './volumes/Volume_1/page_220',\n",
       " './volumes/Volume_1/page_607',\n",
       " './volumes/Volume_1/page_331',\n",
       " './volumes/Volume_1/page_418',\n",
       " './volumes/Volume_1/page_520',\n",
       " './volumes/Volume_1/page_610',\n",
       " './volumes/Volume_1/page_582',\n",
       " './volumes/Volume_1/page_186',\n",
       " './volumes/Volume_1/page_367',\n",
       " './volumes/Volume_1/page_259',\n",
       " './volumes/Volume_1/page_505',\n",
       " './volumes/Volume_1/page_128',\n",
       " './volumes/Volume_1/page_121',\n",
       " './volumes/Volume_1/page_268',\n",
       " './volumes/Volume_1/page_517',\n",
       " './volumes/Volume_1/page_58',\n",
       " './volumes/Volume_1/page_69',\n",
       " './volumes/Volume_1/page_599',\n",
       " './volumes/Volume_1/page_438',\n",
       " './volumes/Volume_1/page_126',\n",
       " './volumes/Volume_1/page_359',\n",
       " './volumes/Volume_1/page_288',\n",
       " './volumes/Volume_1/page_344',\n",
       " './volumes/Volume_1/page_415',\n",
       " './volumes/Volume_1/page_115',\n",
       " './volumes/Volume_1/page_531',\n",
       " './volumes/Volume_1/page_554',\n",
       " './volumes/Volume_1/page_309',\n",
       " './volumes/Volume_1/page_366',\n",
       " './volumes/Volume_1/page_204',\n",
       " './volumes/Volume_1/page_390',\n",
       " './volumes/Volume_1/page_75',\n",
       " './volumes/Volume_1/page_82',\n",
       " './volumes/Volume_1/page_107',\n",
       " './volumes/Volume_1/page_525',\n",
       " './volumes/Volume_1/page_34',\n",
       " './volumes/Volume_1/page_273',\n",
       " './volumes/Volume_1/page_448',\n",
       " './volumes/Volume_1/page_148',\n",
       " './volumes/Volume_1/page_48',\n",
       " './volumes/Volume_1/page_320',\n",
       " './volumes/Volume_1/page_124',\n",
       " './volumes/Volume_1/page_362',\n",
       " './volumes/Volume_1/page_3',\n",
       " './volumes/Volume_1/page_471',\n",
       " './volumes/Volume_1/page_272',\n",
       " './volumes/Volume_1/page_456',\n",
       " './volumes/Volume_1/page_508',\n",
       " './volumes/Volume_1/page_464',\n",
       " './volumes/Volume_1/page_601',\n",
       " './volumes/Volume_1/page_475',\n",
       " './volumes/Volume_1/page_76',\n",
       " './volumes/Volume_1/page_105',\n",
       " './volumes/Volume_1/page_0',\n",
       " './volumes/Volume_1/page_24',\n",
       " './volumes/Volume_1/page_257',\n",
       " './volumes/Volume_1/page_236',\n",
       " './volumes/Volume_1/page_355',\n",
       " './volumes/Volume_1/page_202',\n",
       " './volumes/Volume_1/page_292',\n",
       " './volumes/Volume_1/page_199',\n",
       " './volumes/Volume_1/page_74',\n",
       " './volumes/Volume_1/page_247',\n",
       " './volumes/Volume_1/page_280',\n",
       " './volumes/Volume_1/page_253',\n",
       " './volumes/Volume_1/page_514',\n",
       " './volumes/Volume_1/page_22',\n",
       " './volumes/Volume_1/page_430',\n",
       " './volumes/Volume_1/page_592',\n",
       " './volumes/Volume_1/page_516',\n",
       " './volumes/Volume_1/page_198',\n",
       " './volumes/Volume_1/page_143',\n",
       " './volumes/Volume_1/page_490',\n",
       " './volumes/Volume_1/page_290',\n",
       " './volumes/Volume_1/page_539',\n",
       " './volumes/Volume_1/page_328',\n",
       " './volumes/Volume_1/page_15',\n",
       " './volumes/Volume_1/page_440',\n",
       " './volumes/Volume_1/page_6',\n",
       " './volumes/Volume_1/page_615',\n",
       " './volumes/Volume_1/page_458',\n",
       " './volumes/Volume_1/page_181',\n",
       " './volumes/Volume_1/page_165',\n",
       " './volumes/Volume_1/page_235',\n",
       " './volumes/Volume_1/page_9',\n",
       " './volumes/Volume_1/page_157',\n",
       " './volumes/Volume_1/page_141',\n",
       " './volumes/Volume_1/page_41',\n",
       " './volumes/Volume_1/page_618',\n",
       " './volumes/Volume_1/page_369',\n",
       " './volumes/Volume_1/page_378',\n",
       " './volumes/Volume_1/page_113',\n",
       " './volumes/Volume_1/page_223',\n",
       " './volumes/Volume_1/page_412',\n",
       " './volumes/Volume_1/page_44',\n",
       " './volumes/Volume_1/page_302',\n",
       " './volumes/Volume_1/page_594',\n",
       " './volumes/Volume_1/page_2',\n",
       " './volumes/Volume_1/page_14',\n",
       " './volumes/Volume_1/page_84',\n",
       " './volumes/Volume_1/page_311',\n",
       " './volumes/Volume_1/page_180',\n",
       " './volumes/Volume_1/page_117',\n",
       " './volumes/Volume_1/page_583',\n",
       " './volumes/Volume_1/page_270',\n",
       " './volumes/Volume_1/page_226',\n",
       " './volumes/Volume_1/page_571',\n",
       " './volumes/Volume_1/page_120',\n",
       " './volumes/Volume_1/page_123',\n",
       " './volumes/Volume_1/page_195',\n",
       " './volumes/Volume_1/page_91',\n",
       " './volumes/Volume_1/page_67',\n",
       " './volumes/Volume_1/page_114',\n",
       " './volumes/Volume_1/page_291',\n",
       " './volumes/Volume_1/page_385',\n",
       " './volumes/Volume_1/page_425',\n",
       " './volumes/Volume_1/page_248',\n",
       " './volumes/Volume_1/page_335',\n",
       " './volumes/Volume_1/page_577',\n",
       " './volumes/Volume_1/page_196',\n",
       " './volumes/Volume_1/page_535',\n",
       " './volumes/Volume_1/page_627',\n",
       " './volumes/Volume_1/page_368',\n",
       " './volumes/Volume_1/page_544',\n",
       " './volumes/Volume_1/page_411',\n",
       " './volumes/Volume_1/page_416',\n",
       " './volumes/Volume_1/page_285',\n",
       " './volumes/Volume_1/page_187',\n",
       " './volumes/Volume_1/page_242',\n",
       " './volumes/Volume_1/page_118',\n",
       " './volumes/Volume_1/page_183',\n",
       " './volumes/Volume_1/page_340',\n",
       " './volumes/Volume_1/page_561',\n",
       " './volumes/Volume_1/page_494',\n",
       " './volumes/Volume_1/page_616',\n",
       " './volumes/Volume_1/page_239',\n",
       " './volumes/Volume_1/page_513',\n",
       " './volumes/Volume_1/page_574',\n",
       " './volumes/Volume_1/page_348',\n",
       " './volumes/Volume_1/page_19',\n",
       " './volumes/Volume_1/page_405',\n",
       " './volumes/Volume_1/page_133',\n",
       " './volumes/Volume_1/page_393',\n",
       " './volumes/Volume_1/page_483',\n",
       " './volumes/Volume_1/page_461',\n",
       " './volumes/Volume_1/page_326',\n",
       " './volumes/Volume_1/page_65',\n",
       " './volumes/Volume_1/page_603',\n",
       " './volumes/Volume_1/page_556',\n",
       " './volumes/Volume_1/page_50',\n",
       " './volumes/Volume_1/page_32',\n",
       " './volumes/Volume_1/page_343',\n",
       " './volumes/Volume_1/page_479',\n",
       " './volumes/Volume_1/page_5',\n",
       " './volumes/Volume_1/page_188',\n",
       " './volumes/Volume_1/page_558',\n",
       " './volumes/Volume_1/page_515',\n",
       " './volumes/Volume_1/page_52',\n",
       " './volumes/Volume_1/page_342',\n",
       " './volumes/Volume_1/page_357',\n",
       " './volumes/Volume_1/page_330',\n",
       " './volumes/Volume_1/page_90',\n",
       " './volumes/Volume_1/page_222',\n",
       " './volumes/Volume_1/page_97',\n",
       " './volumes/Volume_1/page_468',\n",
       " './volumes/Volume_1/page_98',\n",
       " './volumes/Volume_1/page_225',\n",
       " './volumes/Volume_1/page_10',\n",
       " './volumes/Volume_1/page_502',\n",
       " './volumes/Volume_1/page_152',\n",
       " './volumes/Volume_1/page_339',\n",
       " './volumes/Volume_1/page_573',\n",
       " './volumes/Volume_1/page_584',\n",
       " './volumes/Volume_1/page_245',\n",
       " './volumes/Volume_1/page_549',\n",
       " './volumes/Volume_1/page_307',\n",
       " './volumes/Volume_1/page_477',\n",
       " './volumes/Volume_1/page_365',\n",
       " './volumes/Volume_1/page_450',\n",
       " './volumes/Volume_1/page_392',\n",
       " './volumes/Volume_1/page_282',\n",
       " './volumes/Volume_1/page_597',\n",
       " './volumes/Volume_1/page_565',\n",
       " './volumes/Volume_1/page_428',\n",
       " './volumes/Volume_1/page_602',\n",
       " './volumes/Volume_1/page_85',\n",
       " './volumes/Volume_1/page_422',\n",
       " './volumes/Volume_1/page_427',\n",
       " './volumes/Volume_1/page_45']"
      ]
     },
     "execution_count": 215,
     "metadata": {},
     "output_type": "execute_result"
    }
   ],
   "source": [
    "starting_volumes_dir = \"./volumes/Volume_1\"\n",
    "all_paths = []\n",
    "def recursive_files_list(start, all_paths):\n",
    "    start = os.path.join(start,\"*\")\n",
    "    for filename in glob.iglob(start, recursive=True):\n",
    "        if filename.find(\"page\") > -1:\n",
    "            all_paths.append(filename)\n",
    "        else:\n",
    "            #print(\"Ops: \",filename)\n",
    "            recursive_files_list(start, all_paths)\n",
    "\n",
    "recursive_files_list(starting_volumes_dir,all_paths)\n",
    "all_paths"
   ]
  },
  {
   "cell_type": "code",
   "execution_count": 99,
   "metadata": {},
   "outputs": [
    {
     "name": "stdout",
     "output_type": "stream",
     "text": [
      "The file: \"./volumes/Volume_1/page_13.hocr\" has been created\n",
      "Before the INTERRUPT, this file was being created: ./volumes/Volume_1/page_207.hocr\n",
      "This file is now being deleted.\n"
     ]
    }
   ],
   "source": [
    "\n",
    "#input_page = './volumes/Volume_1/page_304'#Path to the ./INPUT_page.png file.\n",
    "#output_page = './volumes/Volume_1/page_304' #Path to the ./OUTPUT_page.png file. Decide to save in the same\n",
    "# location , however it will be saved with a different extension, in fact it will have .hocr\n",
    "try:\n",
    "    for input_page, output_page in zip(all_paths,all_paths):\n",
    "        if not os.path.exists(str(output_page+'.hocr')):\n",
    "            command = 'tesseract  '+str(input_page)+' '+str(output_page)+' -l eng hocr'\n",
    "            process = subprocess.Popen(command.split(), stdout=subprocess.PIPE)\n",
    "            output, error = process.communicate()\n",
    "            print(\"The file: \\\"%s\\\" has been created\" %(str(output_page+'.hocr')))\n",
    "except KeyboardInterrupt:\n",
    "    if(os.path.exists(str(output_page+'.hocr'))):\n",
    "        print(\"Before the INTERRUPT, this file was being created: \"+str(output_page+'.hocr'))\n",
    "        print(\"This file is now being deleted.\")\n",
    "        os.remove(output_page+'.hocr')"
   ]
  },
  {
   "cell_type": "code",
   "execution_count": 12,
   "metadata": {},
   "outputs": [],
   "source": [
    "\n",
    "# To have an idea of what tesseract segmented, you can use the java api to visualize the segmented blocks.\n",
    "# Run it in the JPageViewer 1.3 (Linux, 64 bit) director on the desktop.\n",
    "# Run: java -jar JPageViewer.jar \"example/OUTPUT_page.hocr\" \"example/INPUT_page.png\"\n",
    "\n",
    "input_page = './volumes/Volume_1/page_015'#Path to the ./INPUT_page.png file.\n",
    "output_page = './volumes/Volume_1/page_015' #Path to the ./OUTPUT_page.png file. Decide to save in the same\n",
    "output_page=output_page+'.hocr'\n",
    "command = 'java -jar /home/fla/Desktop/JPageViewer_Linux_64_bit/JPageViewer.jar '+str(output_page)+' '+str(input_page)\n",
    "process = subprocess.Popen(command.split(), stdout=subprocess.PIPE)\n",
    "output, error = process.communicate()"
   ]
  },
  {
   "cell_type": "markdown",
   "metadata": {},
   "source": [
    "## 2 - Use the .hocr files to split the images."
   ]
  },
  {
   "cell_type": "code",
   "execution_count": 19,
   "metadata": {},
   "outputs": [],
   "source": [
    "num_page='13'\n",
    "input_page = '../volumes/Volume_1/page_'+str(num_page) #Path to the ./INPUT_page.png file.\n",
    "output_page = '../volumes/Volume_1/page_'+str(num_page)+'.hocr' #Path to the ./OUTPUT_page.png file."
   ]
  },
  {
   "cell_type": "code",
   "execution_count": 20,
   "metadata": {},
   "outputs": [],
   "source": [
    "original_file = Image.open(input_page)\n",
    "hocr_file = open(output_page, \"r\")\n",
    "#print(f.read())"
   ]
  },
  {
   "cell_type": "code",
   "execution_count": 21,
   "metadata": {
    "collapsed": true
   },
   "outputs": [
    {
     "data": {
      "text/plain": [
       "'<?xml version=\"1.0\" encoding=\"UTF-8\"?>\\n<!DOCTYPE html PUBLIC \"-//W3C//DTD XHTML 1.0 Transitional//EN\"\\n    \"http://www.w3.org/TR/xhtml1/DTD/xhtml1-transitional.dtd\">\\n<html lang=\"en\" xml:lang=\"en\" xmlns=\"http://www.w3.org/1999/xhtml\">\\n <head>\\n  <title>\\n  </title>\\n  <meta content=\"text/html;charset=utf-8\" http-equiv=\"Content-Type\"/>\\n  <meta content=\"tesseract 3.04.01\" name=\"ocr-system\"/>\\n  <meta content=\"ocr_page ocr_carea ocr_par ocr_line ocrx_word\" name=\"ocr-capabilities\"/>\\n </head>\\n <body>\\n  <div class=\"ocr_page\" id=\"page_1\" title=\\'image \"./volumes/Volume_1/page_13\"; bbox 0 0 750 1197; ppageno 0\\'>\\n   <div class=\"ocr_carea\" id=\"block_1_1\" title=\"bbox 53 84 72 98\">\\n    <p class=\"ocr_par\" dir=\"ltr\" id=\"par_1_1\" title=\"bbox 53 84 72 98\">\\n     <span class=\"ocr_line\" id=\"line_1_1\" title=\"bbox 53 84 72 98; baseline 0.053 -1; x_size 20; x_descenders 5; x_ascenders 5\">\\n      <span class=\"ocrx_word\" id=\"word_1_1\" lang=\"eng\" title=\"bbox 53 84 72 98; x_wconf 70\">\\n       21\\n      </span>\\n     </span>\\n    </p>\\n   </div>\\n   <div class=\"ocr_carea\" id=\"block_1_2\" title=\"bbox 52 120 114 134\">\\n    <p class=\"ocr_par\" dir=\"ltr\" id=\"par_1_2\" title=\"bbox 52 120 114 134\">\\n     <span class=\"ocr_line\" id=\"line_1_2\" title=\"bbox 52 120 114 134; baseline -0.016 -2; x_size 22.75; x_descenders 5.5; x_ascenders 5.75\">\\n      <span class=\"ocrx_word\" dir=\"ltr\" id=\"word_1_2\" lang=\"eng\" title=\"bbox 52 120 114 134; x_wconf 59\">\\n       SLNM\\'EJ\\n      </span>\\n     </span>\\n    </p>\\n   </div>\\n   <div class=\"ocr_carea\" id=\"block_1_3\" title=\"bbox 89 110 178 113\">\\n    <p class=\"ocr_par\" dir=\"ltr\" id=\"par_1_3\" title=\"bbox 89 110 178 113\">\\n     <span class=\"ocr_line\" id=\"line_1_3\" title=\"bbox 89 110 178 113; baseline 0 0; x_size 1.5; x_descenders -0.75; x_ascenders 0.75\">\\n      <span class=\"ocrx_word\" dir=\"ltr\" id=\"word_1_3\" lang=\"eng\" title=\"bbox 89 110 178 113; x_wconf 95\">\\n      </span>\\n     </span>\\n    </p>\\n   </div>\\n   <div class=\"ocr_carea\" id=\"block_1_4\" title=\"bbox 200 77 553 96\">\\n    <p class=\"ocr_par\" dir=\"ltr\" id=\"par_1_4\" title=\"bbox 200 77 553 96\">\\n     <span class=\"ocr_line\" id=\"line_1_4\" title=\"bbox 200 77 553 96; baseline -0.011 0; x_size 20; x_descenders 5; x_ascenders 5\">\\n      <span class=\"ocrx_word\" dir=\"ltr\" id=\"word_1_4\" lang=\"eng\" title=\"bbox 200 80 274 96; x_wconf 56\">\\n       “ALICE\\n      </span>\\n      <span class=\"ocrx_word\" dir=\"ltr\" id=\"word_1_5\" lang=\"eng\" title=\"bbox 291 81 307 95; x_wconf 55\">\\n       <strong>\\n        <em>\\n         k\\n        </em>\\n       </strong>\\n      </span>\\n      <span class=\"ocrx_word\" dir=\"ltr\" id=\"word_1_6\" lang=\"eng\" title=\"bbox 324 78 436 94; x_wconf 52\">\\n       SICATON‘S\\n      </span>\\n      <span class=\"ocrx_word\" dir=\"ltr\" id=\"word_1_7\" lang=\"eng\" title=\"bbox 452 77 553 94; x_wconf 64\">\\n       lll.\"l\\'011)’\\n      </span>\\n     </span>\\n    </p>\\n   </div>\\n   <div class=\"ocr_carea\" id=\"block_1_5\" title=\"bbox 340 107 384 109\">\\n    <p class=\"ocr_par\" dir=\"ltr\" id=\"par_1_5\" title=\"bbox 340 107 384 109\">\\n     <span class=\"ocr_line\" id=\"line_1_5\" title=\"bbox 340 107 384 109; baseline 0 0; x_size 1; x_descenders -0.5; x_ascenders 0.5\">\\n      <span class=\"ocrx_word\" dir=\"ltr\" id=\"word_1_8\" lang=\"eng\" title=\"bbox 340 107 384 109; x_wconf 95\">\\n      </span>\\n     </span>\\n    </p>\\n   </div>\\n   <div class=\"ocr_carea\" id=\"block_1_6\" title=\"bbox 334 115 421 130\">\\n    <p class=\"ocr_par\" dir=\"ltr\" id=\"par_1_6\" title=\"bbox 334 115 421 130\">\\n     <span class=\"ocr_line\" id=\"line_1_6\" title=\"bbox 334 115 421 130; baseline 0 -3; x_size 25.5; x_descenders 6; x_ascenders 6.5\">\\n      <span class=\"ocrx_word\" dir=\"ltr\" id=\"word_1_9\" lang=\"eng\" title=\"bbox 334 115 411 130; x_wconf 61\">\\n       <em>\\n        pmmmg\\n       </em>\\n      </span>\\n      <span class=\"ocrx_word\" dir=\"ltr\" id=\"word_1_10\" lang=\"eng\" title=\"bbox 419 125 421 127; x_wconf 26\">\\n       <strong>\\n        V\\n       </strong>\\n      </span>\\n     </span>\\n    </p>\\n   </div>\\n   <div class=\"ocr_carea\" id=\"block_1_7\" title=\"bbox 658 103 707 105\">\\n    <p class=\"ocr_par\" dir=\"ltr\" id=\"par_1_7\" title=\"bbox 658 103 707 105\">\\n     <span class=\"ocr_line\" id=\"line_1_7\" title=\"bbox 658 103 707 105; baseline 0 0; x_size 1; x_descenders -0.5; x_ascenders 0.5\">\\n      <span class=\"ocrx_word\" dir=\"ltr\" id=\"word_1_11\" lang=\"eng\" title=\"bbox 658 103 707 105; x_wconf 95\">\\n      </span>\\n     </span>\\n    </p>\\n   </div>\\n   <div class=\"ocr_carea\" id=\"block_1_8\" title=\"bbox 687 76 707 90\">\\n    <p class=\"ocr_par\" dir=\"ltr\" id=\"par_1_8\" title=\"bbox 687 76 707 90\">\\n     <span class=\"ocr_line\" id=\"line_1_8\" title=\"bbox 687 76 707 90; baseline 0 0; x_size 20; x_descenders 5; x_ascenders 5\">\\n      <span class=\"ocrx_word\" id=\"word_1_12\" lang=\"eng\" title=\"bbox 687 76 707 90; x_wconf 69\">\\n       22\\n      </span>\\n     </span>\\n    </p>\\n   </div>\\n   <div class=\"ocr_carea\" id=\"block_1_9\" title=\"bbox 619 113 706 126\">\\n    <p class=\"ocr_par\" dir=\"ltr\" id=\"par_1_9\" title=\"bbox 619 113 706 126\">\\n     <span class=\"ocr_line\" id=\"line_1_9\" title=\"bbox 619 113 706 126; baseline -0.011 -2; x_size 20; x_descenders 5; x_ascenders 5\">\\n      <span class=\"ocrx_word\" dir=\"ltr\" id=\"word_1_13\" lang=\"eng\" title=\"bbox 619 113 664 126; x_wconf 74\">\\n       Am...\\n      </span>\\n      <span class=\"ocrx_word\" dir=\"ltr\" id=\"word_1_14\" lang=\"eng\" title=\"bbox 672 113 706 124; x_wconf 72\">\\n       I789.\\n      </span>\\n     </span>\\n    </p>\\n   </div>\\n   <div class=\"ocr_carea\" id=\"block_1_10\" title=\"bbox 469 106 500 108\">\\n    <p class=\"ocr_par\" dir=\"ltr\" id=\"par_1_10\" title=\"bbox 469 106 500 108\">\\n     <span class=\"ocr_line\" id=\"line_1_10\" title=\"bbox 469 106 500 108; baseline 0 0; x_size 1; x_descenders -0.5; x_ascenders 0.5\">\\n      <span class=\"ocrx_word\" dir=\"ltr\" id=\"word_1_15\" lang=\"eng\" title=\"bbox 469 106 500 108; x_wconf 95\">\\n      </span>\\n     </span>\\n    </p>\\n   </div>\\n   <div class=\"ocr_carea\" id=\"block_1_11\" title=\"bbox 53 131 704 142\">\\n    <p class=\"ocr_par\" dir=\"ltr\" id=\"par_1_11\" title=\"bbox 53 131 704 142\">\\n     <span class=\"ocr_line\" id=\"line_1_11\" title=\"bbox 53 131 704 142; baseline 0 0; x_size 5.5; x_descenders -2.75; x_ascenders 2.75\">\\n      <span class=\"ocrx_word\" dir=\"ltr\" id=\"word_1_16\" lang=\"eng\" title=\"bbox 53 131 704 142; x_wconf 95\">\\n      </span>\\n     </span>\\n    </p>\\n   </div>\\n   <div class=\"ocr_carea\" id=\"block_1_12\" title=\"bbox 51 150 374 796\">\\n    <p class=\"ocr_par\" dir=\"ltr\" id=\"par_1_12\" title=\"bbox 51 150 371 182\">\\n     <span class=\"ocr_line\" id=\"line_1_12\" title=\"bbox 51 150 371 167; baseline -0.016 -3; x_size 21.25; x_descenders 5.5; x_ascenders 5.25\">\\n      <span class=\"ocrx_word\" dir=\"ltr\" id=\"word_1_17\" lang=\"eng\" title=\"bbox 51 154 67 164; x_wconf 67\">\\n       I...\\n      </span>\\n      <span class=\"ocrx_word\" dir=\"ltr\" id=\"word_1_18\" lang=\"eng\" title=\"bbox 71 154 90 163; x_wconf 65\">\\n       .h.»\\n      </span>\\n      <span class=\"ocrx_word\" dir=\"ltr\" id=\"word_1_19\" lang=\"eng\" title=\"bbox 94 153 145 167; x_wconf 61\">\\n       1mm...\\n      </span>\\n      <span class=\"ocrx_word\" dir=\"ltr\" id=\"word_1_20\" lang=\"eng\" title=\"bbox 150 152 204 166; x_wconf 67\">\\n       question,\\n      </span>\\n      <span class=\"ocrx_word\" id=\"word_1_21\" lang=\"eng\" title=\"bbox 209 155 219 162; x_wconf 78\">\\n       0|\\n      </span>\\n      <span class=\"ocrx_word\" dir=\"ltr\" id=\"word_1_22\" lang=\"eng\" title=\"bbox 227 151 243 161; x_wconf 71\">\\n       i...\\n      </span>\\n      <span class=\"ocrx_word\" dir=\"ltr\" id=\"word_1_23\" lang=\"eng\" title=\"bbox 247 152 315 164; x_wconf 59\">\\n       punpumhg\\n      </span>\\n      <span class=\"ocrx_word\" dir=\"ltr\" id=\"word_1_24\" lang=\"eng\" title=\"bbox 320 150 339 160; x_wconf 66\">\\n       um\\n      </span>\\n      <span class=\"ocrx_word\" dir=\"ltr\" id=\"word_1_25\" lang=\"eng\" title=\"bbox 343 150 371 160; x_wconf 65\">\\n       um...\\n      </span>\\n     </span>\\n     <span class=\"ocr_line\" id=\"line_1_13\" title=\"bbox 51 165 297 182; baseline -0.012 -4; x_size 21.25; x_descenders 5.5; x_ascenders 5.25\">\\n      <span class=\"ocrx_word\" dir=\"ltr\" id=\"word_1_26\" lang=\"eng\" title=\"bbox 51 168 105 182; x_wconf 54\">\\n       queﬂiau,\\n      </span>\\n      <span class=\"ocrx_word\" dir=\"ltr\" id=\"word_1_27\" lang=\"eng\" title=\"bbox 112 171 124 178; x_wconf 66\">\\n       h.\\n      </span>\\n      <span class=\"ocrx_word\" dir=\"ltr\" id=\"word_1_28\" lang=\"eng\" title=\"bbox 129 169 140 177; x_wconf 67\">\\n       In\\n      </span>\\n      <span class=\"ocrx_word\" dir=\"ltr\" id=\"word_1_29\" lang=\"eng\" title=\"bbox 146 167 190 177; x_wconf 62\">\\n       <strong>\\n        commit\\n       </strong>\\n      </span>\\n      <span class=\"ocrx_word\" dir=\"ltr\" id=\"word_1_30\" lang=\"eng\" title=\"bbox 195 168 207 179; x_wconf 68\">\\n       n,\\n      </span>\\n      <span class=\"ocrx_word\" dir=\"ltr\" id=\"word_1_31\" lang=\"eng\" title=\"bbox 214 169 226 176; x_wconf 70\">\\n       or\\n      </span>\\n      <span class=\"ocrx_word\" dir=\"ltr\" id=\"word_1_32\" lang=\"eng\" title=\"bbox 231 167 242 175; x_wconf 77\">\\n       <strong>\\n        m\\n       </strong>\\n      </span>\\n      <span class=\"ocrx_word\" dir=\"ltr\" id=\"word_1_33\" lang=\"eng\" title=\"bbox 248 165 297 179; x_wconf 66\">\\n       .dju......\\n      </span>\\n     </span>\\n    </p>\\n    <p class=\"ocr_par\" dir=\"ltr\" id=\"par_1_13\" title=\"bbox 51 179 372 239\">\\n     <span class=\"ocr_line\" id=\"line_1_14\" title=\"bbox 65 179 372 195; baseline -0.016 -2; x_size 21.25; x_descenders 5.5; x_ascenders 5.25\">\\n      <span class=\"ocrx_word\" dir=\"ltr\" id=\"word_1_34\" lang=\"eng\" title=\"bbox 65 184 79 193; x_wconf 78\">\\n       IX\\n      </span>\\n      <span class=\"ocrx_word\" dir=\"ltr\" id=\"word_1_35\" lang=\"eng\" title=\"bbox 93 182 117 192; x_wconf 79\">\\n       The\\n      </span>\\n      <span class=\"ocrx_word\" dir=\"ltr\" id=\"word_1_36\" lang=\"eng\" title=\"bbox 123 181 174 195; x_wconf 60\">\\n       previom\\n      </span>\\n      <span class=\"ocrx_word\" dir=\"ltr\" id=\"word_1_37\" lang=\"eng\" title=\"bbox 182 183 232 194; x_wconf 55\">\\n       mm...\"\\n      </span>\\n      <span class=\"ocrx_word\" dir=\"ltr\" id=\"word_1_38\" lang=\"eng\" title=\"bbox 240 180 275 193; x_wconf 71\">\\n       hexng\\n      </span>\\n      <span class=\"ocrx_word\" dir=\"ltr\" id=\"word_1_39\" lang=\"eng\" title=\"bbox 282 183 299 189; x_wconf 71\">\\n       h...\\n      </span>\\n      <span class=\"ocrx_word\" id=\"word_1_40\" lang=\"eng\" title=\"bbox 311 179 372 189; x_wconf 37\">\\n       «1......»\\n      </span>\\n     </span>\\n     <span class=\"ocr_line\" id=\"line_1_15\" title=\"bbox 51 193 372 210; baseline -0.012 -3; x_size 21.25; x_descenders 5.5; x_ascenders 5.25\">\\n      <span class=\"ocrx_word\" dir=\"ltr\" id=\"word_1_41\" lang=\"eng\" title=\"bbox 51 197 97 209; x_wconf 65\">\\n       condrd,\\n      </span>\\n      <span class=\"ocrx_word\" dir=\"ltr\" id=\"word_1_42\" lang=\"eng\" title=\"bbox 103 197 121 206; x_wconf 69\">\\n       1h:\\n      </span>\\n      <span class=\"ocrx_word\" dir=\"ltr\" id=\"word_1_43\" lang=\"eng\" title=\"bbox 127 198 178 210; x_wconf 55\">\\n       qucauuu\\n      </span>\\n      <span class=\"ocrx_word\" dir=\"ltr\" id=\"word_1_44\" lang=\"eng\" title=\"bbox 183 195 210 206; x_wconf 73\">\\n       I\\'mm\\n      </span>\\n      <span class=\"ocrx_word\" dir=\"ltr\" id=\"word_1_45\" lang=\"eng\" title=\"bbox 215 195 232 204; x_wconf 70\">\\n       .h.\\n      </span>\\n      <span class=\"ocrx_word\" dir=\"ltr\" id=\"word_1_46\" lang=\"eng\" title=\"bbox 238 194 268 204; x_wconf 62\">\\n       uh...\\n      </span>\\n      <span class=\"ocrx_word\" dir=\"ltr\" id=\"word_1_47\" lang=\"eng\" title=\"bbox 273 194 299 204; x_wconf 62\">\\n       huh\\n      </span>\\n      <span class=\"ocrx_word\" dir=\"ltr\" id=\"word_1_48\" lang=\"eng\" title=\"bbox 305 194 324 204; x_wconf 63\">\\n       hcv\\n      </span>\\n      <span class=\"ocrx_word\" dir=\"ltr\" id=\"word_1_49\" lang=\"eng\" title=\"bbox 331 193 372 204; x_wconf 55\">\\n       ush-ul\\n      </span>\\n     </span>\\n     <span class=\"ocr_line\" id=\"line_1_16\" title=\"bbox 52 208 372 224; baseline -0.016 -2; x_size 21.25; x_descenders 5.5; x_ascenders 5.25\">\\n      <span class=\"ocrx_word\" dir=\"ltr\" id=\"word_1_50\" lang=\"eng\" title=\"bbox 52 212 69 222; x_wconf 72\">\\n       lhc\\n      </span>\\n      <span class=\"ocrx_word\" dir=\"ltr\" id=\"word_1_51\" lang=\"eng\" title=\"bbox 75 215 85 221; x_wconf 82\">\\n       m\\n      </span>\\n      <span class=\"ocrx_word\" id=\"word_1_52\" lang=\"eng\" title=\"bbox 97 214 103 221; x_wconf 91\">\\n       ..\\n      </span>\\n      <span class=\"ocrx_word\" dir=\"ltr\" id=\"word_1_53\" lang=\"eng\" title=\"bbox 109 210 159 224; x_wconf 63\">\\n       qucminn\\n      </span>\\n      <span class=\"ocrx_word\" id=\"word_1_54\" lang=\"eng\" title=\"bbox 166 210 179 220; x_wconf 56\">\\n       1..\\n      </span>\\n      <span class=\"ocrx_word\" dir=\"ltr\" id=\"word_1_55\" lang=\"eng\" title=\"bbox 188 213 212 219; x_wconf 73\">\\n       now\\n      </span>\\n      <span class=\"ocrx_word\" dir=\"ltr\" id=\"word_1_56\" lang=\"eng\" title=\"bbox 221 209 254 222; x_wconf 50\">\\n       pm“-\\n      </span>\\n      <span class=\"ocrx_word\" dir=\"ltr\" id=\"word_1_57\" lang=\"eng\" title=\"bbox 270 209 295 219; x_wconf 63\">\\n       A...\\n      </span>\\n      <span class=\"ocrx_word\" id=\"word_1_58\" lang=\"eng\" title=\"bbox 303 208 312 218; x_wconf 67\">\\n       .1\\n      </span>\\n      <span class=\"ocrx_word\" dir=\"ltr\" id=\"word_1_59\" lang=\"eng\" title=\"bbox 318 208 337 218; x_wconf 70\">\\n       the\\n      </span>\\n      <span class=\"ocrx_word\" id=\"word_1_60\" lang=\"eng\" title=\"bbox 346 211 348 218; x_wconf 95\">\\n       .\\n      </span>\\n      <span class=\"ocrx_word\" dir=\"ltr\" id=\"word_1_61\" lang=\"eng\" title=\"bbox 359 211 372 221; x_wconf 60\">\\n       y.\\n      </span>\\n     </span>\\n     <span class=\"ocr_line\" id=\"line_1_17\" title=\"bbox 52 223 336 239; baseline -0.014 -3; x_size 21.25; x_descenders 5.5; x_ascenders 5.25\">\\n      <span class=\"ocrx_word\" dir=\"ltr\" id=\"word_1_62\" lang=\"eng\" title=\"bbox 52 225 96 239; x_wconf 60\">\\n       men“,\\n      </span>\\n      <span class=\"ocrx_word\" dir=\"ltr\" id=\"word_1_63\" lang=\"eng\" title=\"bbox 102 225 120 235; x_wconf 46\">\\n       «he\\n      </span>\\n      <span class=\"ocrx_word\" dir=\"ltr\" id=\"word_1_64\" lang=\"eng\" title=\"bbox 126 228 154 235; x_wconf 69\">\\n       mam\\n      </span>\\n      <span class=\"ocrx_word\" dir=\"ltr\" id=\"word_1_65\" lang=\"eng\" title=\"bbox 161 224 211 238; x_wconf 61\">\\n       .hmsrmh\\n      </span>\\n      <span class=\"ocrx_word\" dir=\"ltr\" id=\"word_1_66\" lang=\"eng\" title=\"bbox 216 223 243 233; x_wconf 59\">\\n       5h.“\\n      </span>\\n      <span class=\"ocrx_word\" dir=\"ltr\" id=\"word_1_67\" lang=\"eng\" title=\"bbox 248 224 268 233; x_wconf 57\">\\n       n...\\n      </span>\\n      <span class=\"ocrx_word\" dir=\"ltr\" id=\"word_1_68\" lang=\"eng\" title=\"bbox 273 223 299 233; x_wconf 68\">\\n       (he).\\n      </span>\\n      <span class=\"ocrx_word\" dir=\"ltr\" id=\"word_1_69\" lang=\"eng\" title=\"bbox 303 223 317 232; x_wconf 73\">\\n       he\\n      </span>\\n      <span class=\"ocrx_word\" id=\"word_1_70\" lang=\"eng\" title=\"bbox 322 226 336 236; x_wconf 64\">\\n       1...\\n      </span>\\n     </span>\\n    </p>\\n    <p class=\"ocr_par\" dir=\"ltr\" id=\"par_1_14\" title=\"bbox 51 237 371 267\">\\n     <span class=\"ocr_line\" id=\"line_1_18\" title=\"bbox 65 237 371 254; baseline -0.013 -4; x_size 21.25; x_descenders 5.5; x_ascenders 5.25\">\\n      <span class=\"ocrx_word\" dir=\"ltr\" id=\"word_1_71\" lang=\"eng\" title=\"bbox 65 241 74 250; x_wconf 81\">\\n       <strong>\\n        x\\n       </strong>\\n      </span>\\n      <span class=\"ocrx_word\" dir=\"ltr\" id=\"word_1_72\" lang=\"eng\" title=\"bbox 87 240 99 250; x_wconf 75\">\\n       <strong>\\n        n\\n       </strong>\\n      </span>\\n      <span class=\"ocrx_word\" dir=\"ltr\" id=\"word_1_73\" lang=\"eng\" title=\"bbox 104 244 110 250; x_wconf 60\">\\n       <strong>\\n        a\\n       </strong>\\n      </span>\\n      <span class=\"ocrx_word\" dir=\"ltr\" id=\"word_1_74\" lang=\"eng\" title=\"bbox 115 241 166 254; x_wconf 56\">\\n       qumuh\\n      </span>\\n      <span class=\"ocrx_word\" id=\"word_1_75\" lang=\"eng\" title=\"bbox 172 242 182 248; x_wconf 87\">\\n       ...\\n      </span>\\n      <span class=\"ocrx_word\" dir=\"ltr\" id=\"word_1_76\" lang=\"eng\" title=\"bbox 188 238 228 248; x_wconf 58\">\\n       Mm\\n      </span>\\n      <span class=\"ocrx_word\" dir=\"ltr\" id=\"word_1_77\" lang=\"eng\" title=\"bbox 234 239 277 248; x_wconf 70\">\\n       coma.“\\n      </span>\\n      <span class=\"ocrx_word\" dir=\"ltr\" id=\"word_1_78\" lang=\"eng\" title=\"bbox 283 237 325 248; x_wconf 48\">\\n       sacral\\n      </span>\\n      <span class=\"ocrx_word\" dir=\"ltr\" id=\"word_1_79\" lang=\"eng\" title=\"bbox 331 238 371 250; x_wconf 71\">\\n       pmms,\\n      </span>\\n     </span>\\n     <span class=\"ocr_line\" id=\"line_1_19\" title=\"bbox 51 252 297 267; baseline -0.008 -3; x_size 21.25; x_descenders 5.5; x_ascenders 5.25\">\\n      <span class=\"ocrx_word\" dir=\"ltr\" id=\"word_1_80\" lang=\"eng\" title=\"bbox 51 258 71 267; x_wconf 67\">\\n       .ny-\\n      </span>\\n      <span class=\"ocrx_word\" dir=\"ltr\" id=\"word_1_81\" lang=\"eng\" title=\"bbox 77 255 126 264; x_wconf 70\">\\n       <strong>\\n        mambcr\\n       </strong>\\n      </span>\\n      <span class=\"ocrx_word\" dir=\"ltr\" id=\"word_1_82\" lang=\"eng\" title=\"bbox 132 257 155 267; x_wconf 60\">\\n       my\\n      </span>\\n      <span class=\"ocrx_word\" dir=\"ltr\" id=\"word_1_83\" lang=\"eng\" title=\"bbox 161 254 188 263; x_wconf 70\">\\n       lvwc\\n      </span>\\n      <span class=\"ocrx_word\" dir=\"ltr\" id=\"word_1_84\" lang=\"eng\" title=\"bbox 194 253 213 263; x_wconf 64\">\\n       the\\n      </span>\\n      <span class=\"ocrx_word\" dir=\"ltr\" id=\"word_1_85\" lang=\"eng\" title=\"bbox 218 256 247 263; x_wconf 62\">\\n       Mme\\n      </span>\\n      <span class=\"ocrx_word\" dir=\"ltr\" id=\"word_1_86\" lang=\"eng\" title=\"bbox 253 252 297 262; x_wconf 63\">\\n       ahmx\\n      </span>\\n     </span>\\n    </p>\\n    <p class=\"ocr_par\" dir=\"ltr\" id=\"par_1_15\" title=\"bbox 51 265 373 383\">\\n     <span class=\"ocr_line\" id=\"line_1_20\" title=\"bbox 65 265 370 281; baseline -0.013 -2; x_size 21.25; x_descenders 5.5; x_ascenders 5.25\">\\n      <span class=\"ocrx_word\" dir=\"ltr\" id=\"word_1_87\" lang=\"eng\" title=\"bbox 65 269 80 279; x_wconf 77\">\\n       x1\\n      </span>\\n      <span class=\"ocrx_word\" dir=\"ltr\" id=\"word_1_88\" lang=\"eng\" title=\"bbox 94 268 170 281; x_wconf 67\">\\n       thn‘hcyc\\n      </span>\\n      <span class=\"ocrx_word\" dir=\"ltr\" id=\"word_1_89\" lang=\"eng\" title=\"bbox 194 267 229 280; x_wconf 51\">\\n       “a...\\n      </span>\\n      <span class=\"ocrx_word\" dir=\"ltr\" id=\"word_1_90\" lang=\"eng\" title=\"bbox 244 266 330 277; x_wconf 61\">\\n       &gt;1u‘llmcalkd\\n      </span>\\n      <span class=\"ocrx_word\" dir=\"ltr\" id=\"word_1_91\" lang=\"eng\" title=\"bbox 336 265 370 278; x_wconf 81\">\\n       r...-hy\\n      </span>\\n     </span>\\n     <span class=\"ocr_line\" id=\"line_1_21\" title=\"bbox 51 280 369 293; baseline -0.013 0; x_size 21.25; x_descenders 5.5; x_ascenders 5.25\">\\n      <span class=\"ocrx_word\" dir=\"ltr\" id=\"word_1_92\" lang=\"eng\" title=\"bbox 51 283 101 293; x_wconf 60\">\\n       (mg-link\\n      </span>\\n      <span class=\"ocrx_word\" dir=\"ltr\" id=\"word_1_93\" lang=\"eng\" title=\"bbox 112 282 124 293; x_wconf 60\">\\n       of\\n      </span>\\n      <span class=\"ocrx_word\" dir=\"ltr\" id=\"word_1_94\" lang=\"eng\" title=\"bbox 133 282 152 292; x_wconf 77\">\\n       .h-,\\n      </span>\\n      <span class=\"ocrx_word\" dir=\"ltr\" id=\"word_1_95\" lang=\"eng\" title=\"bbox 162 282 217 292; x_wconf 71\">\\n       <strong>\\n        membms\\n       </strong>\\n      </span>\\n      <span class=\"ocrx_word\" dir=\"ltr\" id=\"word_1_96\" lang=\"eng\" title=\"bbox 241 282 275 293; x_wconf 60\">\\n       mm,\\n      </span>\\n      <span class=\"ocrx_word\" dir=\"ltr\" id=\"word_1_97\" lang=\"eng\" title=\"bbox 286 280 312 291; x_wconf 50\">\\n       and.\\n      </span>\\n      <span class=\"ocrx_word\" dir=\"ltr\" id=\"word_1_98\" lang=\"eng\" title=\"bbox 323 280 369 290; x_wconf 71\">\\n       munhm\\n      </span>\\n     </span>\\n     <span class=\"ocr_line\" id=\"line_1_22\" title=\"bbox 51 294 372 311; baseline -0.012 -3; x_size 21.25; x_descenders 5.5; x_ascenders 5.25\">\\n      <span class=\"ocrx_word\" dir=\"ltr\" id=\"word_1_99\" lang=\"eng\" title=\"bbox 51 298 86 308; x_wconf 61\">\\n       <strong>\\n        ruled\\n       </strong>\\n      </span>\\n      <span class=\"ocrx_word\" dir=\"ltr\" id=\"word_1_100\" lang=\"eng\" title=\"bbox 92 300 121 311; x_wconf 56\">\\n       up...\\n      </span>\\n      <span class=\"ocrx_word\" dir=\"ltr\" id=\"word_1_101\" lang=\"eng\" title=\"bbox 129 297 160 309; x_wconf 74\">\\n       shall,\\n      </span>\\n      <span class=\"ocrx_word\" dir=\"ltr\" id=\"word_1_102\" lang=\"eng\" title=\"bbox 168 297 205 307; x_wconf 50\">\\n       “hug...\\n      </span>\\n      <span class=\"ocrx_word\" dir=\"ltr\" id=\"word_1_103\" lang=\"eng\" title=\"bbox 213 296 229 306; x_wconf 70\">\\n       fnr\\n      </span>\\n      <span class=\"ocrx_word\" dir=\"ltr\" id=\"word_1_104\" lang=\"eng\" title=\"bbox 237 299 267 309; x_wconf 64\">\\n       spam\\n      </span>\\n      <span class=\"ocrx_word\" id=\"word_1_105\" lang=\"eng\" title=\"bbox 271 295 278 305; x_wconf 72\">\\n       .1\\n      </span>\\n      <span class=\"ocrx_word\" dir=\"ltr\" id=\"word_1_106\" lang=\"eng\" title=\"bbox 286 298 330 305; x_wconf 59\">\\n       masons\\n      </span>\\n      <span class=\"ocrx_word\" dir=\"ltr\" id=\"word_1_107\" lang=\"eng\" title=\"bbox 336 294 350 305; x_wconf 68\">\\n       he\\n      </span>\\n      <span class=\"ocrx_word\" dir=\"ltr\" id=\"word_1_108\" lang=\"eng\" title=\"bbox 358 294 372 304; x_wconf 60\">\\n       I):\\n      </span>\\n     </span>\\n     <span class=\"ocr_line\" id=\"line_1_23\" title=\"bbox 51 309 373 325; baseline -0.012 -3; x_size 21.25; x_descenders 5.5; x_ascenders 5.25\">\\n      <span class=\"ocrx_word\" dir=\"ltr\" id=\"word_1_109\" lang=\"eng\" title=\"bbox 51 312 100 322; x_wconf 50\">\\n       much\\n      </span>\\n      <span class=\"ocrx_word\" dir=\"ltr\" id=\"word_1_110\" lang=\"eng\" title=\"bbox 105 312 119 325; x_wconf 80\">\\n       by\\n      </span>\\n      <span class=\"ocrx_word\" dir=\"ltr\" id=\"word_1_111\" lang=\"eng\" title=\"bbox 124 311 143 321; x_wconf 55\">\\n       .h.\\n      </span>\\n      <span class=\"ocrx_word\" dir=\"ltr\" id=\"word_1_112\" lang=\"eng\" title=\"bbox 150 312 193 323; x_wconf 61\">\\n       5mm,\\n      </span>\\n      <span class=\"ocrx_word\" dir=\"ltr\" id=\"word_1_113\" lang=\"eng\" title=\"bbox 200 311 247 323; x_wconf 64\">\\n       <strong>\\n        dcclm,\\n       </strong>\\n      </span>\\n      <span class=\"ocrx_word\" dir=\"ltr\" id=\"word_1_114\" lang=\"eng\" title=\"bbox 254 310 293 323; x_wconf 60\">\\n       <strong>\\n        openly\\n       </strong>\\n      </span>\\n      <span class=\"ocrx_word\" dir=\"ltr\" id=\"word_1_115\" lang=\"eng\" title=\"bbox 300 309 373 319; x_wconf 62\">\\n       huhwhhu...\\n      </span>\\n     </span>\\n     <span class=\"ocr_line\" id=\"line_1_24\" title=\"bbox 51 324 371 338; baseline -0.013 -2; x_size 21.25; x_descenders 5.5; x_ascenders 5.25\">\\n      <span class=\"ocrx_word\" dir=\"ltr\" id=\"word_1_116\" lang=\"eng\" title=\"bbox 51 326 94 338; x_wconf 52\">\\n       dam.\\n      </span>\\n      <span class=\"ocrx_word\" dir=\"ltr\" id=\"word_1_117\" lang=\"eng\" title=\"bbox 104 326 119 336; x_wconf 71\">\\n       h‘w\\n      </span>\\n      <span class=\"ocrx_word\" dir=\"ltr\" id=\"word_1_118\" lang=\"eng\" title=\"bbox 128 327 165 336; x_wconf 55\">\\n       want\\n      </span>\\n      <span class=\"ocrx_word\" dir=\"ltr\" id=\"word_1_119\" lang=\"eng\" title=\"bbox 173 329 185 336; x_wconf 73\">\\n       or\\n      </span>\\n      <span class=\"ocrx_word\" dir=\"ltr\" id=\"word_1_120\" lang=\"eng\" title=\"bbox 193 325 234 335; x_wconf 52\">\\n       dim...\\n      </span>\\n      <span class=\"ocrx_word\" dir=\"ltr\" id=\"word_1_121\" lang=\"eng\" title=\"bbox 242 327 254 335; x_wconf 73\">\\n       <strong>\\n        m\\n       </strong>\\n      </span>\\n      <span class=\"ocrx_word\" dir=\"ltr\" id=\"word_1_122\" lang=\"eng\" title=\"bbox 261 324 280 334; x_wconf 67\">\\n       the\\n      </span>\\n      <span class=\"ocrx_word\" dir=\"ltr\" id=\"word_1_123\" lang=\"eng\" title=\"bbox 289 326 343 337; x_wconf 59\">\\n       quqsuon.\\n      </span>\\n      <span class=\"ocrx_word\" id=\"word_1_124\" lang=\"eng\" title=\"bbox 360 324 371 333; x_wconf 67\">\\n       1..\\n      </span>\\n     </span>\\n     <span class=\"ocr_line\" id=\"line_1_25\" title=\"bbox 51 337 372 355; baseline -0.012 -4; x_size 21.25; x_descenders 5.5; x_ascenders 5.25\">\\n      <span class=\"ocrx_word\" dir=\"ltr\" id=\"word_1_125\" lang=\"eng\" title=\"bbox 51 341 90 355; x_wconf 51\">\\n       «Mn;\\n      </span>\\n      <span class=\"ocrx_word\" dir=\"ltr\" id=\"word_1_126\" lang=\"eng\" title=\"bbox 97 341 116 351; x_wconf 71\">\\n       1h:\\n      </span>\\n      <span class=\"ocrx_word\" dir=\"ltr\" id=\"word_1_127\" lang=\"eng\" title=\"bbox 121 344 147 354; x_wconf 70\">\\n       yen\\n      </span>\\n      <span class=\"ocrx_word\" dir=\"ltr\" id=\"word_1_128\" lang=\"eng\" title=\"bbox 155 340 175 350; x_wconf 69\">\\n       and\\n      </span>\\n      <span class=\"ocrx_word\" dir=\"ltr\" id=\"word_1_129\" lang=\"eng\" title=\"bbox 183 343 213 352; x_wconf 61\">\\n       Hays,\\n      </span>\\n      <span class=\"ocrx_word\" dir=\"ltr\" id=\"word_1_130\" lang=\"eng\" title=\"bbox 219 339 240 349; x_wconf 65\">\\n       ml\\n      </span>\\n      <span class=\"ocrx_word\" dir=\"ltr\" id=\"word_1_131\" lang=\"eng\" title=\"bbox 248 338 302 352; x_wconf 52\">\\n       hymn)...\\n      </span>\\n      <span class=\"ocrx_word\" dir=\"ltr\" id=\"word_1_132\" lang=\"eng\" title=\"bbox 308 338 328 348; x_wconf 64\">\\n       um\\n      </span>\\n      <span class=\"ocrx_word\" dir=\"ltr\" id=\"word_1_133\" lang=\"eng\" title=\"bbox 335 337 372 348; x_wconf 71\">\\n       ofﬂm\\n      </span>\\n     </span>\\n     <span class=\"ocr_line\" id=\"line_1_26\" title=\"bbox 51 352 372 367; baseline -0.012 -2; x_size 21.25; x_descenders 5.5; x_ascenders 5.25\">\\n      <span class=\"ocrx_word\" dir=\"ltr\" id=\"word_1_134\" lang=\"eng\" title=\"bbox 51 356 92 367; x_wconf 68\">\\n       <strong>\\n        House,\\n       </strong>\\n      </span>\\n      <span class=\"ocrx_word\" dir=\"ltr\" id=\"word_1_135\" lang=\"eng\" title=\"bbox 101 355 120 365; x_wconf 64\">\\n       the\\n      </span>\\n      <span class=\"ocrx_word\" dir=\"ltr\" id=\"word_1_136\" lang=\"eng\" title=\"bbox 128 358 165 365; x_wconf 63\">\\n       m...\\n      </span>\\n      <span class=\"ocrx_word\" dir=\"ltr\" id=\"word_1_137\" lang=\"eng\" title=\"bbox 172 354 185 364; x_wconf 69\">\\n       u!\\n      </span>\\n      <span class=\"ocrx_word\" dir=\"ltr\" id=\"word_1_138\" lang=\"eng\" title=\"bbox 192 354 211 364; x_wconf 69\">\\n       the\\n      </span>\\n      <span class=\"ocrx_word\" dir=\"ltr\" id=\"word_1_139\" lang=\"eng\" title=\"bbox 219 354 273 364; x_wconf 56\">\\n       Wham:\\n      </span>\\n      <span class=\"ocrx_word\" dir=\"ltr\" id=\"word_1_140\" lang=\"eng\" title=\"bbox 281 352 308 363; x_wconf 67\">\\n       shall\\n      </span>\\n      <span class=\"ocrx_word\" dir=\"ltr\" id=\"word_1_141\" lang=\"eng\" title=\"bbox 316 352 330 362; x_wconf 65\">\\n       be\\n      </span>\\n      <span class=\"ocrx_word\" dir=\"ltr\" id=\"word_1_142\" lang=\"eng\" title=\"bbox 339 352 372 362; x_wconf 56\">\\n       uh...\\n      </span>\\n     </span>\\n     <span class=\"ocr_line\" id=\"line_1_27\" title=\"bbox 51 369 133 383; baseline -0.012 -3; x_size 21.25; x_descenders 5.5; x_ascenders 5.25\">\\n      <span class=\"ocrx_word\" dir=\"ltr\" id=\"word_1_143\" lang=\"eng\" title=\"bbox 51 369 133 383; x_wconf 60\">\\n       alphnbeticzll)\\n      </span>\\n     </span>\\n    </p>\\n    <p class=\"ocr_par\" dir=\"ltr\" id=\"par_1_16\" title=\"bbox 51 381 371 410\">\\n     <span class=\"ocr_line\" id=\"line_1_28\" title=\"bbox 65 381 371 397; baseline -0.01 -3; x_size 21.25; x_descenders 5.5; x_ascenders 5.25\">\\n      <span class=\"ocrx_word\" dir=\"ltr\" id=\"word_1_144\" lang=\"eng\" title=\"bbox 65 385 89 394; x_wconf 66\">\\n       rm.\\n      </span>\\n      <span class=\"ocrx_word\" id=\"word_1_145\" lang=\"eng\" title=\"bbox 99 385 122 394; x_wconf 69\">\\n       0...\\n      </span>\\n      <span class=\"ocrx_word\" dir=\"ltr\" id=\"word_1_146\" lang=\"eng\" title=\"bbox 128 384 159 397; x_wconf 57\">\\n       (my.\\n      </span>\\n      <span class=\"ocrx_word\" dir=\"ltr\" id=\"word_1_147\" lang=\"eng\" title=\"bbox 165 385 200 394; x_wconf 62\">\\n       hm.-\\n      </span>\\n      <span class=\"ocrx_word\" id=\"word_1_148\" lang=\"eng\" title=\"bbox 206 384 217 393; x_wconf 67\">\\n       ..\\n      </span>\\n      <span class=\"ocrx_word\" dir=\"ltr\" id=\"word_1_149\" lang=\"eng\" title=\"bbox 222 383 248 393; x_wconf 50\">\\n       In...\\n      </span>\\n      <span class=\"ocrx_word\" dir=\"ltr\" id=\"word_1_150\" lang=\"eng\" title=\"bbox 253 382 297 392; x_wconf 59\">\\n       mum\\n      </span>\\n      <span class=\"ocrx_word\" dir=\"ltr\" id=\"word_1_151\" lang=\"eng\" title=\"bbox 304 381 313 395; x_wconf 68\">\\n       g\\'\\n      </span>\\n      <span class=\"ocrx_word\" dir=\"ltr\" id=\"word_1_152\" lang=\"eng\" title=\"bbox 323 385 336 391; x_wconf 67\">\\n       an\\n      </span>\\n      <span class=\"ocrx_word\" dir=\"ltr\" id=\"word_1_153\" lang=\"eng\" title=\"bbox 342 381 371 391; x_wconf 63\">\\n       or...\\n      </span>\\n     </span>\\n     <span class=\"ocr_line\" id=\"line_1_29\" title=\"bbox 51 396 314 410; baseline -0.011 -2; x_size 21.25; x_descenders 5.5; x_ascenders 5.25\">\\n      <span class=\"ocrx_word\" dir=\"ltr\" id=\"word_1_154\" lang=\"eng\" title=\"bbox 51 398 103 409; x_wconf 66\">\\n       mmndcd\\n      </span>\\n      <span class=\"ocrx_word\" dir=\"ltr\" id=\"word_1_155\" lang=\"eng\" title=\"bbox 109 400 131 408; x_wconf 64\">\\n       me!\\n      </span>\\n      <span class=\"ocrx_word\" dir=\"ltr\" id=\"word_1_156\" lang=\"eng\" title=\"bbox 143 402 150 408; x_wconf 78\">\\n       <strong>\\n        n\\n       </strong>\\n      </span>\\n      <span class=\"ocrx_word\" dir=\"ltr\" id=\"word_1_157\" lang=\"eng\" title=\"bbox 155 398 207 408; x_wconf 47\">\\n       (0.1m.\\n      </span>\\n      <span class=\"ocrx_word\" dir=\"ltr\" id=\"word_1_158\" lang=\"eng\" title=\"bbox 213 399 224 407; x_wconf 69\">\\n       .o\\n      </span>\\n      <span class=\"ocrx_word\" dir=\"ltr\" id=\"word_1_159\" lang=\"eng\" title=\"bbox 230 397 263 410; x_wconf 63\">\\n       <strong>\\n        bI-mg\\n       </strong>\\n      </span>\\n      <span class=\"ocrx_word\" dir=\"ltr\" id=\"word_1_160\" lang=\"eng\" title=\"bbox 268 396 278 406; x_wconf 82\">\\n       h.\\n      </span>\\n      <span class=\"ocrx_word\" id=\"word_1_161\" lang=\"eng\" title=\"bbox 284 400 290 406; x_wconf 75\">\\n       ..\\n      </span>\\n      <span class=\"ocrx_word\" dir=\"ltr\" id=\"word_1_162\" lang=\"eng\" title=\"bbox 295 396 314 406; x_wconf 73\">\\n       bin\\n      </span>\\n     </span>\\n    </p>\\n    <p class=\"ocr_par\" dir=\"ltr\" id=\"par_1_17\" title=\"bbox 51 411 373 482\">\\n     <span class=\"ocr_line\" id=\"line_1_30\" title=\"bbox 65 411 359 424; baseline -0.01 -1; x_size 21.25; x_descenders 5.5; x_ascenders 5.25\">\\n      <span class=\"ocrx_word\" dir=\"ltr\" id=\"word_1_163\" lang=\"eng\" title=\"bbox 65 413 95 423; x_wconf 81\">\\n       xm.\\n      </span>\\n      <span class=\"ocrx_word\" id=\"word_1_164\" lang=\"eng\" title=\"bbox 104 413 132 422; x_wconf 64\">\\n       1-2...\\n      </span>\\n      <span class=\"ocrx_word\" dir=\"ltr\" id=\"word_1_165\" lang=\"eng\" title=\"bbox 145 412 244 422; x_wconf 43\">\\n       hiu.....n.&lt;ce..c\\n      </span>\\n      <span class=\"ocrx_word\" dir=\"ltr\" id=\"word_1_166\" lang=\"eng\" title=\"bbox 253 411 340 424; x_wconf 62\">\\n       .hmh.mhh;.\\n      </span>\\n      <span class=\"ocrx_word\" dir=\"ltr\" id=\"word_1_167\" lang=\"eng\" title=\"bbox 348 413 359 423; x_wconf 71\">\\n       p.\\n      </span>\\n     </span>\\n     <span class=\"ocr_line\" id=\"line_1_31\" title=\"bbox 51 424 372 440; baseline -0.009 -3; x_size 21.25; x_descenders 5.5; x_ascenders 5.25\">\\n      <span class=\"ocrx_word\" dir=\"ltr\" id=\"word_1_168\" lang=\"eng\" title=\"bbox 51 427 81 437; x_wconf 71\">\\n       <strong>\\n        vious\\n       </strong>\\n      </span>\\n      <span class=\"ocrx_word\" dir=\"ltr\" id=\"word_1_169\" lang=\"eng\" title=\"bbox 86 426 199 440; x_wconf 67\">\\n       mnlshemgp\\'assud,\\n      </span>\\n      <span class=\"ocrx_word\" dir=\"ltr\" id=\"word_1_170\" lang=\"eng\" title=\"bbox 205 426 225 436; x_wconf 54\">\\n       and\\n      </span>\\n      <span class=\"ocrx_word\" dir=\"ltr\" id=\"word_1_171\" lang=\"eng\" title=\"bbox 230 426 248 436; x_wconf 63\">\\n       ma\\n      </span>\\n      <span class=\"ocrx_word\" dir=\"ltr\" id=\"word_1_172\" lang=\"eng\" title=\"bbox 254 425 310 436; x_wconf 53\">\\n       mum...\\n      </span>\\n      <span class=\"ocrx_word\" dir=\"ltr\" id=\"word_1_173\" lang=\"eng\" title=\"bbox 317 424 372 438; x_wconf 59\">\\n       :H.U53vc\\n      </span>\\n     </span>\\n     <span class=\"ocr_line\" id=\"line_1_32\" title=\"bbox 51 439 373 453; baseline -0.009 -2; x_size 21.25; x_descenders 5.5; x_ascenders 5.25\">\\n      <span class=\"ocrx_word\" dir=\"ltr\" id=\"word_1_174\" lang=\"eng\" title=\"bbox 51 443 80 451; x_wconf 65\">\\n       name\\n      </span>\\n      <span class=\"ocrx_word\" dir=\"ltr\" id=\"word_1_175\" lang=\"eng\" title=\"bbox 113 441 144 453; x_wconf 67\">\\n       each,\\n      </span>\\n      <span class=\"ocrx_word\" dir=\"ltr\" id=\"word_1_176\" lang=\"eng\" title=\"bbox 152 441 201 451; x_wconf 67\">\\n       “hctlvcr\\n      </span>\\n      <span class=\"ocrx_word\" dir=\"ltr\" id=\"word_1_177\" lang=\"eng\" title=\"bbox 209 442 217 450; x_wconf 71\">\\n       u\\n      </span>\\n      <span class=\"ocrx_word\" dir=\"ltr\" id=\"word_1_178\" lang=\"eng\" title=\"bbox 225 440 238 450; x_wconf 69\">\\n       h:\\n      </span>\\n      <span class=\"ocrx_word\" dir=\"ltr\" id=\"word_1_179\" lang=\"eng\" title=\"bbox 247 440 266 450; x_wconf 63\">\\n       .h.\\n      </span>\\n      <span class=\"ocrx_word\" dir=\"ltr\" id=\"word_1_180\" lang=\"eng\" title=\"bbox 274 439 279 449; x_wconf 71\">\\n       <strong>\\n        <em>\\n         r\\n        </em>\\n       </strong>\\n      </span>\\n      <span class=\"ocrx_word\" dir=\"ltr\" id=\"word_1_181\" lang=\"eng\" title=\"bbox 287 441 300 451; x_wconf 43\">\\n       a.\\n      </span>\\n      <span class=\"ocrx_word\" id=\"word_1_182\" lang=\"eng\" title=\"bbox 307 443 311 449; x_wconf 77\">\\n       .\\n      </span>\\n      <span class=\"ocrx_word\" dir=\"ltr\" id=\"word_1_183\" lang=\"eng\" title=\"bbox 326 439 351 451; x_wconf 68\">\\n       mul,\\n      </span>\\n      <span class=\"ocrx_word\" dir=\"ltr\" id=\"word_1_184\" lang=\"eng\" title=\"bbox 361 442 373 449; x_wconf 63\">\\n       u.»\\n      </span>\\n     </span>\\n     <span class=\"ocr_line\" id=\"line_1_33\" title=\"bbox 51 453 346 468; baseline -0.007 -3; x_size 21.25; x_descenders 5.5; x_ascenders 5.25\">\\n      <span class=\"ocrx_word\" dir=\"ltr\" id=\"word_1_185\" lang=\"eng\" title=\"bbox 51 456 72 465; x_wconf 68\">\\n       <strong>\\n        m\\n       </strong>\\n      </span>\\n      <span class=\"ocrx_word\" id=\"word_1_186\" lang=\"eng\" title=\"bbox 82 463 84 467; x_wconf 75\">\\n       <em>\\n        ,\\n       </em>\\n      </span>\\n      <span class=\"ocrx_word\" dir=\"ltr\" id=\"word_1_187\" lang=\"eng\" title=\"bbox 95 455 130 465; x_wconf 75\">\\n       which\\n      </span>\\n      <span class=\"ocrx_word\" dir=\"ltr\" id=\"word_1_188\" lang=\"eng\" title=\"bbox 140 455 190 468; x_wconf 58\">\\n       mudmp’\\n      </span>\\n      <span class=\"ocrx_word\" dir=\"ltr\" id=\"word_1_189\" lang=\"eng\" title=\"bbox 199 455 226 465; x_wconf 54\">\\n       mu\\n      </span>\\n      <span class=\"ocrx_word\" dir=\"ltr\" id=\"word_1_190\" lang=\"eng\" title=\"bbox 235 455 249 464; x_wconf 65\">\\n       be\\n      </span>\\n      <span class=\"ocrx_word\" dir=\"ltr\" id=\"word_1_191\" lang=\"eng\" title=\"bbox 258 458 272 464; x_wconf 71\">\\n       on\\n      </span>\\n      <span class=\"ocrx_word\" dir=\"ltr\" id=\"word_1_192\" lang=\"eng\" title=\"bbox 282 454 288 464; x_wconf 64\">\\n       a\\n      </span>\\n      <span class=\"ocrx_word\" dir=\"ltr\" id=\"word_1_193\" lang=\"eng\" title=\"bbox 299 457 312 463; x_wconf 56\">\\n       he\\n      </span>\\n      <span class=\"ocrx_word\" dir=\"ltr\" id=\"word_1_194\" lang=\"eng\" title=\"bbox 321 453 346 463; x_wconf 66\">\\n       m.\\n      </span>\\n     </span>\\n     <span class=\"ocr_line\" id=\"line_1_34\" title=\"bbox 51 467 362 482; baseline -0.01 -2; x_size 21.25; x_descenders 5.5; x_ascenders 5.25\">\\n      <span class=\"ocrx_word\" dir=\"ltr\" id=\"word_1_195\" lang=\"eng\" title=\"bbox 51 470 65 480; x_wconf 72\">\\n       dn\\n      </span>\\n      <span class=\"ocrx_word\" id=\"word_1_196\" lang=\"eng\" title=\"bbox 72 473 81 482; x_wconf 81\">\\n       5,\\n      </span>\\n      <span class=\"ocrx_word\" dir=\"ltr\" id=\"word_1_197\" lang=\"eng\" title=\"bbox 90 469 126 480; x_wconf 68\">\\n       “Mu!\\n      </span>\\n      <span class=\"ocrx_word\" dir=\"ltr\" id=\"word_1_198\" lang=\"eng\" title=\"bbox 134 469 153 479; x_wconf 68\">\\n       the\\n      </span>\\n      <span class=\"ocrx_word\" dir=\"ltr\" id=\"word_1_199\" lang=\"eng\" title=\"bbox 162 470 202 479; x_wconf 42\">\\n       ssh}...\\n      </span>\\n      <span class=\"ocrx_word\" id=\"word_1_200\" lang=\"eng\" title=\"bbox 210 472 216 478; x_wconf 89\">\\n       ..\\n      </span>\\n      <span class=\"ocrx_word\" dir=\"ltr\" id=\"word_1_201\" lang=\"eng\" title=\"bbox 225 468 285 481; x_wconf 59\">\\n       .......o..,~.y\\n      </span>\\n      <span class=\"ocrx_word\" dir=\"ltr\" id=\"word_1_202\" lang=\"eng\" title=\"bbox 293 467 329 477; x_wconf 61\">\\n       mm.\\n      </span>\\n      <span class=\"ocrx_word\" dir=\"ltr\" id=\"word_1_203\" lang=\"eng\" title=\"bbox 337 468 362 477; x_wconf 44\">\\n       mh.\\n      </span>\\n     </span>\\n    </p>\\n    <p class=\"ocr_par\" dir=\"ltr\" id=\"par_1_18\" title=\"bbox 51 496 373 537\">\\n     <span class=\"ocr_line\" id=\"line_1_35\" title=\"bbox 66 496 373 509; baseline -0.013 0; x_size 21.25; x_descenders 5.5; x_ascenders 5.25\">\\n      <span class=\"ocrx_word\" dir=\"ltr\" id=\"word_1_204\" lang=\"eng\" title=\"bbox 66 499 91 509; x_wconf 73\">\\n       xw\\n      </span>\\n      <span class=\"ocrx_word\" dir=\"ltr\" id=\"word_1_205\" lang=\"eng\" title=\"bbox 104 499 122 508; x_wconf 76\">\\n       No\\n      </span>\\n      <span class=\"ocrx_word\" dir=\"ltr\" id=\"word_1_206\" lang=\"eng\" title=\"bbox 128 497 177 508; x_wconf 66\">\\n       <strong>\\n        MUSINH\\n       </strong>\\n      </span>\\n      <span class=\"ocrx_word\" dir=\"ltr\" id=\"word_1_207\" lang=\"eng\" title=\"bbox 183 498 196 507; x_wconf 60\">\\n       h.\\n      </span>\\n      <span class=\"ocrx_word\" dir=\"ltr\" id=\"word_1_208\" lang=\"eng\" title=\"bbox 201 497 282 507; x_wconf 71\">\\n       <strong>\\n        cnmmllmdur\\n       </strong>\\n      </span>\\n      <span class=\"ocrx_word\" dir=\"ltr\" id=\"word_1_209\" lang=\"eng\" title=\"bbox 301 496 373 506; x_wconf 66\">\\n       <strong>\\n        mudcdunul\\n       </strong>\\n      </span>\\n     </span>\\n     <span class=\"ocr_line\" id=\"line_1_36\" title=\"bbox 51 510 373 523; baseline -0.012 0; x_size 21.25; x_descenders 5.5; x_ascenders 5.25\">\\n      <span class=\"ocrx_word\" dir=\"ltr\" id=\"word_1_210\" lang=\"eng\" title=\"bbox 51 513 91 523; x_wconf 55\">\\n       “hm\\n      </span>\\n      <span class=\"ocrx_word\" dir=\"ltr\" id=\"word_1_211\" lang=\"eng\" title=\"bbox 97 513 123 522; x_wconf 68\">\\n       lmvr\\n      </span>\\n      <span class=\"ocrx_word\" dir=\"ltr\" id=\"word_1_212\" lang=\"eng\" title=\"bbox 130 512 168 522; x_wconf 61\">\\n       <strong>\\n        bccnt\\n       </strong>\\n      </span>\\n      <span class=\"ocrx_word\" dir=\"ltr\" id=\"word_1_213\" lang=\"eng\" title=\"bbox 179 512 196 522; x_wconf 65\">\\n       ice\\n      </span>\\n      <span class=\"ocrx_word\" dir=\"ltr\" id=\"word_1_214\" lang=\"eng\" title=\"bbox 202 511 231 523; x_wconf 71\">\\n       mu.\\n      </span>\\n      <span class=\"ocrx_word\" dir=\"ltr\" id=\"word_1_215\" lang=\"eng\" title=\"bbox 238 511 308 521; x_wconf 57\">\\n       nun-Wuhan.\\n      </span>\\n      <span class=\"ocrx_word\" dir=\"ltr\" id=\"word_1_216\" lang=\"eng\" title=\"bbox 314 512 350 523; x_wconf 50\">\\n       Why\\n      </span>\\n      <span class=\"ocrx_word\" dir=\"ltr\" id=\"word_1_217\" lang=\"eng\" title=\"bbox 359 510 373 520; x_wconf 68\">\\n       he\\n      </span>\\n     </span>\\n     <span class=\"ocr_line\" id=\"line_1_37\" title=\"bbox 51 527 197 537; baseline -0.007 0; x_size 21.25; x_descenders 5.5; x_ascenders 5.25\">\\n      <span class=\"ocrx_word\" dir=\"ltr\" id=\"word_1_218\" lang=\"eng\" title=\"bbox 51 527 100 537; x_wconf 61\">\\n       rclcrrud\\n      </span>\\n      <span class=\"ocrx_word\" dir=\"ltr\" id=\"word_1_219\" lang=\"eng\" title=\"bbox 105 529 116 537; x_wconf 75\">\\n       <em>\\n        w\\n       </em>\\n      </span>\\n      <span class=\"ocrx_word\" dir=\"ltr\" id=\"word_1_220\" lang=\"eng\" title=\"bbox 122 530 128 536; x_wconf 67\">\\n       <strong>\\n        <em>\\n         a\\n        </em>\\n       </strong>\\n      </span>\\n      <span class=\"ocrx_word\" dir=\"ltr\" id=\"word_1_221\" lang=\"eng\" title=\"bbox 133 528 197 537; x_wconf 66\">\\n       <strong>\\n        commvtlcc\\n       </strong>\\n      </span>\\n     </span>\\n    </p>\\n    <p class=\"ocr_par\" dir=\"ltr\" id=\"par_1_19\" title=\"bbox 51 539 372 569\">\\n     <span class=\"ocr_line\" id=\"line_1_38\" title=\"bbox 66 539 372 553; baseline -0.01 -1; x_size 21.25; x_descenders 5.5; x_ascenders 5.25\">\\n      <span class=\"ocrx_word\" dir=\"ltr\" id=\"word_1_222\" lang=\"eng\" title=\"bbox 66 542 90 552; x_wconf 80\">\\n       xv.\\n      </span>\\n      <span class=\"ocrx_word\" dir=\"ltr\" id=\"word_1_223\" lang=\"eng\" title=\"bbox 99 540 223 551; x_wconf 57\">\\n       Ancommhmcnhhh\\n      </span>\\n      <span class=\"ocrx_word\" dir=\"ltr\" id=\"word_1_224\" lang=\"eng\" title=\"bbox 229 541 243 550; x_wconf 69\">\\n       be\\n      </span>\\n      <span class=\"ocrx_word\" dir=\"ltr\" id=\"word_1_225\" lang=\"eng\" title=\"bbox 251 539 310 553; x_wconf 66\">\\n       nppu\\'mtul\\n      </span>\\n      <span class=\"ocrx_word\" dir=\"ltr\" id=\"word_1_226\" lang=\"eng\" title=\"bbox 315 539 327 552; x_wconf 67\">\\n       h,\\n      </span>\\n      <span class=\"ocrx_word\" dir=\"ltr\" id=\"word_1_227\" lang=\"eng\" title=\"bbox 334 539 372 551; x_wconf 63\">\\n       mum,\\n      </span>\\n     </span>\\n     <span class=\"ocr_line\" id=\"line_1_39\" title=\"bbox 51 554 317 569; baseline -0.011 -3; x_size 21.25; x_descenders 5.5; x_ascenders 5.25\">\\n      <span class=\"ocrx_word\" dir=\"ltr\" id=\"word_1_228\" lang=\"eng\" title=\"bbox 51 556 72 566; x_wconf 62\">\\n       m1\\n      </span>\\n      <span class=\"ocrx_word\" dir=\"ltr\" id=\"word_1_229\" lang=\"eng\" title=\"bbox 78 559 84 566; x_wconf 70\">\\n       <strong>\\n        a\\n       </strong>\\n      </span>\\n      <span class=\"ocrx_word\" dir=\"ltr\" id=\"word_1_230\" lang=\"eng\" title=\"bbox 89 555 138 569; x_wconf 57\">\\n       <strong>\\n        plurality\\n       </strong>\\n      </span>\\n      <span class=\"ocrx_word\" dir=\"ltr\" id=\"word_1_231\" lang=\"eng\" title=\"bbox 146 555 192 565; x_wconf 63\">\\n       <strong>\\n        nryom\\n       </strong>\\n      </span>\\n      <span class=\"ocrx_word\" dir=\"ltr\" id=\"word_1_232\" lang=\"eng\" title=\"bbox 198 555 225 565; x_wconf 60\">\\n       sh)“\\n      </span>\\n      <span class=\"ocrx_word\" dir=\"ltr\" id=\"word_1_233\" lang=\"eng\" title=\"bbox 230 555 263 564; x_wconf 58\">\\n       maku\\n      </span>\\n      <span class=\"ocrx_word\" dir=\"ltr\" id=\"word_1_234\" lang=\"eng\" title=\"bbox 268 557 274 564; x_wconf 66\">\\n       h\\n      </span>\\n      <span class=\"ocrx_word\" dir=\"ltr\" id=\"word_1_235\" lang=\"eng\" title=\"bbox 279 554 300 564; x_wconf 78\">\\n       chn\\n      </span>\\n      <span class=\"ocrx_word\" id=\"word_1_236\" lang=\"eng\" title=\"bbox 312 557 317 563; x_wconf 59\">\\n       <em>\\n        .\\n       </em>\\n      </span>\\n     </span>\\n    </p>\\n    <p class=\"ocr_par\" dir=\"ltr\" id=\"par_1_20\" title=\"bbox 51 567 374 655\">\\n     <span class=\"ocr_line\" id=\"line_1_40\" title=\"bbox 65 567 373 581; baseline -0.01 -1; x_size 21.25; x_descenders 5.5; x_ascenders 5.25\">\\n      <span class=\"ocrx_word\" dir=\"ltr\" id=\"word_1_237\" lang=\"eng\" title=\"bbox 65 571 95 581; x_wconf 72\">\\n       xvx.\\n      </span>\\n      <span class=\"ocrx_word\" dir=\"ltr\" id=\"word_1_238\" lang=\"eng\" title=\"bbox 105 570 141 580; x_wconf 67\">\\n       when\\n      </span>\\n      <span class=\"ocrx_word\" id=\"word_1_239\" lang=\"eng\" title=\"bbox 146 573 151 579; x_wconf 84\">\\n       .\\n      </span>\\n      <span class=\"ocrx_word\" dir=\"ltr\" id=\"word_1_240\" lang=\"eng\" title=\"bbox 157 569 237 579; x_wconf 63\">\\n       mmhcrshhn\\n      </span>\\n      <span class=\"ocrx_word\" dir=\"ltr\" id=\"word_1_241\" lang=\"eng\" title=\"bbox 242 569 256 579; x_wconf 66\">\\n       be\\n      </span>\\n      <span class=\"ocrx_word\" dir=\"ltr\" id=\"word_1_242\" lang=\"eng\" title=\"bbox 260 568 296 579; x_wconf 54\">\\n       chum.\\n      </span>\\n      <span class=\"ocrx_word\" dir=\"ltr\" id=\"word_1_243\" lang=\"eng\" title=\"bbox 301 570 312 578; x_wconf 74\">\\n       <strong>\\n        m\\n       </strong>\\n      </span>\\n      <span class=\"ocrx_word\" dir=\"ltr\" id=\"word_1_244\" lang=\"eng\" title=\"bbox 318 568 353 580; x_wconf 58\">\\n       order,\\n      </span>\\n      <span class=\"ocrx_word\" dir=\"ltr\" id=\"word_1_245\" lang=\"eng\" title=\"bbox 359 567 373 577; x_wconf 64\">\\n       he\\n      </span>\\n     </span>\\n     <span class=\"ocr_line\" id=\"line_1_41\" title=\"bbox 51 582 374 595; baseline -0.012 0; x_size 21.25; x_descenders 5.5; x_ascenders 5.25\">\\n      <span class=\"ocrx_word\" dir=\"ltr\" id=\"word_1_246\" lang=\"eng\" title=\"bbox 51 585 78 595; x_wconf 55\">\\n       sh.“\\n      </span>\\n      <span class=\"ocrx_word\" dir=\"ltr\" id=\"word_1_247\" lang=\"eng\" title=\"bbox 84 584 134 594; x_wconf 71\">\\n       <strong>\\n        mduwu\\n       </strong>\\n      </span>\\n      <span class=\"ocrx_word\" dir=\"ltr\" id=\"word_1_248\" lang=\"eng\" title=\"bbox 142 584 169 594; x_wconf 77\">\\n       \\\\Hml\\n      </span>\\n      <span class=\"ocrx_word\" dir=\"ltr\" id=\"word_1_249\" lang=\"eng\" title=\"bbox 177 584 196 594; x_wconf 52\">\\n       .h.\\n      </span>\\n      <span class=\"ocrx_word\" dir=\"ltr\" id=\"word_1_250\" lang=\"eng\" title=\"bbox 202 583 260 594; x_wconf 54\">\\n       hum“;\\n      </span>\\n      <span class=\"ocrx_word\" dir=\"ltr\" id=\"word_1_251\" lang=\"eng\" title=\"bbox 267 583 293 592; x_wconf 63\">\\n       .hm\\n      </span>\\n      <span class=\"ocrx_word\" dir=\"ltr\" id=\"word_1_252\" lang=\"eng\" title=\"bbox 302 583 312 592; x_wconf 78\">\\n       h:\\n      </span>\\n      <span class=\"ocrx_word\" dir=\"ltr\" id=\"word_1_253\" lang=\"eng\" title=\"bbox 324 585 330 592; x_wconf 79\">\\n       c\\n      </span>\\n      <span class=\"ocrx_word\" dir=\"ltr\" id=\"word_1_254\" lang=\"eng\" title=\"bbox 338 582 374 592; x_wconf 57\">\\n       .1..ch\\n      </span>\\n     </span>\\n     <span class=\"ocr_line\" id=\"line_1_42\" title=\"bbox 52 597 373 610; baseline -0.012 -1; x_size 21.25; x_descenders 5.5; x_ascenders 5.25\">\\n      <span class=\"ocrx_word\" dir=\"ltr\" id=\"word_1_255\" lang=\"eng\" title=\"bbox 52 599 88 610; x_wconf 77\">\\n       <strong>\\n        mined\\n       </strong>\\n      </span>\\n      <span class=\"ocrx_word\" dir=\"ltr\" id=\"word_1_256\" lang=\"eng\" title=\"bbox 93 599 143 609; x_wconf 64\">\\n       whuhu-\\n      </span>\\n      <span class=\"ocrx_word\" dir=\"ltr\" id=\"word_1_257\" lang=\"eng\" title=\"bbox 148 598 162 608; x_wconf 56\">\\n       h.\\n      </span>\\n      <span class=\"ocrx_word\" id=\"word_1_258\" lang=\"eng\" title=\"bbox 167 602 175 608; x_wconf 74\">\\n       ..\\n      </span>\\n      <span class=\"ocrx_word\" dir=\"ltr\" id=\"word_1_259\" lang=\"eng\" title=\"bbox 181 598 191 608; x_wconf 86\">\\n       h.\\n      </span>\\n      <span class=\"ocrx_word\" dir=\"ltr\" id=\"word_1_260\" lang=\"eng\" title=\"bbox 196 598 242 608; x_wconf 75\">\\n       <strong>\\n        onlum\\n       </strong>\\n      </span>\\n      <span class=\"ocrx_word\" dir=\"ltr\" id=\"word_1_261\" lang=\"eng\" title=\"bbox 250 599 273 609; x_wconf 44\">\\n       hat,\\n      </span>\\n      <span class=\"ocrx_word\" dir=\"ltr\" id=\"word_1_262\" lang=\"eng\" title=\"bbox 279 597 299 607; x_wconf 73\">\\n       and\\n      </span>\\n      <span class=\"ocrx_word\" dir=\"ltr\" id=\"word_1_263\" lang=\"eng\" title=\"bbox 304 600 373 610; x_wconf 44\">\\n       mm“...\\n      </span>\\n     </span>\\n     <span class=\"ocr_line\" id=\"line_1_43\" title=\"bbox 52 611 372 625; baseline -0.009 -1; x_size 21.25; x_descenders 5.5; x_ascenders 5.25\">\\n      <span class=\"ocrx_word\" dir=\"ltr\" id=\"word_1_264\" lang=\"eng\" title=\"bbox 52 615 74 624; x_wconf 74\">\\n       hon\\n      </span>\\n      <span class=\"ocrx_word\" dir=\"ltr\" id=\"word_1_265\" lang=\"eng\" title=\"bbox 83 613 96 624; x_wconf 77\">\\n       or\\n      </span>\\n      <span class=\"ocrx_word\" dir=\"ltr\" id=\"word_1_266\" lang=\"eng\" title=\"bbox 103 613 136 623; x_wconf 61\">\\n       mac.\\n      </span>\\n      <span class=\"ocrx_word\" id=\"word_1_267\" lang=\"eng\" title=\"bbox 144 613 156 623; x_wconf 73\">\\n       .1.\\n      </span>\\n      <span class=\"ocrx_word\" id=\"word_1_268\" lang=\"eng\" title=\"bbox 168 613 170 623; x_wconf 72\">\\n       1\\n      </span>\\n      <span class=\"ocrx_word\" dir=\"ltr\" id=\"word_1_269\" lang=\"eng\" title=\"bbox 180 613 194 623; x_wconf 63\">\\n       be\\n      </span>\\n      <span class=\"ocrx_word\" dir=\"ltr\" id=\"word_1_270\" lang=\"eng\" title=\"bbox 203 612 250 622; x_wconf 56\">\\n       .1...ch\\n      </span>\\n      <span class=\"ocrx_word\" dir=\"ltr\" id=\"word_1_271\" lang=\"eng\" title=\"bbox 260 613 274 625; x_wconf 77\">\\n       by\\n      </span>\\n      <span class=\"ocrx_word\" dir=\"ltr\" id=\"word_1_272\" lang=\"eng\" title=\"bbox 283 611 301 622; x_wconf 63\">\\n       .m\\n      </span>\\n      <span class=\"ocrx_word\" dir=\"ltr\" id=\"word_1_273\" lang=\"eng\" title=\"bbox 312 611 372 623; x_wconf 55\">\\n       <strong>\\n        [ummm\\n       </strong>\\n      </span>\\n     </span>\\n     <span class=\"ocr_line\" id=\"line_1_44\" title=\"bbox 52 625 372 640; baseline -0.009 -2; x_size 21.25; x_descenders 5.5; x_ascenders 5.25\">\\n      <span class=\"ocrx_word\" dir=\"ltr\" id=\"word_1_274\" lang=\"eng\" title=\"bbox 52 628 98 638; x_wconf 68\">\\n       without\\n      </span>\\n      <span class=\"ocrx_word\" dir=\"ltr\" id=\"word_1_275\" lang=\"eng\" title=\"bbox 102 628 146 640; x_wconf 56\">\\n       damn;\\n      </span>\\n      <span class=\"ocrx_word\" dir=\"ltr\" id=\"word_1_276\" lang=\"eng\" title=\"bbox 152 627 175 640; x_wconf 70\">\\n       hm,\\n      </span>\\n      <span class=\"ocrx_word\" dir=\"ltr\" id=\"word_1_277\" lang=\"eng\" title=\"bbox 181 627 191 637; x_wconf 71\">\\n       .r\\n      </span>\\n      <span class=\"ocrx_word\" dir=\"ltr\" id=\"word_1_278\" lang=\"eng\" title=\"bbox 195 627 225 637; x_wconf 63\">\\n       mm.\\n      </span>\\n      <span class=\"ocrx_word\" dir=\"ltr\" id=\"word_1_279\" lang=\"eng\" title=\"bbox 230 627 244 637; x_wconf 70\">\\n       he\\n      </span>\\n      <span class=\"ocrx_word\" id=\"word_1_280\" lang=\"eng\" title=\"bbox 250 630 256 636; x_wconf 52\">\\n       <strong>\\n        1\\n       </strong>\\n      </span>\\n      <span class=\"ocrx_word\" dir=\"ltr\" id=\"word_1_281\" lang=\"eng\" title=\"bbox 261 626 296 636; x_wconf 63\">\\n       am.\\n      </span>\\n      <span class=\"ocrx_word\" dir=\"ltr\" id=\"word_1_282\" lang=\"eng\" title=\"bbox 301 626 312 636; x_wconf 80\">\\n       h.\\n      </span>\\n      <span class=\"ocrx_word\" id=\"word_1_283\" lang=\"eng\" title=\"bbox 317 625 333 636; x_wconf 69\">\\n       1...\\n      </span>\\n      <span class=\"ocrx_word\" dir=\"ltr\" id=\"word_1_284\" lang=\"eng\" title=\"bbox 339 625 372 637; x_wconf 70\">\\n       <strong>\\n        mind,\\n       </strong>\\n      </span>\\n     </span>\\n     <span class=\"ocr_line\" id=\"line_1_45\" title=\"bbox 52 641 294 655; baseline -0.012 -2; x_size 21.25; x_descenders 5.5; x_ascenders 5.25\">\\n      <span class=\"ocrx_word\" dir=\"ltr\" id=\"word_1_285\" lang=\"eng\" title=\"bbox 52 643 66 653; x_wconf 63\">\\n       he\\n      </span>\\n      <span class=\"ocrx_word\" dir=\"ltr\" id=\"word_1_286\" lang=\"eng\" title=\"bbox 71 645 95 655; x_wconf 75\">\\n       my\\n      </span>\\n      <span class=\"ocrx_word\" dir=\"ltr\" id=\"word_1_287\" lang=\"eng\" title=\"bbox 101 642 121 652; x_wconf 55\">\\n       uh\\n      </span>\\n      <span class=\"ocrx_word\" dir=\"ltr\" id=\"word_1_288\" lang=\"eng\" title=\"bbox 127 641 141 652; x_wconf 64\">\\n       I...\\n      </span>\\n      <span class=\"ocrx_word\" dir=\"ltr\" id=\"word_1_289\" lang=\"eng\" title=\"bbox 149 642 168 652; x_wconf 61\">\\n       the\\n      </span>\\n      <span class=\"ocrx_word\" dir=\"ltr\" id=\"word_1_290\" lang=\"eng\" title=\"bbox 173 645 204 651; x_wconf 48\">\\n       manic\\n      </span>\\n      <span class=\"ocrx_word\" dir=\"ltr\" id=\"word_1_291\" lang=\"eng\" title=\"bbox 209 641 244 651; x_wconf 60\">\\n       Duh.\\n      </span>\\n      <span class=\"ocrx_word\" dir=\"ltr\" id=\"word_1_292\" lang=\"eng\" title=\"bbox 250 642 294 651; x_wconf 65\">\\n       Scnmc.\\n      </span>\\n     </span>\\n    </p>\\n    <p class=\"ocr_par\" dir=\"ltr\" id=\"par_1_21\" title=\"bbox 52 654 374 713\">\\n     <span class=\"ocr_line\" id=\"line_1_46\" title=\"bbox 66 654 374 667; baseline -0.01 0; x_size 21.25; x_descenders 5.5; x_ascenders 5.25\">\\n      <span class=\"ocrx_word\" dir=\"ltr\" id=\"word_1_293\" lang=\"eng\" title=\"bbox 66 658 101 667; x_wconf 81\">\\n       xvu.\\n      </span>\\n      <span class=\"ocrx_word\" dir=\"ltr\" id=\"word_1_294\" lang=\"eng\" title=\"bbox 110 656 121 666; x_wconf 76\">\\n       If\\n      </span>\\n      <span class=\"ocrx_word\" dir=\"ltr\" id=\"word_1_295\" lang=\"eng\" title=\"bbox 127 656 206 666; x_wconf 67\">\\n       .m¢.hhc.-hc\\n      </span>\\n      <span class=\"ocrx_word\" dir=\"ltr\" id=\"word_1_296\" lang=\"eng\" title=\"bbox 212 655 247 666; x_wconf 58\">\\n       axlh‘d\\n      </span>\\n      <span class=\"ocrx_word\" id=\"word_1_297\" lang=\"eng\" title=\"bbox 255 657 266 666; x_wconf 53\">\\n       .9\\n      </span>\\n      <span class=\"ocrx_word\" dir=\"ltr\" id=\"word_1_298\" lang=\"eng\" title=\"bbox 274 655 306 665; x_wconf 60\">\\n       <strong>\\n        under\\n       </strong>\\n      </span>\\n      <span class=\"ocrx_word\" dir=\"ltr\" id=\"word_1_299\" lang=\"eng\" title=\"bbox 314 654 328 665; x_wconf 76\">\\n       rm\\n      </span>\\n      <span class=\"ocrx_word\" dir=\"ltr\" id=\"word_1_300\" lang=\"eng\" title=\"bbox 338 654 374 665; x_wconf 65\">\\n       wonh.\\n      </span>\\n     </span>\\n     <span class=\"ocr_line\" id=\"line_1_47\" title=\"bbox 52 669 373 685; baseline -0.012 -4; x_size 21.25; x_descenders 5.5; x_ascenders 5.25\">\\n      <span class=\"ocrx_word\" dir=\"ltr\" id=\"word_1_301\" lang=\"eng\" title=\"bbox 52 672 99 685; x_wconf 45\">\\n       Wm...\\n      </span>\\n      <span class=\"ocrx_word\" dir=\"ltr\" id=\"word_1_302\" lang=\"eng\" title=\"bbox 105 671 124 681; x_wconf 58\">\\n       m:\\n      </span>\\n      <span class=\"ocrx_word\" dir=\"ltr\" id=\"word_1_303\" lang=\"eng\" title=\"bbox 132 670 216 684; x_wconf 64\">\\n       exceplmnnbl:\\n      </span>\\n      <span class=\"ocrx_word\" dir=\"ltr\" id=\"word_1_304\" lang=\"eng\" title=\"bbox 225 669 261 680; x_wconf 68\">\\n       mas\\n      </span>\\n      <span class=\"ocrx_word\" dir=\"ltr\" id=\"word_1_305\" lang=\"eng\" title=\"bbox 268 669 295 679; x_wconf 75\">\\n       <strong>\\n        slml|\\n       </strong>\\n      </span>\\n      <span class=\"ocrx_word\" dir=\"ltr\" id=\"word_1_306\" lang=\"eng\" title=\"bbox 303 669 316 679; x_wconf 69\">\\n       he\\n      </span>\\n      <span class=\"ocrx_word\" dir=\"ltr\" id=\"word_1_307\" lang=\"eng\" title=\"bbox 325 669 373 679; x_wconf 58\">\\n       immcdt\\n      </span>\\n     </span>\\n     <span class=\"ocr_line\" id=\"line_1_48\" title=\"bbox 52 684 373 699; baseline -0.003 -4; x_size 21.25; x_descenders 5.5; x_ascenders 5.25\">\\n      <span class=\"ocrx_word\" dir=\"ltr\" id=\"word_1_308\" lang=\"eng\" title=\"bbox 52 686 81 699; x_wconf 63\">\\n       <strong>\\n        :ngly\\n       </strong>\\n      </span>\\n      <span class=\"ocrx_word\" dir=\"ltr\" id=\"word_1_309\" lang=\"eng\" title=\"bbox 87 685 119 695; x_wconf 63\">\\n       <strong>\\n        (3km!\\n       </strong>\\n      </span>\\n      <span class=\"ocrx_word\" dir=\"ltr\" id=\"word_1_310\" lang=\"eng\" title=\"bbox 125 685 158 695; x_wconf 80\">\\n       <strong>\\n        duwn\\n       </strong>\\n      </span>\\n      <span class=\"ocrx_word\" dir=\"ltr\" id=\"word_1_311\" lang=\"eng\" title=\"bbox 164 685 174 695; x_wconf 81\">\\n       h.\\n      </span>\\n      <span class=\"ocrx_word\" dir=\"ltr\" id=\"word_1_312\" lang=\"eng\" title=\"bbox 180 686 226 698; x_wconf 46\">\\n       whhhg,\\n      </span>\\n      <span class=\"ocrx_word\" dir=\"ltr\" id=\"word_1_313\" lang=\"eng\" title=\"bbox 234 685 257 695; x_wconf 62\">\\n       .ha.\\n      </span>\\n      <span class=\"ocrx_word\" id=\"word_1_314\" lang=\"eng\" title=\"bbox 262 684 280 694; x_wconf 70\">\\n       .1..-\\n      </span>\\n      <span class=\"ocrx_word\" dir=\"ltr\" id=\"word_1_315\" lang=\"eng\" title=\"bbox 287 684 344 694; x_wconf 57\">\\n       1mm...\\n      </span>\\n      <span class=\"ocrx_word\" dir=\"ltr\" id=\"word_1_316\" lang=\"eng\" title=\"bbox 349 687 373 697; x_wconf 75\">\\n       nuy\\n      </span>\\n     </span>\\n     <span class=\"ocr_line\" id=\"line_1_49\" title=\"bbox 52 699 305 713; baseline -0.008 -3; x_size 21.25; x_descenders 5.5; x_ascenders 5.25\">\\n      <span class=\"ocrx_word\" dir=\"ltr\" id=\"word_1_317\" lang=\"eng\" title=\"bbox 52 701 66 710; x_wconf 46\">\\n       h.\\n      </span>\\n      <span class=\"ocrx_word\" dir=\"ltr\" id=\"word_1_318\" lang=\"eng\" title=\"bbox 72 699 160 710; x_wconf 53\">\\n       mum-(mud\\n      </span>\\n      <span class=\"ocrx_word\" dir=\"ltr\" id=\"word_1_319\" lang=\"eng\" title=\"bbox 165 701 176 710; x_wconf 66\">\\n       to\\n      </span>\\n      <span class=\"ocrx_word\" dir=\"ltr\" id=\"word_1_320\" lang=\"eng\" title=\"bbox 180 699 216 713; x_wconf 57\">\\n       judge\\n      </span>\\n      <span class=\"ocrx_word\" dir=\"ltr\" id=\"word_1_321\" lang=\"eng\" title=\"bbox 222 699 257 709; x_wconf 63\">\\n       arm\\n      </span>\\n      <span class=\"ocrx_word\" dir=\"ltr\" id=\"word_1_322\" lang=\"eng\" title=\"bbox 262 700 305 708; x_wconf 62\">\\n       mun,\\n      </span>\\n     </span>\\n    </p>\\n    <p class=\"ocr_par\" dir=\"ltr\" id=\"par_1_22\" title=\"bbox 52 712 374 757\">\\n     <span class=\"ocr_line\" id=\"line_1_50\" title=\"bbox 67 712 374 725; baseline -0.01 0; x_size 21.25; x_descenders 5.5; x_ascenders 5.25\">\\n      <span class=\"ocrx_word\" dir=\"ltr\" id=\"word_1_323\" lang=\"eng\" title=\"bbox 67 715 103 725; x_wconf 80\">\\n       xvm\\n      </span>\\n      <span class=\"ocrx_word\" dir=\"ltr\" id=\"word_1_324\" lang=\"eng\" title=\"bbox 116 714 152 724; x_wconf 70\">\\n       when\\n      </span>\\n      <span class=\"ocrx_word\" dir=\"ltr\" id=\"word_1_325\" lang=\"eng\" title=\"bbox 159 713 202 724; x_wconf 62\">\\n       mm.\\n      </span>\\n      <span class=\"ocrx_word\" dir=\"ltr\" id=\"word_1_326\" lang=\"eng\" title=\"bbox 208 717 216 724; x_wconf 61\">\\n       h\\n      </span>\\n      <span class=\"ocrx_word\" dir=\"ltr\" id=\"word_1_327\" lang=\"eng\" title=\"bbox 222 715 232 724; x_wconf 75\">\\n       N)\\n      </span>\\n      <span class=\"ocrx_word\" dir=\"ltr\" id=\"word_1_328\" lang=\"eng\" title=\"bbox 238 713 252 723; x_wconf 56\">\\n       h.\\n      </span>\\n      <span class=\"ocrx_word\" dir=\"ltr\" id=\"word_1_329\" lang=\"eng\" title=\"bbox 257 713 290 725; x_wconf 67\">\\n       <strong>\\n        lined,\\n       </strong>\\n      </span>\\n      <span class=\"ocrx_word\" dir=\"ltr\" id=\"word_1_330\" lang=\"eng\" title=\"bbox 297 712 374 723; x_wconf 66\">\\n       wddiﬁ‘crnut\\n      </span>\\n     </span>\\n     <span class=\"ocr_line\" id=\"line_1_51\" title=\"bbox 52 727 373 742; baseline -0.006 -3; x_size 21.25; x_descenders 5.5; x_ascenders 5.25\">\\n      <span class=\"ocrx_word\" dir=\"ltr\" id=\"word_1_331\" lang=\"eng\" title=\"bbox 52 732 81 739; x_wconf 66\">\\n       mm:\\n      </span>\\n      <span class=\"ocrx_word\" dir=\"ltr\" id=\"word_1_332\" lang=\"eng\" title=\"bbox 87 729 113 739; x_wconf 57\">\\n       mu\\n      </span>\\n      <span class=\"ocrx_word\" dir=\"ltr\" id=\"word_1_333\" lang=\"eng\" title=\"bbox 119 729 133 738; x_wconf 66\">\\n       hr,\\n      </span>\\n      <span class=\"ocrx_word\" dir=\"ltr\" id=\"word_1_334\" lang=\"eng\" title=\"bbox 139 728 199 742; x_wconf 61\">\\n       Wham],\\n      </span>\\n      <span class=\"ocrx_word\" dir=\"ltr\" id=\"word_1_335\" lang=\"eng\" title=\"bbox 205 728 223 738; x_wconf 79\">\\n       \\\\hc\\n      </span>\\n      <span class=\"ocrx_word\" dir=\"ltr\" id=\"word_1_336\" lang=\"eng\" title=\"bbox 229 729 280 741; x_wconf 62\">\\n       <strong>\\n        qqunnu\\n       </strong>\\n      </span>\\n      <span class=\"ocrx_word\" dir=\"ltr\" id=\"word_1_337\" lang=\"eng\" title=\"bbox 285 727 312 737; x_wconf 54\">\\n       mu\\n      </span>\\n      <span class=\"ocrx_word\" dir=\"ltr\" id=\"word_1_338\" lang=\"eng\" title=\"bbox 320 727 334 737; x_wconf 67\">\\n       ho\\n      </span>\\n      <span class=\"ocrx_word\" dir=\"ltr\" id=\"word_1_339\" lang=\"eng\" title=\"bbox 341 727 373 737; x_wconf 67\">\\n       hum.\\n      </span>\\n     </span>\\n     <span class=\"ocr_line\" id=\"line_1_52\" title=\"bbox 52 742 201 757; baseline -0.013 -3; x_size 21.25; x_descenders 5.5; x_ascenders 5.25\">\\n      <span class=\"ocrx_word\" dir=\"ltr\" id=\"word_1_340\" lang=\"eng\" title=\"bbox 52 747 66 754; x_wconf 75\">\\n       on\\n      </span>\\n      <span class=\"ocrx_word\" dir=\"ltr\" id=\"word_1_341\" lang=\"eng\" title=\"bbox 72 743 90 753; x_wconf 66\">\\n       the\\n      </span>\\n      <span class=\"ocrx_word\" dir=\"ltr\" id=\"word_1_342\" lang=\"eng\" title=\"bbox 97 743 140 757; x_wconf 63\">\\n       highest\\n      </span>\\n      <span class=\"ocrx_word\" dir=\"ltr\" id=\"word_1_343\" lang=\"eng\" title=\"bbox 146 746 169 753; x_wconf 72\">\\n       .hm\\n      </span>\\n      <span class=\"ocrx_word\" dir=\"ltr\" id=\"word_1_344\" lang=\"eng\" title=\"bbox 174 742 201 753; x_wconf 69\">\\n       ﬁm.\\n      </span>\\n     </span>\\n    </p>\\n    <p class=\"ocr_par\" dir=\"ltr\" id=\"par_1_23\" title=\"bbox 52 756 374 796\">\\n     <span class=\"ocr_line\" id=\"line_1_53\" title=\"bbox 66 756 374 768; baseline -0.01 0; x_size 21.25; x_descenders 5.5; x_ascenders 5.25\">\\n      <span class=\"ocrx_word\" dir=\"ltr\" id=\"word_1_345\" lang=\"eng\" title=\"bbox 66 758 92 768; x_wconf 57\">\\n       xxx\\n      </span>\\n      <span class=\"ocrx_word\" dir=\"ltr\" id=\"word_1_346\" lang=\"eng\" title=\"bbox 106 758 123 768; x_wconf 76\">\\n       Nu\\n      </span>\\n      <span class=\"ocrx_word\" dir=\"ltr\" id=\"word_1_347\" lang=\"eng\" title=\"bbox 131 757 167 768; x_wconf 60\">\\n       <strong>\\n        Inemi)\\n       </strong>\\n      </span>\\n      <span class=\"ocrx_word\" dir=\"ltr\" id=\"word_1_348\" lang=\"eng\" title=\"bbox 207 757 214 767; x_wconf 79\">\\n       <strong>\\n        n\\n       </strong>\\n      </span>\\n      <span class=\"ocrx_word\" dir=\"ltr\" id=\"word_1_349\" lang=\"eng\" title=\"bbox 222 757 261 767; x_wconf 58\">\\n       «km...\\n      </span>\\n      <span class=\"ocrx_word\" dir=\"ltr\" id=\"word_1_350\" lang=\"eng\" title=\"bbox 268 756 313 766; x_wconf 67\">\\n       1.....er\\n      </span>\\n      <span class=\"ocrx_word\" dir=\"ltr\" id=\"word_1_351\" lang=\"eng\" title=\"bbox 320 756 346 766; x_wconf 66\">\\n       huh.\\n      </span>\\n      <span class=\"ocrx_word\" dir=\"ltr\" id=\"word_1_352\" lang=\"eng\" title=\"bbox 356 756 374 766; x_wconf 57\">\\n       .h.\\n      </span>\\n     </span>\\n     <span class=\"ocr_line\" id=\"line_1_54\" title=\"bbox 52 770 374 782; baseline -0.006 0; x_size 21.25; x_descenders 5.5; x_ascenders 5.25\">\\n      <span class=\"ocrx_word\" dir=\"ltr\" id=\"word_1_353\" lang=\"eng\" title=\"bbox 52 776 94 782; x_wconf 57\">\\n       <strong>\\n        th‘vcc\\n       </strong>\\n      </span>\\n      <span class=\"ocrx_word\" dir=\"ltr\" id=\"word_1_354\" lang=\"eng\" title=\"bbox 100 772 113 782; x_wconf 69\">\\n       hr\\n      </span>\\n      <span class=\"ocrx_word\" dir=\"ltr\" id=\"word_1_355\" lang=\"eng\" title=\"bbox 119 772 138 782; x_wconf 69\">\\n       (in:\\n      </span>\\n      <span class=\"ocrx_word\" dir=\"ltr\" id=\"word_1_356\" lang=\"eng\" title=\"bbox 146 773 186 782; x_wconf 53\">\\n       as\"...\\n      </span>\\n      <span class=\"ocrx_word\" dir=\"ltr\" id=\"word_1_357\" lang=\"eng\" title=\"bbox 195 771 240 781; x_wconf 64\">\\n       \\\\chnu!\\n      </span>\\n      <span class=\"ocrx_word\" dir=\"ltr\" id=\"word_1_358\" lang=\"eng\" title=\"bbox 248 771 279 781; x_wconf 72\">\\n       lc\\'u‘c\\n      </span>\\n      <span class=\"ocrx_word\" dir=\"ltr\" id=\"word_1_359\" lang=\"eng\" title=\"bbox 288 770 300 780; x_wconf 79\">\\n       ..r\\n      </span>\\n      <span class=\"ocrx_word\" dir=\"ltr\" id=\"word_1_360\" lang=\"eng\" title=\"bbox 307 770 326 780; x_wconf 64\">\\n       .h.\\n      </span>\\n      <span class=\"ocrx_word\" dir=\"ltr\" id=\"word_1_361\" lang=\"eng\" title=\"bbox 334 771 374 780; x_wconf 39\">\\n       sh...“\\n      </span>\\n     </span>\\n     <span class=\"ocr_line\" id=\"line_1_55\" title=\"bbox 53 786 136 796; baseline 0 0; x_size 21.25; x_descenders 5.5; x_ascenders 5.25\">\\n      <span class=\"ocrx_word\" dir=\"ltr\" id=\"word_1_362\" lang=\"eng\" title=\"bbox 53 786 136 796; x_wconf 63\">\\n       hutnbmincd,\\n      </span>\\n     </span>\\n    </p>\\n   </div>\\n   <div class=\"ocr_carea\" id=\"block_1_13\" title=\"bbox 308 183 311 189\">\\n    <p class=\"ocr_par\" dir=\"ltr\" id=\"par_1_24\" title=\"bbox 308 183 311 189\">\\n     <span class=\"ocr_line\" id=\"line_1_56\" title=\"bbox 308 183 311 189; baseline 0 0; x_size 3; x_descenders -1.5; x_ascenders 1.5\">\\n      <span class=\"ocrx_word\" dir=\"ltr\" id=\"word_1_363\" lang=\"eng\" title=\"bbox 308 183 311 189; x_wconf 95\">\\n      </span>\\n     </span>\\n    </p>\\n   </div>\\n   <div class=\"ocr_carea\" id=\"block_1_14\" title=\"bbox 338 224 342 232\">\\n    <p class=\"ocr_par\" dir=\"ltr\" id=\"par_1_25\" title=\"bbox 338 224 342 232\">\\n     <span class=\"ocr_line\" id=\"line_1_57\" title=\"bbox 338 224 342 232; baseline 0 965; x_size 20; x_descenders 5; x_ascenders 5\">\\n      <span class=\"ocrx_word\" dir=\"ltr\" id=\"word_1_364\" lang=\"eng\" title=\"bbox 338 224 342 232; x_wconf 95\">\\n      </span>\\n     </span>\\n    </p>\\n   </div>\\n   <div class=\"ocr_carea\" id=\"block_1_15\" title=\"bbox 172 271 239 286\">\\n    <p class=\"ocr_par\" dir=\"ltr\" id=\"par_1_26\" title=\"bbox 172 271 239 286\">\\n     <span class=\"ocr_line\" id=\"line_1_58\" title=\"bbox 172 271 239 286; baseline -0.015 -9; x_size 20; x_descenders 5; x_ascenders 5\">\\n      <span class=\"ocrx_word\" dir=\"ltr\" id=\"word_1_365\" lang=\"eng\" title=\"bbox 172 271 193 277; x_wconf 95\">\\n      </span>\\n      <span class=\"ocrx_word\" dir=\"ltr\" id=\"word_1_366\" lang=\"eng\" title=\"bbox 229 271 239 286; x_wconf 95\">\\n      </span>\\n     </span>\\n    </p>\\n   </div>\\n   <div class=\"ocr_carea\" id=\"block_1_16\" title=\"bbox 362 413 373 420\">\\n    <p class=\"ocr_par\" dir=\"ltr\" id=\"par_1_27\" title=\"bbox 362 413 373 420\">\\n     <span class=\"ocr_line\" id=\"line_1_59\" title=\"bbox 362 413 373 420; baseline 0 777; x_size 20; x_descenders 5; x_ascenders 5\">\\n      <span class=\"ocrx_word\" dir=\"ltr\" id=\"word_1_367\" lang=\"eng\" title=\"bbox 362 413 373 420; x_wconf 95\">\\n      </span>\\n     </span>\\n    </p>\\n   </div>\\n   <div class=\"ocr_carea\" id=\"block_1_17\" title=\"bbox 132 428 134 429\">\\n    <p class=\"ocr_par\" dir=\"ltr\" id=\"par_1_28\" title=\"bbox 132 428 134 429\">\\n     <span class=\"ocr_line\" id=\"line_1_60\" title=\"bbox 132 428 134 429; baseline 0 0; x_size 0.5; x_descenders -0.25; x_ascenders 0.25\">\\n      <span class=\"ocrx_word\" dir=\"ltr\" id=\"word_1_368\" lang=\"eng\" title=\"bbox 132 428 134 429; x_wconf 95\">\\n      </span>\\n     </span>\\n    </p>\\n   </div>\\n   <div class=\"ocr_carea\" id=\"block_1_18\" title=\"bbox 82 443 325 451\">\\n    <p class=\"ocr_par\" dir=\"ltr\" id=\"par_1_29\" title=\"bbox 82 443 325 451\">\\n     <span class=\"ocr_line\" id=\"line_1_61\" title=\"bbox 82 443 325 451; baseline -0.008 0; x_size 20; x_descenders 5; x_ascenders 5\">\\n      <span class=\"ocrx_word\" dir=\"ltr\" id=\"word_1_369\" lang=\"eng\" title=\"bbox 82 443 106 451; x_wconf 95\">\\n      </span>\\n      <span class=\"ocrx_word\" dir=\"ltr\" id=\"word_1_370\" lang=\"eng\" title=\"bbox 320 443 325 449; x_wconf 95\">\\n      </span>\\n     </span>\\n    </p>\\n   </div>\\n   <div class=\"ocr_carea\" id=\"block_1_19\" title=\"bbox 349 455 377 478\">\\n    <p class=\"ocr_par\" dir=\"ltr\" id=\"par_1_30\" title=\"bbox 349 455 377 478\">\\n     <span class=\"ocr_line\" id=\"line_1_62\" title=\"bbox 349 455 377 478; baseline 0 0; x_size 28.68421; x_descenders 5.6842103; x_ascenders 5\">\\n      <span class=\"ocrx_word\" dir=\"ltr\" id=\"word_1_371\" lang=\"eng\" title=\"bbox 349 455 377 478; x_wconf 95\">\\n      </span>\\n     </span>\\n    </p>\\n   </div>\\n   <div class=\"ocr_carea\" id=\"block_1_20\" title=\"bbox 287 499 299 506\">\\n    <p class=\"ocr_par\" dir=\"ltr\" id=\"par_1_31\" title=\"bbox 287 499 299 506\">\\n     <span class=\"ocr_line\" id=\"line_1_63\" title=\"bbox 287 499 299 506; baseline 0 691; x_size 20; x_descenders 5; x_ascenders 5\">\\n      <span class=\"ocrx_word\" dir=\"ltr\" id=\"word_1_372\" lang=\"eng\" title=\"bbox 287 499 299 506; x_wconf 95\">\\n      </span>\\n     </span>\\n    </p>\\n   </div>\\n   <div class=\"ocr_carea\" id=\"block_1_21\" title=\"bbox 312 586 321 592\">\\n    <p class=\"ocr_par\" dir=\"ltr\" id=\"par_1_32\" title=\"bbox 312 586 321 592\">\\n     <span class=\"ocr_line\" id=\"line_1_64\" title=\"bbox 312 586 321 592; baseline 0 0; x_size 3; x_descenders -1.5; x_ascenders 1.5\">\\n      <span class=\"ocrx_word\" dir=\"ltr\" id=\"word_1_373\" lang=\"eng\" title=\"bbox 312 586 321 592; x_wconf 95\">\\n      </span>\\n     </span>\\n    </p>\\n   </div>\\n   <div class=\"ocr_carea\" id=\"block_1_22\" title=\"bbox 169 760 206 767\">\\n    <p class=\"ocr_par\" dir=\"ltr\" id=\"par_1_33\" title=\"bbox 169 760 206 767\">\\n     <span class=\"ocr_line\" id=\"line_1_65\" title=\"bbox 169 760 206 767; baseline -0.027 0; x_size 20; x_descenders 5; x_ascenders 5\">\\n      <span class=\"ocrx_word\" dir=\"ltr\" id=\"word_1_374\" lang=\"eng\" title=\"bbox 169 760 180 767; x_wconf 95\">\\n      </span>\\n      <span class=\"ocrx_word\" dir=\"ltr\" id=\"word_1_375\" lang=\"eng\" title=\"bbox 201 760 206 766; x_wconf 95\">\\n      </span>\\n     </span>\\n    </p>\\n   </div>\\n   <div class=\"ocr_carea\" id=\"block_1_23\" title=\"bbox 191 806 235 808\">\\n    <p class=\"ocr_par\" dir=\"ltr\" id=\"par_1_34\" title=\"bbox 191 806 235 808\">\\n     <span class=\"ocr_line\" id=\"line_1_66\" title=\"bbox 191 806 235 808; baseline 0 0; x_size 1; x_descenders -0.5; x_ascenders 0.5\">\\n      <span class=\"ocrx_word\" dir=\"ltr\" id=\"word_1_376\" lang=\"eng\" title=\"bbox 191 806 235 808; x_wconf 95\">\\n      </span>\\n     </span>\\n    </p>\\n   </div>\\n   <div class=\"ocr_carea\" id=\"block_1_24\" title=\"bbox 222 815 227 826\">\\n    <p class=\"ocr_par\" dir=\"ltr\" id=\"par_1_35\" title=\"bbox 222 815 227 826\">\\n     <span class=\"ocr_line\" id=\"line_1_67\" title=\"bbox 222 815 227 826; baseline 0 371; x_size 20; x_descenders 5; x_ascenders 5\">\\n      <span class=\"ocrx_word\" dir=\"ltr\" id=\"word_1_377\" lang=\"eng\" title=\"bbox 222 815 227 826; x_wconf 95\">\\n      </span>\\n     </span>\\n    </p>\\n   </div>\\n   <div class=\"ocr_carea\" id=\"block_1_25\" title=\"bbox 53 814 374 872\">\\n    <p class=\"ocr_par\" dir=\"ltr\" id=\"par_1_36\" title=\"bbox 160 814 278 829\">\\n     <span class=\"ocr_line\" id=\"line_1_68\" title=\"bbox 160 814 278 829; baseline -0.008 -3; x_size 23.3125; x_descenders 5.5; x_ascenders 5.9375\">\\n      <span class=\"ocrx_word\" dir=\"ltr\" id=\"word_1_378\" lang=\"eng\" title=\"bbox 160 815 221 829; x_wconf 43\">\\n       Buying.\\n      </span>\\n      <span class=\"ocrx_word\" dir=\"ltr\" id=\"word_1_379\" lang=\"eng\" title=\"bbox 231 814 252 829; x_wconf 65\">\\n       pm\\n      </span>\\n      <span class=\"ocrx_word\" id=\"word_1_380\" lang=\"eng\" title=\"bbox 261 816 278 825; x_wconf 69\">\\n       .7,\\n      </span>\\n     </span>\\n    </p>\\n    <p class=\"ocr_par\" dir=\"ltr\" id=\"par_1_37\" title=\"bbox 53 829 374 872\">\\n     <span class=\"ocr_line\" id=\"line_1_69\" title=\"bbox 72 829 374 845; baseline -0.01 -3; x_size 23.3125; x_descenders 5.5; x_ascenders 5.9375\">\\n      <span class=\"ocrx_word\" dir=\"ltr\" id=\"word_1_381\" lang=\"eng\" title=\"bbox 72 830 95 842; x_wconf 68\">\\n       <strong>\\n        Flu:\\n       </strong>\\n      </span>\\n      <span class=\"ocrx_word\" dir=\"ltr\" id=\"word_1_382\" lang=\"eng\" title=\"bbox 102 830 143 845; x_wconf 62\">\\n       puliho\\n      </span>\\n      <span class=\"ocrx_word\" dir=\"ltr\" id=\"word_1_383\" lang=\"eng\" title=\"bbox 158 830 168 842; x_wconf 79\">\\n       ul\\n      </span>\\n      <span class=\"ocrx_word\" dir=\"ltr\" id=\"word_1_384\" lang=\"eng\" title=\"bbox 179 830 234 842; x_wconf 62\">\\n       <strong>\\n        Lcuumd\\n       </strong>\\n      </span>\\n      <span class=\"ocrx_word\" dir=\"ltr\" id=\"word_1_385\" lang=\"eng\" title=\"bbox 243 829 307 843; x_wconf 68\">\\n       Blceckm,\\n      </span>\\n      <span class=\"ocrx_word\" dir=\"ltr\" id=\"word_1_386\" lang=\"eng\" title=\"bbox 314 830 325 840; x_wconf 75\">\\n       [U\\n      </span>\\n      <span class=\"ocrx_word\" dir=\"ltr\" id=\"word_1_387\" lang=\"eng\" title=\"bbox 334 829 374 843; x_wconf 58\">\\n       h“...\\n      </span>\\n     </span>\\n     <span class=\"ocr_line\" id=\"line_1_70\" title=\"bbox 53 843 373 860; baseline -0.006 -3; x_size 23.3125; x_descenders 5.5; x_ascenders 5.9375\">\\n      <span class=\"ocrx_word\" dir=\"ltr\" id=\"word_1_388\" lang=\"eng\" title=\"bbox 53 845 144 860; x_wconf 62\">\\n       phime.1.e.»gc-\\n      </span>\\n      <span class=\"ocrx_word\" dir=\"ltr\" id=\"word_1_389\" lang=\"eng\" title=\"bbox 169 843 373 858; x_wconf 60\">\\n       h.h.m.,m.s.m.l.:..h1mdc.cd\\n      </span>\\n     </span>\\n     <span class=\"ocr_line\" id=\"line_1_71\" title=\"bbox 53 859 176 872; baseline -0.008 -1; x_size 23.3125; x_descenders 5.5; x_ascenders 5.9375\">\\n      <span class=\"ocrx_word\" dir=\"ltr\" id=\"word_1_390\" lang=\"eng\" title=\"bbox 53 862 65 872; x_wconf 75\">\\n       (n\\n      </span>\\n      <span class=\"ocrx_word\" dir=\"ltr\" id=\"word_1_391\" lang=\"eng\" title=\"bbox 71 860 86 872; x_wconf 69\">\\n       h.\\n      </span>\\n      <span class=\"ocrx_word\" dir=\"ltr\" id=\"word_1_392\" lang=\"eng\" title=\"bbox 92 864 107 871; x_wconf 70\">\\n       an\\n      </span>\\n      <span class=\"ocrx_word\" dir=\"ltr\" id=\"word_1_393\" lang=\"eng\" title=\"bbox 114 860 134 871; x_wconf 61\">\\n       .h.\\n      </span>\\n      <span class=\"ocrx_word\" dir=\"ltr\" id=\"word_1_394\" lang=\"eng\" title=\"bbox 141 859 176 871; x_wconf 58\">\\n       mm.\\n      </span>\\n     </span>\\n    </p>\\n   </div>\\n   <div class=\"ocr_carea\" id=\"block_1_26\" title=\"bbox 54 888 376 1136\">\\n    <p class=\"ocr_par\" dir=\"ltr\" id=\"par_1_38\" title=\"bbox 145 888 287 902\">\\n     <span class=\"ocr_line\" id=\"line_1_72\" title=\"bbox 145 888 287 902; baseline -0.007 -2; x_size 21.8125; x_descenders 5.5; x_ascenders 5.4375\">\\n      <span class=\"ocrx_word\" dir=\"ltr\" id=\"word_1_395\" lang=\"eng\" title=\"bbox 145 889 219 902; x_wconf 71\">\\n       <strong>\\n        SATURDAY,\\n       </strong>\\n      </span>\\n      <span class=\"ocrx_word\" dir=\"ltr\" id=\"word_1_396\" lang=\"eng\" title=\"bbox 226 888 261 902; x_wconf 57\">\\n       A\"...\\n      </span>\\n      <span class=\"ocrx_word\" dir=\"ltr\" id=\"word_1_397\" lang=\"eng\" title=\"bbox 270 889 287 899; x_wconf 66\">\\n       Is,\\n      </span>\\n     </span>\\n    </p>\\n    <p class=\"ocr_par\" dir=\"ltr\" id=\"par_1_39\" title=\"bbox 54 902 375 1005\">\\n     <span class=\"ocr_line\" id=\"line_1_73\" title=\"bbox 73 902 374 918; baseline -0.003 -3; x_size 16.045977; x_descenders 4.0459771; x_ascenders 4\">\\n      <span class=\"ocrx_word\" id=\"word_1_398\" lang=\"eng\" title=\"bbox 73 904 80 916; x_wconf 87\">\\n       <strong>\\n        <em>\\n         \\\\\\n        </em>\\n       </strong>\\n      </span>\\n      <span class=\"ocrx_word\" dir=\"ltr\" id=\"word_1_399\" lang=\"eng\" title=\"bbox 87 904 119 915; x_wconf 51\">\\n       lune.\\n      </span>\\n      <span class=\"ocrx_word\" dir=\"ltr\" id=\"word_1_400\" lang=\"eng\" title=\"bbox 128 903 158 915; x_wconf 64\">\\n       ﬂu.»\\n      </span>\\n      <span class=\"ocrx_word\" dir=\"ltr\" id=\"word_1_401\" lang=\"eng\" title=\"bbox 164 903 183 915; x_wconf 70\">\\n       Ihe\\n      </span>\\n      <span class=\"ocrx_word\" dir=\"ltr\" id=\"word_1_402\" lang=\"eng\" title=\"bbox 188 903 242 918; x_wconf 64\">\\n       Spunkcr\\n      </span>\\n      <span class=\"ocrx_word\" id=\"word_1_403\" lang=\"eng\" title=\"bbox 247 903 258 914; x_wconf 69\">\\n       0!\\n      </span>\\n      <span class=\"ocrx_word\" dir=\"ltr\" id=\"word_1_404\" lang=\"eng\" title=\"bbox 265 902 285 914; x_wconf 72\">\\n       me\\n      </span>\\n      <span class=\"ocrx_word\" dir=\"ltr\" id=\"word_1_405\" lang=\"eng\" title=\"bbox 291 902 332 914; x_wconf 59\">\\n       <strong>\\n        [Luise\\n       </strong>\\n      </span>\\n      <span class=\"ocrx_word\" dir=\"ltr\" id=\"word_1_406\" lang=\"eng\" title=\"bbox 338 903 349 914; x_wconf 60\">\\n       “I\\n      </span>\\n      <span class=\"ocrx_word\" dir=\"ltr\" id=\"word_1_407\" lang=\"eng\" title=\"bbox 355 902 374 914; x_wconf 74\">\\n       (he\\n      </span>\\n     </span>\\n     <span class=\"ocr_line\" id=\"line_1_74\" title=\"bbox 55 917 374 932; baseline -0.009 -1; x_size 21.8125; x_descenders 5.5; x_ascenders 5.4375\">\\n      <span class=\"ocrx_word\" dir=\"ltr\" id=\"word_1_408\" lang=\"eng\" title=\"bbox 55 919 118 931; x_wconf 62\">\\n       <strong>\\n        l’Ienulent\\n       </strong>\\n      </span>\\n      <span class=\"ocrx_word\" id=\"word_1_409\" lang=\"eng\" title=\"bbox 125 922 149 930; x_wconf 61\">\\n       “.15\\n      </span>\\n      <span class=\"ocrx_word\" dir=\"ltr\" id=\"word_1_410\" lang=\"eng\" title=\"bbox 156 918 189 932; x_wconf 66\">\\n       mm,\\n      </span>\\n      <span class=\"ocrx_word\" dir=\"ltr\" id=\"word_1_411\" lang=\"eng\" title=\"bbox 195 918 257 929; x_wconf 63\">\\n       uncllmn\"\\n      </span>\\n      <span class=\"ocrx_word\" dir=\"ltr\" id=\"word_1_412\" lang=\"eng\" title=\"bbox 263 922 269 929; x_wconf 76\">\\n       <strong>\\n        n\\n       </strong>\\n      </span>\\n      <span class=\"ocrx_word\" dir=\"ltr\" id=\"word_1_413\" lang=\"eng\" title=\"bbox 275 921 357 929; x_wconf 62\">\\n       CUHCIII’IPHEIA\\n      </span>\\n      <span class=\"ocrx_word\" dir=\"ltr\" id=\"word_1_414\" lang=\"eng\" title=\"bbox 363 917 374 928; x_wconf 63\">\\n       <strong>\\n        m\\n       </strong>\\n      </span>\\n     </span>\\n     <span class=\"ocr_line\" id=\"line_1_75\" title=\"bbox 54 931 374 947; baseline -0.009 -1; x_size 16.045977; x_descenders 4.0459771; x_ascenders 4\">\\n      <span class=\"ocrx_word\" dir=\"ltr\" id=\"word_1_415\" lang=\"eng\" title=\"bbox 54 934 73 946; x_wconf 56\">\\n       ‘hc\\n      </span>\\n      <span class=\"ocrx_word\" dir=\"ltr\" id=\"word_1_416\" lang=\"eng\" title=\"bbox 78 933 123 947; x_wconf 63\">\\n       Hausa.\\n      </span>\\n      <span class=\"ocrx_word\" dir=\"ltr\" id=\"word_1_417\" lang=\"eng\" title=\"bbox 128 933 157 945; x_wconf 64\">\\n       Mil»\\n      </span>\\n      <span class=\"ocrx_word\" dir=\"ltr\" id=\"word_1_418\" lang=\"eng\" title=\"bbox 162 933 180 945; x_wconf 66\">\\n       the\\n      </span>\\n      <span class=\"ocrx_word\" dir=\"ltr\" id=\"word_1_419\" lang=\"eng\" title=\"bbox 185 932 247 944; x_wconf 63\">\\n       rcsnlxem\\n      </span>\\n      <span class=\"ocrx_word\" dir=\"ltr\" id=\"word_1_420\" lang=\"eng\" title=\"bbox 253 932 337 944; x_wconf 62\">\\n       bclwenhlw\\n      </span>\\n      <span class=\"ocrx_word\" dir=\"ltr\" id=\"word_1_421\" lang=\"eng\" title=\"bbox 344 931 374 946; x_wconf 66\">\\n       mm,\\n      </span>\\n     </span>\\n     <span class=\"ocr_line\" id=\"line_1_76\" title=\"bbox 54 947 374 963; baseline -0.003 -3; x_size 21.8125; x_descenders 5.5; x_ascenders 5.4375\">\\n      <span class=\"ocrx_word\" dir=\"ltr\" id=\"word_1_422\" lang=\"eng\" title=\"bbox 54 953 85 963; x_wconf 71\">\\n       <strong>\\n        uplm\\n       </strong>\\n      </span>\\n      <span class=\"ocrx_word\" dir=\"ltr\" id=\"word_1_423\" lang=\"eng\" title=\"bbox 93 949 111 960; x_wconf 68\">\\n       Nu:\\n      </span>\\n      <span class=\"ocrx_word\" dir=\"ltr\" id=\"word_1_424\" lang=\"eng\" title=\"bbox 119 948 155 960; x_wconf 80\">\\n       <strong>\\n        Hlmlc\\n       </strong>\\n      </span>\\n      <span class=\"ocrx_word\" id=\"word_1_425\" lang=\"eng\" title=\"bbox 161 948 172 959; x_wconf 75\">\\n       0|\\n      </span>\\n      <span class=\"ocrx_word\" dir=\"ltr\" id=\"word_1_426\" lang=\"eng\" title=\"bbox 181 947 254 959; x_wconf 57\">\\n       cunl’emmh\\n      </span>\\n      <span class=\"ocrx_word\" dir=\"ltr\" id=\"word_1_427\" lang=\"eng\" title=\"bbox 263 947 317 959; x_wconf 68\">\\n       huwcun\\n      </span>\\n      <span class=\"ocrx_word\" dir=\"ltr\" id=\"word_1_428\" lang=\"eng\" title=\"bbox 327 947 346 958; x_wconf 74\">\\n       Ihc\\n      </span>\\n      <span class=\"ocrx_word\" dir=\"ltr\" id=\"word_1_429\" lang=\"eng\" title=\"bbox 353 947 374 959; x_wconf 47\">\\n       Sm\\n      </span>\\n     </span>\\n     <span class=\"ocr_line\" id=\"line_1_77\" title=\"bbox 54 962 375 977; baseline -0.009 -2; x_size 21; x_descenders 3; x_ascenders 6\">\\n      <span class=\"ocrx_word\" dir=\"ltr\" id=\"word_1_430\" lang=\"eng\" title=\"bbox 54 966 82 975; x_wconf 64\">\\n       hm,\\n      </span>\\n      <span class=\"ocrx_word\" dir=\"ltr\" id=\"word_1_431\" lang=\"eng\" title=\"bbox 93 963 116 975; x_wconf 72\">\\n       nml\\n      </span>\\n      <span class=\"ocrx_word\" dir=\"ltr\" id=\"word_1_432\" lang=\"eng\" title=\"bbox 128 963 169 975; x_wconf 54\">\\n       uh...\\n      </span>\\n      <span class=\"ocrx_word\" dir=\"ltr\" id=\"word_1_433\" lang=\"eng\" title=\"bbox 181 962 194 974; x_wconf 66\">\\n       hr\\n      </span>\\n      <span class=\"ocrx_word\" dir=\"ltr\" id=\"word_1_434\" lang=\"eng\" title=\"bbox 204 962 316 977; x_wconf 60\">\\n       Represeulamm;\\n      </span>\\n      <span class=\"ocrx_word\" dir=\"ltr\" id=\"word_1_435\" lang=\"eng\" title=\"bbox 327 962 357 976; x_wconf 53\">\\n       hm,\\n      </span>\\n      <span class=\"ocrx_word\" dir=\"ltr\" id=\"word_1_436\" lang=\"eng\" title=\"bbox 368 966 375 973; x_wconf 55\">\\n       h\\n      </span>\\n     </span>\\n     <span class=\"ocr_line\" id=\"line_1_78\" title=\"bbox 54 976 374 993; baseline -0.006 -3; x_size 21.8125; x_descenders 5.5; x_ascenders 5.4375\">\\n      <span class=\"ocrx_word\" dir=\"ltr\" id=\"word_1_437\" lang=\"eng\" title=\"bbox 54 982 136 990; x_wconf 62\">\\n       muchmhre\\n      </span>\\n      <span class=\"ocrx_word\" dir=\"ltr\" id=\"word_1_438\" lang=\"eng\" title=\"bbox 143 981 174 993; x_wconf 73\">\\n       upml\\n      </span>\\n      <span class=\"ocrx_word\" dir=\"ltr\" id=\"word_1_439\" lang=\"eng\" title=\"bbox 183 978 202 989; x_wconf 57\">\\n       u.»\\n      </span>\\n      <span class=\"ocrx_word\" dir=\"ltr\" id=\"word_1_440\" lang=\"eng\" title=\"bbox 211 977 246 988; x_wconf 58\">\\n       \"hum\\n      </span>\\n      <span class=\"ocrx_word\" dir=\"ltr\" id=\"word_1_441\" lang=\"eng\" title=\"bbox 253 977 266 988; x_wconf 82\">\\n       hr\\n      </span>\\n      <span class=\"ocrx_word\" dir=\"ltr\" id=\"word_1_442\" lang=\"eng\" title=\"bbox 274 976 330 991; x_wconf 60\">\\n       I‘lmlmng\\n      </span>\\n      <span class=\"ocrx_word\" dir=\"ltr\" id=\"word_1_443\" lang=\"eng\" title=\"bbox 338 976 374 991; x_wconf 55\">\\n       chm\\n      </span>\\n     </span>\\n     <span class=\"ocr_line\" id=\"line_1_79\" title=\"bbox 54 993 87 1005; baseline 0 0; x_size 16.045977; x_descenders 4.0459771; x_ascenders 4\">\\n      <span class=\"ocrx_word\" dir=\"ltr\" id=\"word_1_444\" lang=\"eng\" title=\"bbox 54 993 87 1005; x_wconf 56\">\\n       lame.\\n      </span>\\n     </span>\\n    </p>\\n    <p class=\"ocr_par\" dir=\"ltr\" id=\"par_1_40\" title=\"bbox 69 1008 144 1021\">\\n     <span class=\"ocr_line\" id=\"line_1_80\" title=\"bbox 69 1008 144 1021; baseline 0.013 -2; x_size 21.8125; x_descenders 5.5; x_ascenders 5.4375\">\\n      <span class=\"ocrx_word\" id=\"word_1_445\" lang=\"eng\" title=\"bbox 69 1008 87 1020; x_wconf 79\">\\n       0..\\n      </span>\\n      <span class=\"ocrx_word\" dir=\"ltr\" id=\"word_1_446\" lang=\"eng\" title=\"bbox 95 1010 144 1021; x_wconf 48\">\\n       “who“.\\n      </span>\\n     </span>\\n    </p>\\n    <p class=\"ocr_par\" dir=\"ltr\" id=\"par_1_41\" title=\"bbox 54 1021 375 1050\">\\n     <span class=\"ocr_line\" id=\"line_1_81\" title=\"bbox 68 1021 375 1036; baseline -0.007 -3; x_size 21.8125; x_descenders 5.5; x_ascenders 5.4375\">\\n      <span class=\"ocrx_word\" dir=\"ltr\" id=\"word_1_447\" lang=\"eng\" title=\"bbox 68 1023 120 1035; x_wconf 62\">\\n       <em>\\n        11mm,\\n       </em>\\n      </span>\\n      <span class=\"ocrx_word\" dir=\"ltr\" id=\"word_1_448\" lang=\"eng\" title=\"bbox 132 1023 157 1032; x_wconf 76\">\\n       n...\\n      </span>\\n      <span class=\"ocrx_word\" dir=\"ltr\" id=\"word_1_449\" lang=\"eng\" title=\"bbox 163 1023 181 1032; x_wconf 72\">\\n       \\\\he\\n      </span>\\n      <span class=\"ocrx_word\" dir=\"ltr\" id=\"word_1_450\" lang=\"eng\" title=\"bbox 187 1022 244 1036; x_wconf 59\">\\n       follnwing\\n      </span>\\n      <span class=\"ocrx_word\" dir=\"ltr\" id=\"word_1_451\" lang=\"eng\" title=\"bbox 251 1022 266 1032; x_wconf 60\">\\n       h:\\n      </span>\\n      <span class=\"ocrx_word\" dir=\"ltr\" id=\"word_1_452\" lang=\"eng\" title=\"bbox 274 1022 331 1035; x_wconf 62\">\\n       <strong>\\n        summncd\\n       </strong>\\n      </span>\\n      <span class=\"ocrx_word\" dir=\"ltr\" id=\"word_1_453\" lang=\"eng\" title=\"bbox 340 1021 375 1032; x_wconf 65\">\\n       mthe\\n      </span>\\n     </span>\\n     <span class=\"ocr_line\" id=\"line_1_82\" title=\"bbox 54 1037 232 1050; baseline 0 -3; x_size 21.8125; x_descenders 5.5; x_ascenders 5.4375\">\\n      <span class=\"ocrx_word\" dir=\"ltr\" id=\"word_1_454\" lang=\"eng\" title=\"bbox 54 1037 104 1050; x_wconf 46\">\\n       mud...“\\n      </span>\\n      <span class=\"ocrx_word\" dir=\"ltr\" id=\"word_1_455\" lang=\"eng\" title=\"bbox 110 1037 186 1047; x_wconf 55\">\\n       animal-u..-\\n      </span>\\n      <span class=\"ocrx_word\" id=\"word_1_456\" lang=\"eng\" title=\"bbox 193 1038 206 1047; x_wconf 60\">\\n       5.\\n      </span>\\n      <span class=\"ocrx_word\" dir=\"ltr\" id=\"word_1_457\" lang=\"eng\" title=\"bbox 215 1038 232 1047; x_wconf 54\">\\n       Al:\\n      </span>\\n     </span>\\n    </p>\\n    <p class=\"ocr_par\" dir=\"ltr\" id=\"par_1_42\" title=\"bbox 54 1050 376 1136\">\\n     <span class=\"ocr_line\" id=\"line_1_83\" title=\"bbox 68 1050 376 1065; baseline -0.006 -3; x_size 21.8125; x_descenders 5.5; x_ascenders 5.4375\">\\n      <span class=\"ocrx_word\" dir=\"ltr\" id=\"word_1_458\" lang=\"eng\" title=\"bbox 68 1052 89 1062; x_wconf 79\">\\n       xx\\n      </span>\\n      <span class=\"ocrx_word\" dir=\"ltr\" id=\"word_1_459\" lang=\"eng\" title=\"bbox 102 1051 141 1062; x_wconf 51\">\\n       ugh...\\n      </span>\\n      <span class=\"ocrx_word\" dir=\"ltr\" id=\"word_1_460\" lang=\"eng\" title=\"bbox 150 1055 167 1064; x_wconf 59\">\\n       .h.\\n      </span>\\n      <span class=\"ocrx_word\" dir=\"ltr\" id=\"word_1_461\" lang=\"eng\" title=\"bbox 178 1053 223 1065; x_wconf 55\">\\n       pm...”\\n      </span>\\n      <span class=\"ocrx_word\" dir=\"ltr\" id=\"word_1_462\" lang=\"eng\" title=\"bbox 231 1055 244 1061; x_wconf 80\">\\n       or\\n      </span>\\n      <span class=\"ocrx_word\" dir=\"ltr\" id=\"word_1_463\" lang=\"eng\" title=\"bbox 250 1051 309 1063; x_wconf 65\">\\n       umuornd,\\n      </span>\\n      <span class=\"ocrx_word\" dir=\"ltr\" id=\"word_1_464\" lang=\"eng\" title=\"bbox 316 1050 376 1060; x_wconf 45\">\\n       huh-.Nd\\n      </span>\\n     </span>\\n     <span class=\"ocr_line\" id=\"line_1_84\" title=\"bbox 54 1065 374 1078; baseline -0.003 -2; x_size 21.8125; x_descenders 5.5; x_ascenders 5.4375\">\\n      <span class=\"ocrx_word\" dir=\"ltr\" id=\"word_1_465\" lang=\"eng\" title=\"bbox 54 1068 65 1076; x_wconf 67\">\\n       .o\\n      </span>\\n      <span class=\"ocrx_word\" dir=\"ltr\" id=\"word_1_466\" lang=\"eng\" title=\"bbox 70 1066 89 1076; x_wconf 62\">\\n       the\\n      </span>\\n      <span class=\"ocrx_word\" dir=\"ltr\" id=\"word_1_467\" lang=\"eng\" title=\"bbox 94 1066 202 1078; x_wconf 66\">\\n       5elutc.slu1lbcrc\\n      </span>\\n      <span class=\"ocrx_word\" dir=\"ltr\" id=\"word_1_468\" lang=\"eng\" title=\"bbox 228 1066 241 1076; x_wconf 61\">\\n       <strong>\\n        m\\n       </strong>\\n      </span>\\n      <span class=\"ocrx_word\" dir=\"ltr\" id=\"word_1_469\" lang=\"eng\" title=\"bbox 249 1066 268 1076; x_wconf 56\">\\n       m\\n      </span>\\n      <span class=\"ocrx_word\" id=\"word_1_470\" lang=\"eng\" title=\"bbox 272 1069 274 1075; x_wconf 88\">\\n       .\\n      </span>\\n      <span class=\"ocrx_word\" dir=\"ltr\" id=\"word_1_471\" lang=\"eng\" title=\"bbox 278 1065 297 1076; x_wconf 53\">\\n       m1\\n      </span>\\n      <span class=\"ocrx_word\" id=\"word_1_472\" lang=\"eng\" title=\"bbox 302 1067 312 1075; x_wconf 43\">\\n       4.\\n      </span>\\n      <span class=\"ocrx_word\" dir=\"ltr\" id=\"word_1_473\" lang=\"eng\" title=\"bbox 318 1065 336 1075; x_wconf 58\">\\n       the\\n      </span>\\n      <span class=\"ocrx_word\" id=\"word_1_474\" lang=\"eng\" title=\"bbox 341 1065 374 1077; x_wconf 53\">\\n       ”1.1.,\\n      </span>\\n     </span>\\n     <span class=\"ocr_line\" id=\"line_1_85\" title=\"bbox 55 1080 375 1093; baseline -0.003 -3; x_size 21.8125; x_descenders 5.5; x_ascenders 5.4375\">\\n      <span class=\"ocrx_word\" dir=\"ltr\" id=\"word_1_475\" lang=\"eng\" title=\"bbox 55 1080 128 1090; x_wconf 58\">\\n       whahcrum\\n      </span>\\n      <span class=\"ocrx_word\" dir=\"ltr\" id=\"word_1_476\" lang=\"eng\" title=\"bbox 136 1081 198 1091; x_wconf 47\">\\n       “mum“\\n      </span>\\n      <span class=\"ocrx_word\" dir=\"ltr\" id=\"word_1_477\" lang=\"eng\" title=\"bbox 206 1080 219 1090; x_wconf 70\">\\n       hc\\n      </span>\\n      <span class=\"ocrx_word\" dir=\"ltr\" id=\"word_1_478\" lang=\"eng\" title=\"bbox 225 1080 290 1090; x_wconf 65\">\\n       <strong>\\n        iulruducul\\n       </strong>\\n      </span>\\n      <span class=\"ocrx_word\" dir=\"ltr\" id=\"word_1_479\" lang=\"eng\" title=\"bbox 296 1080 310 1093; x_wconf 74\">\\n       hy\\n      </span>\\n      <span class=\"ocrx_word\" dir=\"ltr\" id=\"word_1_480\" lang=\"eng\" title=\"bbox 316 1080 335 1090; x_wconf 64\">\\n       me\\n      </span>\\n      <span class=\"ocrx_word\" dir=\"ltr\" id=\"word_1_481\" lang=\"eng\" title=\"bbox 342 1081 375 1090; x_wconf 51\">\\n       p“...\\n      </span>\\n     </span>\\n     <span class=\"ocr_line\" id=\"line_1_86\" title=\"bbox 54 1094 376 1107; baseline 0 -3; x_size 21.8125; x_descenders 5.5; x_ascenders 5.4375\">\\n      <span class=\"ocrx_word\" dir=\"ltr\" id=\"word_1_482\" lang=\"eng\" title=\"bbox 54 1094 81 1104; x_wconf 62\">\\n       dam\\n      </span>\\n      <span class=\"ocrx_word\" dir=\"ltr\" id=\"word_1_483\" lang=\"eng\" title=\"bbox 86 1098 98 1104; x_wconf 77\">\\n       ur\\n      </span>\\n      <span class=\"ocrx_word\" dir=\"ltr\" id=\"word_1_484\" lang=\"eng\" title=\"bbox 103 1098 109 1104; x_wconf 65\">\\n       <strong>\\n        a\\n       </strong>\\n      </span>\\n      <span class=\"ocrx_word\" dir=\"ltr\" id=\"word_1_485\" lang=\"eng\" title=\"bbox 114 1094 167 1107; x_wconf 62\">\\n       mambcv,\\n      </span>\\n      <span class=\"ocrx_word\" id=\"word_1_486\" lang=\"eng\" title=\"bbox 174 1098 180 1105; x_wconf 72\">\\n       .\\n      </span>\\n      <span class=\"ocrx_word\" dir=\"ltr\" id=\"word_1_487\" lang=\"eng\" title=\"bbox 185 1095 277 1105; x_wconf 57\">\\n       Inmf\\'qlutcmcul\\n      </span>\\n      <span class=\"ocrx_word\" dir=\"ltr\" id=\"word_1_488\" lang=\"eng\" title=\"bbox 282 1094 295 1104; x_wconf 66\">\\n       a:\\n      </span>\\n      <span class=\"ocrx_word\" dir=\"ltr\" id=\"word_1_489\" lang=\"eng\" title=\"bbox 301 1095 320 1104; x_wconf 63\">\\n       (1m\\n      </span>\\n      <span class=\"ocrx_word\" dir=\"ltr\" id=\"word_1_490\" lang=\"eng\" title=\"bbox 326 1095 376 1104; x_wconf 59\">\\n       mum...\\n      </span>\\n     </span>\\n     <span class=\"ocr_line\" id=\"line_1_87\" title=\"bbox 55 1108 376 1122; baseline 0 -3; x_size 21.8125; x_descenders 5.5; x_ascenders 5.4375\">\\n      <span class=\"ocrx_word\" dir=\"ltr\" id=\"word_1_491\" lang=\"eng\" title=\"bbox 55 1108 67 1119; x_wconf 68\">\\n       at\\n      </span>\\n      <span class=\"ocrx_word\" id=\"word_1_492\" lang=\"eng\" title=\"bbox 73 1109 91 1119; x_wconf 62\">\\n       (1):\\n      </span>\\n      <span class=\"ocrx_word\" dir=\"ltr\" id=\"word_1_493\" lang=\"eng\" title=\"bbox 97 1108 143 1122; x_wconf 57\">\\n       mm...\\n      </span>\\n      <span class=\"ocrx_word\" dir=\"ltr\" id=\"word_1_494\" lang=\"eng\" title=\"bbox 152 1110 224 1120; x_wconf 64\">\\n       m\\'memmml\\n      </span>\\n      <span class=\"ocrx_word\" dir=\"ltr\" id=\"word_1_495\" lang=\"eng\" title=\"bbox 230 1109 257 1119; x_wconf 58\">\\n       mu\\n      </span>\\n      <span class=\"ocrx_word\" dir=\"ltr\" id=\"word_1_496\" lang=\"eng\" title=\"bbox 265 1109 314 1122; x_wconf 67\">\\n       wlbally\\n      </span>\\n      <span class=\"ocrx_word\" dir=\"ltr\" id=\"word_1_497\" lang=\"eng\" title=\"bbox 323 1109 336 1119; x_wconf 76\">\\n       lm\\n      </span>\\n      <span class=\"ocrx_word\" dir=\"ltr\" id=\"word_1_498\" lang=\"eng\" title=\"bbox 344 1109 376 1119; x_wconf 65\">\\n       mmc\\n      </span>\\n     </span>\\n     <span class=\"ocr_line\" id=\"line_1_88\" title=\"bbox 55 1123 162 1136; baseline 0.009 -3; x_size 21.8125; x_descenders 5.5; x_ascenders 5.4375\">\\n      <span class=\"ocrx_word\" dir=\"ltr\" id=\"word_1_499\" lang=\"eng\" title=\"bbox 55 1123 69 1136; x_wconf 69\">\\n       by\\n      </span>\\n      <span class=\"ocrx_word\" dir=\"ltr\" id=\"word_1_500\" lang=\"eng\" title=\"bbox 74 1123 93 1133; x_wconf 62\">\\n       the\\n      </span>\\n      <span class=\"ocrx_word\" dir=\"ltr\" id=\"word_1_501\" lang=\"eng\" title=\"bbox 99 1123 162 1134; x_wconf 67\">\\n       .mrnrlucrl\\'\\n      </span>\\n     </span>\\n    </p>\\n   </div>\\n   <div class=\"ocr_carea\" id=\"block_1_27\" title=\"bbox 144 846 168 856\">\\n    <p class=\"ocr_par\" dir=\"ltr\" id=\"par_1_43\" title=\"bbox 144 846 168 856\">\\n     <span class=\"ocr_line\" id=\"line_1_89\" title=\"bbox 144 846 168 856; baseline 0 0; x_size 20; x_descenders 5; x_ascenders 5\">\\n      <span class=\"ocrx_word\" dir=\"ltr\" id=\"word_1_502\" lang=\"eng\" title=\"bbox 144 849 147 856; x_wconf 95\">\\n      </span>\\n      <span class=\"ocrx_word\" dir=\"ltr\" id=\"word_1_503\" lang=\"eng\" title=\"bbox 154 846 168 856; x_wconf 95\">\\n      </span>\\n     </span>\\n    </p>\\n   </div>\\n   <div class=\"ocr_carea\" id=\"block_1_28\" title=\"bbox 204 1069 227 1076\">\\n    <p class=\"ocr_par\" dir=\"ltr\" id=\"par_1_44\" title=\"bbox 204 1069 227 1076\">\\n     <span class=\"ocr_line\" id=\"line_1_90\" title=\"bbox 204 1069 227 1076; baseline 0 121; x_size 20; x_descenders 5; x_ascenders 5\">\\n      <span class=\"ocrx_word\" dir=\"ltr\" id=\"word_1_504\" lang=\"eng\" title=\"bbox 204 1069 227 1076; x_wconf 95\">\\n      </span>\\n     </span>\\n    </p>\\n   </div>\\n   <div class=\"ocr_carea\" id=\"block_1_29\" title=\"bbox 377 143 383 1126\">\\n    <p class=\"ocr_par\" dir=\"ltr\" id=\"par_1_45\" title=\"bbox 377 143 383 1126\">\\n     <span class=\"ocr_line\" id=\"line_1_91\" title=\"bbox 377 143 383 1126; baseline 0 0; x_size 491.5; x_descenders -245.75; x_ascenders 245.75\">\\n      <span class=\"ocrx_word\" dir=\"ltr\" id=\"word_1_505\" lang=\"eng\" title=\"bbox 377 143 383 1126; x_wconf 95\">\\n      </span>\\n     </span>\\n    </p>\\n   </div>\\n   <div class=\"ocr_carea\" id=\"block_1_30\" title=\"bbox 468 135 482 140\">\\n    <p class=\"ocr_par\" dir=\"ltr\" id=\"par_1_46\" title=\"bbox 468 135 482 140\">\\n     <span class=\"ocr_line\" id=\"line_1_92\" title=\"bbox 468 135 482 140; baseline 0 0; x_size 2.5; x_descenders -1.25; x_ascenders 1.25\">\\n      <span class=\"ocrx_word\" dir=\"ltr\" id=\"word_1_506\" lang=\"eng\" title=\"bbox 468 135 482 140; x_wconf 95\">\\n      </span>\\n     </span>\\n    </p>\\n   </div>\\n   <div class=\"ocr_carea\" id=\"block_1_31\" title=\"bbox 385 147 709 253\">\\n    <p class=\"ocr_par\" dir=\"ltr\" id=\"par_1_47\" title=\"bbox 385 147 709 253\">\\n     <span class=\"ocr_line\" id=\"line_1_93\" title=\"bbox 482 147 615 161; baseline -0.023 -1; x_size 18; x_descenders 3; x_ascenders 5\">\\n      <span class=\"ocrx_word\" dir=\"ltr\" id=\"word_1_507\" lang=\"eng\" title=\"bbox 482 148 506 160; x_wconf 76\">\\n       Vlo\\n      </span>\\n      <span class=\"ocrx_word\" dir=\"ltr\" id=\"word_1_508\" lang=\"eng\" title=\"bbox 518 151 547 159; x_wconf 60\">\\n       m».\\n      </span>\\n      <span class=\"ocrx_word\" dir=\"ltr\" id=\"word_1_509\" lang=\"eng\" title=\"bbox 555 147 615 161; x_wconf 54\">\\n       Apmzm\\n      </span>\\n     </span>\\n     <span class=\"ocr_line\" id=\"line_1_94\" title=\"bbox 400 164 693 180; baseline -0.01 -1; x_size 24.15625; x_descenders 5.5; x_ascenders 6.21875\">\\n      <span class=\"ocrx_word\" dir=\"ltr\" id=\"word_1_510\" lang=\"eng\" title=\"bbox 400 167 436 179; x_wconf 65\">\\n       1mm\\n      </span>\\n      <span class=\"ocrx_word\" dir=\"ltr\" id=\"word_1_511\" lang=\"eng\" title=\"bbox 449 166 499 180; x_wconf 63\">\\n       ”N...\\n      </span>\\n      <span class=\"ocrx_word\" dir=\"ltr\" id=\"word_1_512\" lang=\"eng\" title=\"bbox 510 166 517 178; x_wconf 88\">\\n       h\\n      </span>\\n      <span class=\"ocrx_word\" dir=\"ltr\" id=\"word_1_513\" lang=\"eng\" title=\"bbox 529 169 540 177; x_wconf 86\">\\n       <strong>\\n        m\\n       </strong>\\n      </span>\\n      <span class=\"ocrx_word\" dir=\"ltr\" id=\"word_1_514\" lang=\"eng\" title=\"bbox 553 165 577 177; x_wconf 67\">\\n       h...\\n      </span>\\n      <span class=\"ocrx_word\" dir=\"ltr\" id=\"word_1_515\" lang=\"eng\" title=\"bbox 590 164 624 179; x_wconf 67\">\\n       mm,\\n      </span>\\n      <span class=\"ocrx_word\" id=\"word_1_516\" lang=\"eng\" title=\"bbox 633 164 656 176; x_wconf 57\">\\n       :....|\\n      </span>\\n      <span class=\"ocrx_word\" dir=\"ltr\" id=\"word_1_517\" lang=\"eng\" title=\"bbox 666 164 693 176; x_wconf 56\">\\n       J...\\n      </span>\\n     </span>\\n     <span class=\"ocr_line\" id=\"line_1_95\" title=\"bbox 386 179 709 197; baseline -0.009 -3; x_size 24.15625; x_descenders 5.5; x_ascenders 6.21875\">\\n      <span class=\"ocrx_word\" dir=\"ltr\" id=\"word_1_518\" lang=\"eng\" title=\"bbox 386 182 465 197; x_wconf 62\">\\n       Gm,h.....\\n      </span>\\n      <span class=\"ocrx_word\" dir=\"ltr\" id=\"word_1_519\" lang=\"eng\" title=\"bbox 476 180 598 196; x_wconf 55\">\\n       Gem’gm,uppcalal}\\n      </span>\\n      <span class=\"ocrx_word\" dir=\"ltr\" id=\"word_1_520\" lang=\"eng\" title=\"bbox 608 179 631 191; x_wconf 70\">\\n       hm]\\n      </span>\\n      <span class=\"ocrx_word\" dir=\"ltr\" id=\"word_1_521\" lang=\"eng\" title=\"bbox 642 179 671 191; x_wconf 65\">\\n       tank\\n      </span>\\n      <span class=\"ocrx_word\" id=\"word_1_522\" lang=\"eng\" title=\"bbox 678 179 698 191; x_wconf 51\">\\n       .1.»\\n      </span>\\n      <span class=\"ocrx_word\" id=\"word_1_523\" lang=\"eng\" title=\"bbox 707 183 709 185; x_wconf 98\">\\n       <strong>\\n        <em>\\n         -\\n        </em>\\n       </strong>\\n      </span>\\n     </span>\\n     <span class=\"ocr_line\" id=\"line_1_96\" title=\"bbox 386 198 422 209; baseline -0.028 0; x_size 12.948073; x_descenders 2.9480736; x_ascenders 3.3333335\">\\n      <span class=\"ocrx_word\" dir=\"ltr\" id=\"word_1_524\" lang=\"eng\" title=\"bbox 386 198 422 209; x_wconf 55\">\\n       123G.\\n      </span>\\n     </span>\\n     <span class=\"ocr_line\" id=\"line_1_97\" title=\"bbox 400 208 709 224; baseline -0.01 -1; x_size 24.15625; x_descenders 5.5; x_ascenders 6.21875\">\\n      <span class=\"ocrx_word\" dir=\"ltr\" id=\"word_1_525\" lang=\"eng\" title=\"bbox 400 212 444 223; x_wconf 60\">\\n       Mm,\\n      </span>\\n      <span class=\"ocrx_word\" dir=\"ltr\" id=\"word_1_526\" lang=\"eng\" title=\"bbox 467 210 542 223; x_wconf 58\">\\n       \\'rnonnmd\\n      </span>\\n      <span class=\"ocrx_word\" id=\"word_1_527\" lang=\"eng\" title=\"bbox 551 210 596 224; x_wconf 47\">\\n       1...»,\\n      </span>\\n      <span class=\"ocrx_word\" dir=\"ltr\" id=\"word_1_528\" lang=\"eng\" title=\"bbox 603 213 635 221; x_wconf 52\">\\n       h...»\\n      </span>\\n      <span class=\"ocrx_word\" dir=\"ltr\" id=\"word_1_529\" lang=\"eng\" title=\"bbox 643 208 709 224; x_wconf 61\">\\n       appmnled\\n      </span>\\n     </span>\\n     <span class=\"ocr_line\" id=\"line_1_98\" title=\"bbox 385 223 708 239; baseline -0.009 -1; x_size 24.15625; x_descenders 5.5; x_ascenders 6.21875\">\\n      <span class=\"ocrx_word\" id=\"word_1_530\" lang=\"eng\" title=\"bbox 385 231 392 238; x_wconf 75\">\\n       .1\\n      </span>\\n      <span class=\"ocrx_word\" dir=\"ltr\" id=\"word_1_531\" lang=\"eng\" title=\"bbox 398 226 468 239; x_wconf 63\">\\n       («\"11“wa\\n      </span>\\n      <span class=\"ocrx_word\" dir=\"ltr\" id=\"word_1_532\" lang=\"eng\" title=\"bbox 475 229 486 237; x_wconf 70\">\\n       u.\\n      </span>\\n      <span class=\"ocrx_word\" dir=\"ltr\" id=\"word_1_533\" lang=\"eng\" title=\"bbox 492 228 520 237; x_wconf 61\">\\n       m...\\n      </span>\\n      <span class=\"ocrx_word\" dir=\"ltr\" id=\"word_1_534\" lang=\"eng\" title=\"bbox 526 229 541 237; x_wconf 68\">\\n       (m\\n      </span>\\n      <span class=\"ocrx_word\" dir=\"ltr\" id=\"word_1_535\" lang=\"eng\" title=\"bbox 547 225 567 236; x_wconf 65\">\\n       .h.\\n      </span>\\n      <span class=\"ocrx_word\" dir=\"ltr\" id=\"word_1_536\" lang=\"eng\" title=\"bbox 573 225 602 236; x_wconf 65\">\\n       v...-\\n      </span>\\n      <span class=\"ocrx_word\" dir=\"ltr\" id=\"word_1_537\" lang=\"eng\" title=\"bbox 609 224 679 238; x_wconf 58\">\\n       I’Il‘snlem,\\n      </span>\\n      <span class=\"ocrx_word\" dir=\"ltr\" id=\"word_1_538\" lang=\"eng\" title=\"bbox 685 223 708 236; x_wconf 68\">\\n       and\\n      </span>\\n     </span>\\n     <span class=\"ocr_line\" id=\"line_1_99\" title=\"bbox 386 239 633 253; baseline -0.012 0; x_size 24.15625; x_descenders 5.5; x_ascenders 6.21875\">\\n      <span class=\"ocrx_word\" dir=\"ltr\" id=\"word_1_539\" lang=\"eng\" title=\"bbox 386 241 470 253; x_wconf 62\">\\n       unhlmhhn\\n      </span>\\n      <span class=\"ocrx_word\" dir=\"ltr\" id=\"word_1_540\" lang=\"eng\" title=\"bbox 478 240 544 252; x_wconf 64\">\\n       lutthcx.\\n      </span>\\n      <span class=\"ocrx_word\" dir=\"ltr\" id=\"word_1_541\" lang=\"eng\" title=\"bbox 554 242 565 251; x_wconf 63\">\\n       <strong>\\n        m\\n       </strong>\\n      </span>\\n      <span class=\"ocrx_word\" dir=\"ltr\" id=\"word_1_542\" lang=\"eng\" title=\"bbox 572 239 622 251; x_wconf 49\">\\n       rh.....h..\\n      </span>\\n      <span class=\"ocrx_word\" id=\"word_1_543\" lang=\"eng\" title=\"bbox 631 248 633 250; x_wconf 98\">\\n       .\\n      </span>\\n     </span>\\n    </p>\\n   </div>\\n   <div class=\"ocr_carea\" id=\"block_1_32\" title=\"bbox 581 164 713 181\">\\n    <p class=\"ocr_par\" dir=\"ltr\" id=\"par_1_48\" title=\"bbox 581 164 713 181\">\\n     <span class=\"ocr_line\" id=\"line_1_100\" title=\"bbox 581 164 713 181; baseline 0 -11; x_size 20; x_descenders 5; x_ascenders 5\">\\n      <span class=\"ocrx_word\" dir=\"ltr\" id=\"word_1_544\" lang=\"eng\" title=\"bbox 581 169 584 170; x_wconf 95\">\\n      </span>\\n      <span class=\"ocrx_word\" dir=\"ltr\" id=\"word_1_545\" lang=\"eng\" title=\"bbox 585 169 588 170; x_wconf 95\">\\n      </span>\\n      <span class=\"ocrx_word\" dir=\"ltr\" id=\"word_1_546\" lang=\"eng\" title=\"bbox 695 164 713 181; x_wconf 95\">\\n      </span>\\n     </span>\\n    </p>\\n   </div>\\n   <div class=\"ocr_carea\" id=\"block_1_33\" title=\"bbox 699 183 707 191\">\\n    <p class=\"ocr_par\" dir=\"ltr\" id=\"par_1_49\" title=\"bbox 699 183 707 191\">\\n     <span class=\"ocr_line\" id=\"line_1_101\" title=\"bbox 699 183 707 191; baseline 0 1006; x_size 20; x_descenders 5; x_ascenders 5\">\\n      <span class=\"ocrx_word\" dir=\"ltr\" id=\"word_1_547\" lang=\"eng\" title=\"bbox 699 183 707 191; x_wconf 95\">\\n      </span>\\n     </span>\\n    </p>\\n   </div>\\n   <div class=\"ocr_carea\" id=\"block_1_34\" title=\"bbox 459 211 465 215\">\\n    <p class=\"ocr_par\" dir=\"ltr\" id=\"par_1_50\" title=\"bbox 459 211 465 215\">\\n     <span class=\"ocr_line\" id=\"line_1_102\" title=\"bbox 459 211 465 215; baseline 0 0; x_size 2; x_descenders -1; x_ascenders 1\">\\n      <span class=\"ocrx_word\" dir=\"ltr\" id=\"word_1_548\" lang=\"eng\" title=\"bbox 459 211 465 215; x_wconf 95\">\\n      </span>\\n     </span>\\n    </p>\\n   </div>\\n   <div class=\"ocr_carea\" id=\"block_1_35\" title=\"bbox 624 244 626 251\">\\n    <p class=\"ocr_par\" dir=\"ltr\" id=\"par_1_51\" title=\"bbox 624 244 626 251\">\\n     <span class=\"ocr_line\" id=\"line_1_103\" title=\"bbox 624 244 626 251; baseline 0 946; x_size 20; x_descenders 5; x_ascenders 5\">\\n      <span class=\"ocrx_word\" dir=\"ltr\" id=\"word_1_549\" lang=\"eng\" title=\"bbox 624 244 626 251; x_wconf 95\">\\n      </span>\\n     </span>\\n    </p>\\n   </div>\\n   <div class=\"ocr_carea\" id=\"block_1_36\" title=\"bbox 525 261 570 263\">\\n    <p class=\"ocr_par\" dir=\"ltr\" id=\"par_1_52\" title=\"bbox 525 261 570 263\">\\n     <span class=\"ocr_line\" id=\"line_1_104\" title=\"bbox 525 261 570 263; baseline 0 0; x_size 1; x_descenders -0.5; x_ascenders 0.5\">\\n      <span class=\"ocrx_word\" dir=\"ltr\" id=\"word_1_550\" lang=\"eng\" title=\"bbox 525 261 570 263; x_wconf 95\">\\n      </span>\\n     </span>\\n    </p>\\n   </div>\\n   <div class=\"ocr_carea\" id=\"block_1_37\" title=\"bbox 386 269 712 587\">\\n    <p class=\"ocr_par\" dir=\"ltr\" id=\"par_1_53\" title=\"bbox 479 269 615 284\">\\n     <span class=\"ocr_line\" id=\"line_1_105\" title=\"bbox 479 269 615 284; baseline -0.015 -2; x_size 22.166666; x_descenders 5.5; x_ascenders 5.5555553\">\\n      <span class=\"ocrx_word\" dir=\"ltr\" id=\"word_1_551\" lang=\"eng\" title=\"bbox 479 269 615 284; x_wconf 61\">\\n       \\'l\\'uEsnAv,Am|12L\\n      </span>\\n     </span>\\n    </p>\\n    <p class=\"ocr_par\" dir=\"ltr\" id=\"par_1_54\" title=\"bbox 386 287 710 376\">\\n     <span class=\"ocr_line\" id=\"line_1_106\" title=\"bbox 401 287 710 304; baseline -0.01 -2; x_size 22.166666; x_descenders 5.5; x_ascenders 5.5555553\">\\n      <span class=\"ocrx_word\" dir=\"ltr\" id=\"word_1_552\" lang=\"eng\" title=\"bbox 401 290 428 302; x_wconf 80\">\\n       The\\n      </span>\\n      <span class=\"ocrx_word\" dir=\"ltr\" id=\"word_1_553\" lang=\"eng\" title=\"bbox 434 291 503 302; x_wconf 66\">\\n       L\\'mmmucz\\n      </span>\\n      <span class=\"ocrx_word\" dir=\"ltr\" id=\"word_1_554\" lang=\"eng\" title=\"bbox 508 288 573 304; x_wconf 65\">\\n       hppnmml\\n      </span>\\n      <span class=\"ocrx_word\" dir=\"ltr\" id=\"word_1_555\" lang=\"eng\" title=\"bbox 580 289 592 300; x_wconf 76\">\\n       <em>\\n        m\\n       </em>\\n      </span>\\n      <span class=\"ocrx_word\" dir=\"ltr\" id=\"word_1_556\" lang=\"eng\" title=\"bbox 596 287 674 300; x_wconf 68\">\\n       (,nnduntthe\\n      </span>\\n      <span class=\"ocrx_word\" dir=\"ltr\" id=\"word_1_557\" lang=\"eng\" title=\"bbox 681 287 710 299; x_wconf 73\">\\n       <strong>\\n        Vice\\n       </strong>\\n      </span>\\n     </span>\\n     <span class=\"ocr_line\" id=\"line_1_107\" title=\"bbox 386 302 710 317; baseline -0.009 0; x_size 22.166666; x_descenders 5.5; x_ascenders 5.5555553\">\\n      <span class=\"ocrx_word\" dir=\"ltr\" id=\"word_1_558\" lang=\"eng\" title=\"bbox 386 305 451 317; x_wconf 57\">\\n       Name...\\n      </span>\\n      <span class=\"ocrx_word\" dir=\"ltr\" id=\"word_1_559\" lang=\"eng\" title=\"bbox 457 307 468 316; x_wconf 68\">\\n       In\\n      </span>\\n      <span class=\"ocrx_word\" dir=\"ltr\" id=\"word_1_560\" lang=\"eng\" title=\"bbox 473 305 493 316; x_wconf 70\">\\n       Nu:\\n      </span>\\n      <span class=\"ocrx_word\" dir=\"ltr\" id=\"word_1_561\" lang=\"eng\" title=\"bbox 497 304 542 316; x_wconf 72\">\\n       <strong>\\n        Senmv\\n       </strong>\\n      </span>\\n      <span class=\"ocrx_word\" dir=\"ltr\" id=\"word_1_562\" lang=\"eng\" title=\"bbox 547 303 609 316; x_wconf 72\">\\n       chamber.\\n      </span>\\n      <span class=\"ocrx_word\" dir=\"ltr\" id=\"word_1_563\" lang=\"eng\" title=\"bbox 614 302 674 314; x_wconf 64\">\\n       mama\\n      </span>\\n      <span class=\"ocrx_word\" dir=\"ltr\" id=\"word_1_564\" lang=\"eng\" title=\"bbox 679 302 710 314; x_wconf 65\">\\n       lheir\\n      </span>\\n     </span>\\n     <span class=\"ocr_line\" id=\"line_1_108\" title=\"bbox 386 317 709 334; baseline -0.009 -2; x_size 22.166666; x_descenders 5.5; x_ascenders 5.5555553\">\\n      <span class=\"ocrx_word\" dir=\"ltr\" id=\"word_1_565\" lang=\"eng\" title=\"bbox 386 324 467 334; x_wconf 44\">\\n       commumm,\\n      </span>\\n      <span class=\"ocrx_word\" dir=\"ltr\" id=\"word_1_566\" lang=\"eng\" title=\"bbox 475 320 499 331; x_wconf 68\">\\n       and\\n      </span>\\n      <span class=\"ocrx_word\" dir=\"ltr\" id=\"word_1_567\" lang=\"eng\" title=\"bbox 506 319 530 331; x_wconf 81\">\\n       Mr.\\n      </span>\\n      <span class=\"ocrx_word\" dir=\"ltr\" id=\"word_1_568\" lang=\"eng\" title=\"bbox 539 319 610 331; x_wconf 54\">\\n       “mum\\n      </span>\\n      <span class=\"ocrx_word\" dir=\"ltr\" id=\"word_1_569\" lang=\"eng\" title=\"bbox 616 317 636 329; x_wconf 67\">\\n       Hm\\n      </span>\\n      <span class=\"ocrx_word\" dir=\"ltr\" id=\"word_1_570\" lang=\"eng\" title=\"bbox 643 317 673 329; x_wconf 70\">\\n       Vice\\n      </span>\\n      <span class=\"ocrx_word\" dir=\"ltr\" id=\"word_1_571\" lang=\"eng\" title=\"bbox 680 317 709 329; x_wconf 75\">\\n       Pre-\\n      </span>\\n     </span>\\n     <span class=\"ocr_line\" id=\"line_1_109\" title=\"bbox 386 332 710 349; baseline -0.009 -3; x_size 22.166666; x_descenders 5.5; x_ascenders 5.5555553\">\\n      <span class=\"ocrx_word\" dir=\"ltr\" id=\"word_1_572\" lang=\"eng\" title=\"bbox 386 335 452 349; x_wconf 55\">\\n       <strong>\\n        sulvnlpru\\n       </strong>\\n      </span>\\n      <span class=\"ocrx_word\" dir=\"ltr\" id=\"word_1_573\" lang=\"eng\" title=\"bbox 459 334 601 348; x_wconf 63\">\\n       lumpvr,,xncmmg1‘w\\n      </span>\\n      <span class=\"ocrx_word\" dir=\"ltr\" id=\"word_1_574\" lang=\"eng\" title=\"bbox 608 332 638 344; x_wconf 71\">\\n       V|rc\\n      </span>\\n      <span class=\"ocrx_word\" dir=\"ltr\" id=\"word_1_575\" lang=\"eng\" title=\"bbox 645 332 710 344; x_wconf 56\">\\n       l’wesident\\n      </span>\\n     </span>\\n     <span class=\"ocr_line\" id=\"line_1_110\" title=\"bbox 386 346 710 361; baseline -0.009 0; x_size 22.166666; x_descenders 5.5; x_ascenders 5.5555553\">\\n      <span class=\"ocrx_word\" dir=\"ltr\" id=\"word_1_576\" lang=\"eng\" title=\"bbox 386 354 400 361; x_wconf 75\">\\n       (m\\n      </span>\\n      <span class=\"ocrx_word\" dir=\"ltr\" id=\"word_1_577\" lang=\"eng\" title=\"bbox 406 350 427 361; x_wconf 63\">\\n       the\\n      </span>\\n      <span class=\"ocrx_word\" dir=\"ltr\" id=\"word_1_578\" lang=\"eng\" title=\"bbox 432 349 463 361; x_wconf 49\">\\n       ﬂaw\\n      </span>\\n      <span class=\"ocrx_word\" dir=\"ltr\" id=\"word_1_579\" lang=\"eng\" title=\"bbox 468 350 479 361; x_wconf 74\">\\n       a)\\n      </span>\\n      <span class=\"ocrx_word\" dir=\"ltr\" id=\"word_1_580\" lang=\"eng\" title=\"bbox 489 349 509 361; x_wconf 60\">\\n       «he\\n      </span>\\n      <span class=\"ocrx_word\" dir=\"ltr\" id=\"word_1_581\" lang=\"eng\" title=\"bbox 519 348 564 360; x_wconf 63\">\\n       Selm‘l‘\\n      </span>\\n      <span class=\"ocrx_word\" dir=\"ltr\" id=\"word_1_582\" lang=\"eng\" title=\"bbox 574 348 624 360; x_wconf 45\">\\n       .h.....h.-\\n      </span>\\n      <span class=\"ocrx_word\" dir=\"ltr\" id=\"word_1_583\" lang=\"eng\" title=\"bbox 633 346 710 361; x_wconf 68\">\\n       ,mldvesszd\\n      </span>\\n     </span>\\n     <span class=\"ocr_line\" id=\"line_1_111\" title=\"bbox 386 364 464 376; baseline 0 0; x_size 22.166666; x_descenders 5.5; x_ascenders 5.5555553\">\\n      <span class=\"ocrx_word\" dir=\"ltr\" id=\"word_1_584\" lang=\"eng\" title=\"bbox 386 365 409 376; x_wconf 76\">\\n       <strong>\\n        lulu\\n       </strong>\\n      </span>\\n      <span class=\"ocrx_word\" dir=\"ltr\" id=\"word_1_585\" lang=\"eng\" title=\"bbox 416 368 429 376; x_wconf 71\">\\n       as\\n      </span>\\n      <span class=\"ocrx_word\" id=\"word_1_586\" lang=\"eng\" title=\"bbox 435 364 464 376; x_wconf 60\">\\n       «1.110\\n      </span>\\n     </span>\\n    </p>\\n    <p class=\"ocr_par\" dir=\"ltr\" id=\"par_1_55\" title=\"bbox 386 380 712 451\">\\n     <span class=\"ocr_line\" id=\"line_1_112\" title=\"bbox 401 380 710 395; baseline -0.013 -2; x_size 22.166666; x_descenders 5.5; x_ascenders 5.5555553\">\\n      <span class=\"ocrx_word\" id=\"word_1_587\" lang=\"eng\" title=\"bbox 401 384 426 393; x_wconf 34\">\\n       5....\\n      </span>\\n      <span class=\"ocrx_word\" dir=\"ltr\" id=\"word_1_588\" lang=\"eng\" title=\"bbox 434 384 439 392; x_wconf 63\">\\n       <strong>\\n        <em>\\n         v\\n        </em>\\n       </strong>\\n      </span>\\n      <span class=\"ocrx_word\" dir=\"ltr\" id=\"word_1_589\" lang=\"eng\" title=\"bbox 447 383 474 393; x_wconf 72\">\\n       lmve\\n      </span>\\n      <span class=\"ocrx_word\" id=\"word_1_590\" lang=\"eng\" title=\"bbox 480 383 488 392; x_wconf 73\">\\n       ..\\n      </span>\\n      <span class=\"ocrx_word\" dir=\"ltr\" id=\"word_1_591\" lang=\"eng\" title=\"bbox 496 382 507 392; x_wconf 75\">\\n       h.\\n      </span>\\n      <span class=\"ocrx_word\" dir=\"ltr\" id=\"word_1_592\" lang=\"eng\" title=\"bbox 515 382 555 395; x_wconf 54\">\\n       Plunge\\n      </span>\\n      <span class=\"ocrx_word\" dir=\"ltr\" id=\"word_1_593\" lang=\"eng\" title=\"bbox 564 381 617 392; x_wconf 54\">\\n       ham...\\n      </span>\\n      <span class=\"ocrx_word\" dir=\"ltr\" id=\"word_1_594\" lang=\"eng\" title=\"bbox 625 382 669 392; x_wconf 54\">\\n       Sam“,\\n      </span>\\n      <span class=\"ocrx_word\" id=\"word_1_595\" lang=\"eng\" title=\"bbox 676 380 697 390; x_wconf 50\">\\n       .9-\\n      </span>\\n      <span class=\"ocrx_word\" dir=\"ltr\" id=\"word_1_596\" lang=\"eng\" title=\"bbox 707 387 710 388; x_wconf 25\">\\n       <em>\\n        r\\n       </em>\\n      </span>\\n     </span>\\n     <span class=\"ocr_line\" id=\"line_1_113\" title=\"bbox 386 395 709 411; baseline -0.006 -4; x_size 22.166666; x_descenders 5.5; x_ascenders 5.5555553\">\\n      <span class=\"ocrx_word\" dir=\"ltr\" id=\"word_1_597\" lang=\"eng\" title=\"bbox 386 398 432 408; x_wconf 68\">\\n       <strong>\\n        unduca\\n       </strong>\\n      </span>\\n      <span class=\"ocrx_word\" dir=\"ltr\" id=\"word_1_598\" lang=\"eng\" title=\"bbox 440 400 462 411; x_wconf 69\">\\n       you\\n      </span>\\n      <span class=\"ocrx_word\" dir=\"ltr\" id=\"word_1_599\" lang=\"eng\" title=\"bbox 469 399 481 407; x_wconf 66\">\\n       n:\\n      </span>\\n      <span class=\"ocrx_word\" dir=\"ltr\" id=\"word_1_600\" lang=\"eng\" title=\"bbox 490 397 509 407; x_wconf 74\">\\n       (he\\n      </span>\\n      <span class=\"ocrx_word\" dir=\"ltr\" id=\"word_1_601\" lang=\"eng\" title=\"bbox 515 396 538 406; x_wconf 58\">\\n       a...\\n      </span>\\n      <span class=\"ocrx_word\" dir=\"ltr\" id=\"word_1_602\" lang=\"eng\" title=\"bbox 550 396 563 406; x_wconf 60\">\\n       nr\\n      </span>\\n      <span class=\"ocrx_word\" dir=\"ltr\" id=\"word_1_603\" lang=\"eng\" title=\"bbox 569 396 590 406; x_wconf 59\">\\n       u...\\n      </span>\\n      <span class=\"ocrx_word\" id=\"word_1_604\" lang=\"eng\" title=\"bbox 600 396 642 407; x_wconf 55\">\\n       14......\\n      </span>\\n      <span class=\"ocrx_word\" dir=\"ltr\" id=\"word_1_605\" lang=\"eng\" title=\"bbox 651 395 676 407; x_wconf 57\">\\n       and,\\n      </span>\\n      <span class=\"ocrx_word\" dir=\"ltr\" id=\"word_1_606\" lang=\"eng\" title=\"bbox 682 395 709 407; x_wconf 67\">\\n       aim,\\n      </span>\\n     </span>\\n     <span class=\"ocr_line\" id=\"line_1_114\" title=\"bbox 386 409 710 424; baseline -0.009 -2; x_size 22.166666; x_descenders 5.5; x_ascenders 5.5555553\">\\n      <span class=\"ocrx_word\" dir=\"ltr\" id=\"word_1_607\" lang=\"eng\" title=\"bbox 386 414 397 422; x_wconf 70\">\\n       to\\n      </span>\\n      <span class=\"ocrx_word\" dir=\"ltr\" id=\"word_1_608\" lang=\"eng\" title=\"bbox 405 415 418 422; x_wconf 72\">\\n       CI!\\n      </span>\\n      <span class=\"ocrx_word\" dir=\"ltr\" id=\"word_1_609\" lang=\"eng\" title=\"bbox 441 412 481 422; x_wconf 55\">\\n       my...\\n      </span>\\n      <span class=\"ocrx_word\" dir=\"ltr\" id=\"word_1_610\" lang=\"eng\" title=\"bbox 492 414 514 424; x_wconf 73\">\\n       you\\n      </span>\\n      <span class=\"ocrx_word\" dir=\"ltr\" id=\"word_1_611\" lang=\"eng\" title=\"bbox 525 414 539 421; x_wconf 74\">\\n       on\\n      </span>\\n      <span class=\"ocrx_word\" dir=\"ltr\" id=\"word_1_612\" lang=\"eng\" title=\"bbox 548 414 573 424; x_wconf 67\">\\n       you.\\n      </span>\\n      <span class=\"ocrx_word\" dir=\"ltr\" id=\"word_1_613\" lang=\"eng\" title=\"bbox 585 410 662 424; x_wconf 63\">\\n       <strong>\\n        nppnimmtm\\n       </strong>\\n      </span>\\n      <span class=\"ocrx_word\" dir=\"ltr\" id=\"word_1_614\" lang=\"eng\" title=\"bbox 671 411 682 420; x_wconf 61\">\\n       <strong>\\n        m\\n       </strong>\\n      </span>\\n      <span class=\"ocrx_word\" dir=\"ltr\" id=\"word_1_615\" lang=\"eng\" title=\"bbox 691 409 710 419; x_wconf 61\">\\n       .h.\\n      </span>\\n     </span>\\n     <span class=\"ocr_line\" id=\"line_1_115\" title=\"bbox 386 423 712 437; baseline -0.006 -1; x_size 22.166666; x_descenders 5.5; x_ascenders 5.5555553\">\\n      <span class=\"ocrx_word\" dir=\"ltr\" id=\"word_1_616\" lang=\"eng\" title=\"bbox 386 426 434 437; x_wconf 59\">\\n       nmcuul\\n      </span>\\n      <span class=\"ocrx_word\" dir=\"ltr\" id=\"word_1_617\" lang=\"eng\" title=\"bbox 443 427 470 436; x_wconf 63\">\\n       me\\n      </span>\\n      <span class=\"ocrx_word\" dir=\"ltr\" id=\"word_1_618\" lang=\"eng\" title=\"bbox 481 425 539 436; x_wconf 66\">\\n       I\\'IuMnnf\\n      </span>\\n      <span class=\"ocrx_word\" dir=\"ltr\" id=\"word_1_619\" lang=\"eng\" title=\"bbox 549 425 563 435; x_wconf 67\">\\n       Of\\n      </span>\\n      <span class=\"ocrx_word\" dir=\"ltr\" id=\"word_1_620\" lang=\"eng\" title=\"bbox 572 425 591 435; x_wconf 58\">\\n       an\\n      </span>\\n      <span class=\"ocrx_word\" dir=\"ltr\" id=\"word_1_621\" lang=\"eng\" title=\"bbox 601 424 642 434; x_wconf 66\">\\n       <strong>\\n        (\\'mtcd\\n       </strong>\\n      </span>\\n      <span class=\"ocrx_word\" dir=\"ltr\" id=\"word_1_622\" lang=\"eng\" title=\"bbox 653 425 689 434; x_wconf 64\">\\n       Sums\\n      </span>\\n      <span class=\"ocrx_word\" dir=\"ltr\" id=\"word_1_623\" lang=\"eng\" title=\"bbox 699 423 712 434; x_wconf 73\">\\n       of\\n      </span>\\n     </span>\\n     <span class=\"ocr_line\" id=\"line_1_116\" title=\"bbox 387 442 441 451; baseline 0 0; x_size 22.166666; x_descenders 5.5; x_ascenders 5.5555553\">\\n      <span class=\"ocrx_word\" dir=\"ltr\" id=\"word_1_624\" lang=\"eng\" title=\"bbox 387 442 441 451; x_wconf 56\">\\n       Munich.\\n      </span>\\n     </span>\\n    </p>\\n    <p class=\"ocr_par\" dir=\"ltr\" id=\"par_1_56\" title=\"bbox 388 452 710 516\">\\n     <span class=\"ocr_line\" id=\"line_1_117\" title=\"bbox 402 452 710 466; baseline -0.006 0; x_size 22.166666; x_descenders 5.5; x_ascenders 5.5555553\">\\n      <span class=\"ocrx_word\" dir=\"ltr\" id=\"word_1_625\" lang=\"eng\" title=\"bbox 402 455 438 466; x_wconf 65\">\\n       Mm.»\\n      </span>\\n      <span class=\"ocrx_word\" dir=\"ltr\" id=\"word_1_626\" lang=\"eng\" title=\"bbox 447 455 486 466; x_wconf 67\">\\n       which\\n      </span>\\n      <span class=\"ocrx_word\" dir=\"ltr\" id=\"word_1_627\" lang=\"eng\" title=\"bbox 496 454 521 466; x_wconf 53\">\\n       Mn\\n      </span>\\n      <span class=\"ocrx_word\" dir=\"ltr\" id=\"word_1_628\" lang=\"eng\" title=\"bbox 532 454 599 465; x_wconf 64\">\\n       LAxmmN\\n      </span>\\n      <span class=\"ocrx_word\" dir=\"ltr\" id=\"word_1_629\" lang=\"eng\" title=\"bbox 610 452 679 465; x_wconf 63\">\\n       cuhducted\\n      </span>\\n      <span class=\"ocrx_word\" dir=\"ltr\" id=\"word_1_630\" lang=\"eng\" title=\"bbox 691 453 710 465; x_wconf 67\">\\n       the\\n      </span>\\n     </span>\\n     <span class=\"ocr_line\" id=\"line_1_118\" title=\"bbox 388 467 710 481; baseline -0.006 0; x_size 22.166666; x_descenders 5.5; x_ascenders 5.5555553\">\\n      <span class=\"ocrx_word\" dir=\"ltr\" id=\"word_1_631\" lang=\"eng\" title=\"bbox 388 469 417 481; x_wconf 56\">\\n       Vim,\\n      </span>\\n      <span class=\"ocrx_word\" dir=\"ltr\" id=\"word_1_632\" lang=\"eng\" title=\"bbox 429 469 495 481; x_wconf 68\">\\n       <strong>\\n        I‘xcmlent\\n       </strong>\\n      </span>\\n      <span class=\"ocrx_word\" dir=\"ltr\" id=\"word_1_633\" lang=\"eng\" title=\"bbox 505 471 516 481; x_wconf 74\">\\n       h.\\n      </span>\\n      <span class=\"ocrx_word\" dir=\"ltr\" id=\"word_1_634\" lang=\"eng\" title=\"bbox 526 469 546 480; x_wconf 65\">\\n       the\\n      </span>\\n      <span class=\"ocrx_word\" dir=\"ltr\" id=\"word_1_635\" lang=\"eng\" title=\"bbox 558 469 579 480; x_wconf 62\">\\n       ch.\\n      </span>\\n      <span class=\"ocrx_word\" id=\"word_1_636\" lang=\"eng\" title=\"bbox 588 473 595 481; x_wconf 51\">\\n       1\\n      </span>\\n      <span class=\"ocrx_word\" dir=\"ltr\" id=\"word_1_637\" lang=\"eng\" title=\"bbox 605 468 640 479; x_wconf 71\">\\n       \\\\vhcn\\n      </span>\\n      <span class=\"ocrx_word\" dir=\"ltr\" id=\"word_1_638\" lang=\"eng\" title=\"bbox 649 468 670 479; x_wconf 69\">\\n       the\\n      </span>\\n      <span class=\"ocrx_word\" dir=\"ltr\" id=\"word_1_639\" lang=\"eng\" title=\"bbox 680 467 710 479; x_wconf 75\">\\n       Vice\\n      </span>\\n     </span>\\n     <span class=\"ocr_line\" id=\"line_1_119\" title=\"bbox 388 482 684 496; baseline -0.01 0; x_size 22.166666; x_descenders 5.5; x_ascenders 5.5555553\">\\n      <span class=\"ocrx_word\" dir=\"ltr\" id=\"word_1_640\" lang=\"eng\" title=\"bbox 388 484 453 496; x_wconf 73\">\\n       <strong>\\n        l’resulent\\n       </strong>\\n      </span>\\n      <span class=\"ocrx_word\" dir=\"ltr\" id=\"word_1_641\" lang=\"eng\" title=\"bbox 458 483 525 496; x_wconf 58\">\\n       humus“:\\n      </span>\\n      <span class=\"ocrx_word\" dir=\"ltr\" id=\"word_1_642\" lang=\"eng\" title=\"bbox 532 483 553 495; x_wconf 71\">\\n       the\\n      </span>\\n      <span class=\"ocrx_word\" dir=\"ltr\" id=\"word_1_643\" lang=\"eng\" title=\"bbox 559 483 605 495; x_wconf 66\">\\n       Scum\\n      </span>\\n      <span class=\"ocrx_word\" dir=\"ltr\" id=\"word_1_644\" lang=\"eng\" title=\"bbox 612 486 625 494; x_wconf 52\">\\n       v.5\\n      </span>\\n      <span class=\"ocrx_word\" dir=\"ltr\" id=\"word_1_645\" lang=\"eng\" title=\"bbox 631 482 684 494; x_wconf 67\">\\n       Ithm.\\n      </span>\\n     </span>\\n     <span class=\"ocr_line\" id=\"line_1_120\" title=\"bbox 388 502 531 516; baseline 0 -4; x_size 22.166666; x_descenders 5.5; x_ascenders 5.5555553\">\\n      <span class=\"ocrx_word\" dir=\"ltr\" id=\"word_1_646\" lang=\"eng\" title=\"bbox 388 502 448 513; x_wconf 55\">\\n       swim...\\n      </span>\\n      <span class=\"ocrx_word\" dir=\"ltr\" id=\"word_1_647\" lang=\"eng\" title=\"bbox 454 502 467 516; x_wconf 63\">\\n       .f\\n      </span>\\n      <span class=\"ocrx_word\" dir=\"ltr\" id=\"word_1_648\" lang=\"eng\" title=\"bbox 472 502 488 512; x_wconf 60\">\\n       the\\n      </span>\\n      <span class=\"ocrx_word\" dir=\"ltr\" id=\"word_1_649\" lang=\"eng\" title=\"bbox 495 502 531 512; x_wconf 56\">\\n       <strong>\\n        <em>\\n         SAM.\"\\n        </em>\\n       </strong>\\n      </span>\\n     </span>\\n    </p>\\n    <p class=\"ocr_par\" dir=\"ltr\" id=\"par_1_57\" title=\"bbox 386 515 711 587\">\\n     <span class=\"ocr_line\" id=\"line_1_121\" title=\"bbox 421 515 710 529; baseline -0.003 -3; x_size 22.166666; x_descenders 5.5; x_ascenders 5.5555553\">\\n      <span class=\"ocrx_word\" dir=\"ltr\" id=\"word_1_650\" lang=\"eng\" title=\"bbox 421 517 464 527; x_wconf 67\">\\n       <strong>\\n        llnnaﬂ\\n       </strong>\\n      </span>\\n      <span class=\"ocrx_word\" dir=\"ltr\" id=\"word_1_651\" lang=\"eng\" title=\"bbox 474 518 485 526; x_wconf 63\">\\n       in\\n      </span>\\n      <span class=\"ocrx_word\" dir=\"ltr\" id=\"word_1_652\" lang=\"eng\" title=\"bbox 495 516 516 526; x_wconf 69\">\\n       u...\\n      </span>\\n      <span class=\"ocrx_word\" id=\"word_1_653\" lang=\"eng\" title=\"bbox 525 519 527 526; x_wconf 81\">\\n       .\\n      </span>\\n      <span class=\"ocrx_word\" dir=\"ltr\" id=\"word_1_654\" lang=\"eng\" title=\"bbox 538 515 595 529; x_wconf 56\">\\n       qucmlzlp\\n      </span>\\n      <span class=\"ocrx_word\" dir=\"ltr\" id=\"word_1_655\" lang=\"eng\" title=\"bbox 605 515 656 525; x_wconf 55\">\\n       mm...\\n      </span>\\n      <span class=\"ocrx_word\" dir=\"ltr\" id=\"word_1_656\" lang=\"eng\" title=\"bbox 666 515 680 528; x_wconf 74\">\\n       by\\n      </span>\\n      <span class=\"ocrx_word\" dir=\"ltr\" id=\"word_1_657\" lang=\"eng\" title=\"bbox 691 515 710 525; x_wconf 71\">\\n       the\\n      </span>\\n     </span>\\n     <span class=\"ocr_line\" id=\"line_1_122\" title=\"bbox 386 530 711 544; baseline -0.003 -3; x_size 22.166666; x_descenders 5.5; x_ascenders 5.5555553\">\\n      <span class=\"ocrx_word\" dir=\"ltr\" id=\"word_1_658\" lang=\"eng\" title=\"bbox 386 530 406 541; x_wconf 62\">\\n       .un\\n      </span>\\n      <span class=\"ocrx_word\" id=\"word_1_659\" lang=\"eng\" title=\"bbox 414 534 440 544; x_wconf 31\">\\n       1....\\n      </span>\\n      <span class=\"ocrx_word\" dir=\"ltr\" id=\"word_1_660\" lang=\"eng\" title=\"bbox 449 531 489 541; x_wconf 54\">\\n       on)...»\\n      </span>\\n      <span class=\"ocrx_word\" dir=\"ltr\" id=\"word_1_661\" lang=\"eng\" title=\"bbox 499 530 566 540; x_wconf 45\">\\n       why...\"\\n      </span>\\n      <span class=\"ocrx_word\" dir=\"ltr\" id=\"word_1_662\" lang=\"eng\" title=\"bbox 578 533 590 542; x_wconf 31\">\\n       .y,\\n      </span>\\n      <span class=\"ocrx_word\" dir=\"ltr\" id=\"word_1_663\" lang=\"eng\" title=\"bbox 600 530 660 543; x_wconf 64\">\\n       <strong>\\n        Mum‘mg\\n       </strong>\\n      </span>\\n      <span class=\"ocrx_word\" dir=\"ltr\" id=\"word_1_664\" lang=\"eng\" title=\"bbox 670 531 681 540; x_wconf 73\">\\n       <strong>\\n        m\\n       </strong>\\n      </span>\\n      <span class=\"ocrx_word\" dir=\"ltr\" id=\"word_1_665\" lang=\"eng\" title=\"bbox 692 530 711 540; x_wconf 71\">\\n       the\\n      </span>\\n     </span>\\n     <span class=\"ocr_line\" id=\"line_1_123\" title=\"bbox 387 543 710 558; baseline -0.003 -3; x_size 22.166666; x_descenders 5.5; x_ascenders 5.5555553\">\\n      <span class=\"ocrx_word\" dir=\"ltr\" id=\"word_1_666\" lang=\"eng\" title=\"bbox 387 545 464 557; x_wconf 59\">\\n       (Lumutuﬁuu.\\n      </span>\\n      <span class=\"ocrx_word\" id=\"word_1_667\" lang=\"eng\" title=\"bbox 472 546 476 555; x_wconf 66\">\\n       1\\n      </span>\\n      <span class=\"ocrx_word\" dir=\"ltr\" id=\"word_1_668\" lang=\"eng\" title=\"bbox 484 545 512 555; x_wconf 54\">\\n       h...\\n      </span>\\n      <span class=\"ocrx_word\" dir=\"ltr\" id=\"word_1_669\" lang=\"eng\" title=\"bbox 518 545 566 558; x_wconf 66\">\\n       lhnught\\n      </span>\\n      <span class=\"ocrx_word\" dir=\"ltr\" id=\"word_1_670\" lang=\"eng\" title=\"bbox 575 546 606 558; x_wconf 72\">\\n       Ilmy\\n      </span>\\n      <span class=\"ocrx_word\" dir=\"ltr\" id=\"word_1_671\" lang=\"eng\" title=\"bbox 612 544 639 557; x_wconf 53\">\\n       My\\n      </span>\\n      <span class=\"ocrx_word\" dir=\"ltr\" id=\"word_1_672\" lang=\"eng\" title=\"bbox 648 543 710 557; x_wconf 54\">\\n       churzuny\\n      </span>\\n     </span>\\n     <span class=\"ocr_line\" id=\"line_1_124\" title=\"bbox 387 559 710 573; baseline 0 -4; x_size 22.166666; x_descenders 5.5; x_ascenders 5.5555553\">\\n      <span class=\"ocrx_word\" dir=\"ltr\" id=\"word_1_673\" lang=\"eng\" title=\"bbox 387 560 408 570; x_wconf 61\">\\n       hm\\n      </span>\\n      <span class=\"ocrx_word\" id=\"word_1_674\" lang=\"eng\" title=\"bbox 418 564 421 570; x_wconf 86\">\\n       .\\n      </span>\\n      <span class=\"ocrx_word\" dir=\"ltr\" id=\"word_1_675\" lang=\"eng\" title=\"bbox 431 560 458 573; x_wconf 55\">\\n       MM}\\n      </span>\\n      <span class=\"ocrx_word\" id=\"word_1_676\" lang=\"eng\" title=\"bbox 469 561 480 569; x_wconf 71\">\\n       ..\\n      </span>\\n      <span class=\"ocrx_word\" dir=\"ltr\" id=\"word_1_677\" lang=\"eng\" title=\"bbox 493 561 533 572; x_wconf 61\">\\n       .mh.\\n      </span>\\n      <span class=\"ocrx_word\" id=\"word_1_678\" lang=\"eng\" title=\"bbox 542 561 550 569; x_wconf 73\">\\n       1|\\n      </span>\\n      <span class=\"ocrx_word\" dir=\"ltr\" id=\"word_1_679\" lang=\"eng\" title=\"bbox 570 559 661 569; x_wconf 63\">\\n       Unmaswmea\\n      </span>\\n      <span class=\"ocrx_word\" dir=\"ltr\" id=\"word_1_680\" lang=\"eng\" title=\"bbox 674 560 685 569; x_wconf 71\">\\n       to\\n      </span>\\n      <span class=\"ocrx_word\" dir=\"ltr\" id=\"word_1_681\" lang=\"eng\" title=\"bbox 694 562 710 569; x_wconf 44\">\\n       rcr\\n      </span>\\n     </span>\\n     <span class=\"ocr_line\" id=\"line_1_125\" title=\"bbox 387 573 710 587; baseline -0.003 -3; x_size 22.166666; x_descenders 5.5; x_ascenders 5.5555553\">\\n      <span class=\"ocrx_word\" dir=\"ltr\" id=\"word_1_682\" lang=\"eng\" title=\"bbox 387 574 410 584; x_wconf 54\">\\n       h...\\n      </span>\\n      <span class=\"ocrx_word\" dir=\"ltr\" id=\"word_1_683\" lang=\"eng\" title=\"bbox 445 574 482 587; x_wconf 58\">\\n       pvhhc\\n      </span>\\n      <span class=\"ocrx_word\" dir=\"ltr\" id=\"word_1_684\" lang=\"eng\" title=\"bbox 491 577 537 586; x_wconf 54\">\\n       mu\",\\n      </span>\\n      <span class=\"ocrx_word\" dir=\"ltr\" id=\"word_1_685\" lang=\"eng\" title=\"bbox 545 574 594 583; x_wconf 66\">\\n       <strong>\\n        lvnwmm\\n       </strong>\\n      </span>\\n      <span class=\"ocrx_word\" dir=\"ltr\" id=\"word_1_686\" lang=\"eng\" title=\"bbox 606 573 685 586; x_wconf 69\">\\n       <strong>\\n        dnnguuusm\\n       </strong>\\n      </span>\\n      <span class=\"ocrx_word\" dir=\"ltr\" id=\"word_1_687\" lang=\"eng\" title=\"bbox 693 576 710 586; x_wconf 85\">\\n       my\\n      </span>\\n     </span>\\n    </p>\\n   </div>\\n   <div class=\"ocr_carea\" id=\"block_1_38\" title=\"bbox 626 352 628 358\">\\n    <p class=\"ocr_par\" dir=\"ltr\" id=\"par_1_58\" title=\"bbox 626 352 628 358\">\\n     <span class=\"ocr_line\" id=\"line_1_126\" title=\"bbox 626 352 628 358; baseline 0 0; x_size 3; x_descenders -1.5; x_ascenders 1.5\">\\n      <span class=\"ocrx_word\" dir=\"ltr\" id=\"word_1_688\" lang=\"eng\" title=\"bbox 626 352 628 358; x_wconf 95\">\\n      </span>\\n     </span>\\n    </p>\\n   </div>\\n   <div class=\"ocr_carea\" id=\"block_1_39\" title=\"bbox 465 368 486 375\">\\n    <p class=\"ocr_par\" dir=\"ltr\" id=\"par_1_59\" title=\"bbox 465 368 486 375\">\\n     <span class=\"ocr_line\" id=\"line_1_127\" title=\"bbox 465 368 486 375; baseline 0 822; x_size 20; x_descenders 5; x_ascenders 5\">\\n      <span class=\"ocrx_word\" dir=\"ltr\" id=\"word_1_689\" lang=\"eng\" title=\"bbox 465 368 486 375; x_wconf 95\">\\n      </span>\\n     </span>\\n    </p>\\n   </div>\\n   <div class=\"ocr_carea\" id=\"block_1_40\" title=\"bbox 429 415 437 416\">\\n    <p class=\"ocr_par\" dir=\"ltr\" id=\"par_1_60\" title=\"bbox 429 415 437 416\">\\n     <span class=\"ocr_line\" id=\"line_1_128\" title=\"bbox 429 415 437 416; baseline 0 0; x_size 0.5; x_descenders -0.25; x_ascenders 0.25\">\\n      <span class=\"ocrx_word\" dir=\"ltr\" id=\"word_1_690\" lang=\"eng\" title=\"bbox 429 415 437 416; x_wconf 95\">\\n      </span>\\n     </span>\\n    </p>\\n   </div>\\n   <div class=\"ocr_carea\" id=\"block_1_41\" title=\"bbox 581 473 588 480\">\\n    <p class=\"ocr_par\" dir=\"ltr\" id=\"par_1_61\" title=\"bbox 581 473 588 480\">\\n     <span class=\"ocr_line\" id=\"line_1_129\" title=\"bbox 581 473 588 480; baseline 0 0; x_size 20; x_descenders 5; x_ascenders 5\">\\n      <span class=\"ocrx_word\" dir=\"ltr\" id=\"word_1_691\" lang=\"eng\" title=\"bbox 581 473 583 480; x_wconf 95\">\\n      </span>\\n      <span class=\"ocrx_word\" dir=\"ltr\" id=\"word_1_692\" lang=\"eng\" title=\"bbox 586 473 588 480; x_wconf 95\">\\n      </span>\\n     </span>\\n    </p>\\n   </div>\\n   <div class=\"ocr_carea\" id=\"block_1_42\" title=\"bbox 418 578 443 584\">\\n    <p class=\"ocr_par\" dir=\"ltr\" id=\"par_1_62\" title=\"bbox 418 578 443 584\">\\n     <span class=\"ocr_line\" id=\"line_1_130\" title=\"bbox 418 578 443 584; baseline 0 0; x_size 3; x_descenders -1.5; x_ascenders 1.5\">\\n      <span class=\"ocrx_word\" dir=\"ltr\" id=\"word_1_693\" lang=\"eng\" title=\"bbox 418 578 443 584; x_wconf 95\">\\n      </span>\\n     </span>\\n    </p>\\n   </div>\\n   <div class=\"ocr_carea\" id=\"block_1_43\" title=\"bbox 387 587 711 602\">\\n    <p class=\"ocr_par\" dir=\"ltr\" id=\"par_1_63\" title=\"bbox 387 587 711 602\">\\n     <span class=\"ocr_line\" id=\"line_1_131\" title=\"bbox 387 587 711 602; baseline -0.006 -3; x_size 21.25; x_descenders 5.5; x_ascenders 5.25\">\\n      <span class=\"ocrx_word\" dir=\"ltr\" id=\"word_1_694\" lang=\"eng\" title=\"bbox 387 591 453 602; x_wconf 64\">\\n       .q....,..m..,\\n      </span>\\n      <span class=\"ocrx_word\" id=\"word_1_695\" lang=\"eng\" title=\"bbox 464 592 474 598; x_wconf 59\">\\n       .7.\\n      </span>\\n      <span class=\"ocrx_word\" dir=\"ltr\" id=\"word_1_696\" lang=\"eng\" title=\"bbox 487 588 584 602; x_wconf 57\">\\n       diwmpurbuncd\\n      </span>\\n      <span class=\"ocrx_word\" dir=\"ltr\" id=\"word_1_697\" lang=\"eng\" title=\"bbox 598 589 609 597; x_wconf 77\">\\n       <strong>\\n        m\\n       </strong>\\n      </span>\\n      <span class=\"ocrx_word\" dir=\"ltr\" id=\"word_1_698\" lang=\"eng\" title=\"bbox 620 590 638 601; x_wconf 81\">\\n       my\\n      </span>\\n      <span class=\"ocrx_word\" dir=\"ltr\" id=\"word_1_699\" lang=\"eng\" title=\"bbox 648 587 692 600; x_wconf 59\">\\n       talents,\\n      </span>\\n      <span class=\"ocrx_word\" dir=\"ltr\" id=\"word_1_700\" lang=\"eng\" title=\"bbox 703 589 711 598; x_wconf 67\">\\n       h\\n      </span>\\n     </span>\\n    </p>\\n   </div>\\n   <div class=\"ocr_carea\" id=\"block_1_44\" title=\"bbox 387 602 714 1138\">\\n    <p class=\"ocr_par\" dir=\"ltr\" id=\"par_1_64\" title=\"bbox 387 602 711 686\">\\n     <span class=\"ocr_line\" id=\"line_1_132\" title=\"bbox 387 602 711 616; baseline -0.003 -3; x_size 21.288961; x_descenders 5.5; x_ascenders 5.2629871\">\\n      <span class=\"ocrx_word\" dir=\"ltr\" id=\"word_1_701\" lang=\"eng\" title=\"bbox 387 603 423 614; x_wconf 60\">\\n       mum\\n      </span>\\n      <span class=\"ocrx_word\" dir=\"ltr\" id=\"word_1_702\" lang=\"eng\" title=\"bbox 437 603 464 613; x_wconf 65\">\\n       hm\\n      </span>\\n      <span class=\"ocrx_word\" dir=\"ltr\" id=\"word_1_703\" lang=\"eng\" title=\"bbox 475 603 504 613; x_wconf 70\">\\n       hem\\n      </span>\\n      <span class=\"ocrx_word\" id=\"word_1_704\" lang=\"eng\" title=\"bbox 517 603 519 605; x_wconf 85\">\\n       \\'\\n      </span>\\n      <span class=\"ocrx_word\" dir=\"ltr\" id=\"word_1_705\" lang=\"eng\" title=\"bbox 529 602 589 613; x_wconf 64\">\\n       cuneincm\\n      </span>\\n      <span class=\"ocrx_word\" dir=\"ltr\" id=\"word_1_706\" lang=\"eng\" title=\"bbox 599 604 610 613; x_wconf 63\">\\n       to\\n      </span>\\n      <span class=\"ocrx_word\" dir=\"ltr\" id=\"word_1_707\" lang=\"eng\" title=\"bbox 621 602 649 612; x_wconf 60\">\\n       have\\n      </span>\\n      <span class=\"ocrx_word\" dir=\"ltr\" id=\"word_1_708\" lang=\"eng\" title=\"bbox 662 602 711 616; x_wconf 51\">\\n       my»...\\n      </span>\\n     </span>\\n     <span class=\"ocr_line\" id=\"line_1_133\" title=\"bbox 387 616 711 629; baseline -0.006 -1; x_size 21.288961; x_descenders 5.5; x_ascenders 5.2629871\">\\n      <span class=\"ocrx_word\" dir=\"ltr\" id=\"word_1_709\" lang=\"eng\" title=\"bbox 387 618 431 628; x_wconf 61\">\\n       mam\\n      </span>\\n      <span class=\"ocrx_word\" dir=\"ltr\" id=\"word_1_710\" lang=\"eng\" title=\"bbox 441 617 481 628; x_wconf 70\">\\n       mn\\'du.\\n      </span>\\n      <span class=\"ocrx_word\" dir=\"ltr\" id=\"word_1_711\" lang=\"eng\" title=\"bbox 489 617 502 627; x_wconf 67\">\\n       of\\n      </span>\\n      <span class=\"ocrx_word\" dir=\"ltr\" id=\"word_1_712\" lang=\"eng\" title=\"bbox 508 617 557 627; x_wconf 52\">\\n       coming.\\n      </span>\\n      <span class=\"ocrx_word\" dir=\"ltr\" id=\"word_1_713\" lang=\"eng\" title=\"bbox 565 619 575 627; x_wconf 64\">\\n       a!\\n      </span>\\n      <span class=\"ocrx_word\" id=\"word_1_714\" lang=\"eng\" title=\"bbox 583 617 604 627; x_wconf 63\">\\n       .1...\\n      </span>\\n      <span class=\"ocrx_word\" dir=\"ltr\" id=\"word_1_715\" lang=\"eng\" title=\"bbox 612 618 642 629; x_wconf 64\">\\n       <strong>\\n        tune,\\n       </strong>\\n      </span>\\n      <span class=\"ocrx_word\" dir=\"ltr\" id=\"word_1_716\" lang=\"eng\" title=\"bbox 650 616 683 626; x_wconf 71\">\\n       when\\n      </span>\\n      <span class=\"ocrx_word\" dir=\"ltr\" id=\"word_1_717\" lang=\"eng\" title=\"bbox 692 616 711 626; x_wconf 68\">\\n       the\\n      </span>\\n     </span>\\n     <span class=\"ocr_line\" id=\"line_1_134\" title=\"bbox 387 631 711 646; baseline -0.003 -4; x_size 21.288961; x_descenders 5.5; x_ascenders 5.2629871\">\\n      <span class=\"ocrx_word\" dir=\"ltr\" id=\"word_1_718\" lang=\"eng\" title=\"bbox 387 632 437 646; x_wconf 70\">\\n       <strong>\\n        pruipm\\'\\n       </strong>\\n      </span>\\n      <span class=\"ocrx_word\" dir=\"ltr\" id=\"word_1_719\" lang=\"eng\" title=\"bbox 444 636 450 646; x_wconf 69\">\\n       <strong>\\n        y\\n       </strong>\\n      </span>\\n      <span class=\"ocrx_word\" dir=\"ltr\" id=\"word_1_720\" lang=\"eng\" title=\"bbox 456 632 466 642; x_wconf 69\">\\n       u]\\n      </span>\\n      <span class=\"ocrx_word\" dir=\"ltr\" id=\"word_1_721\" lang=\"eng\" title=\"bbox 474 632 494 642; x_wconf 64\">\\n       the\\n      </span>\\n      <span class=\"ocrx_word\" dir=\"ltr\" id=\"word_1_722\" lang=\"eng\" title=\"bbox 499 633 549 645; x_wconf 69\">\\n       cuuvmy,\\n      </span>\\n      <span class=\"ocrx_word\" dir=\"ltr\" id=\"word_1_723\" lang=\"eng\" title=\"bbox 557 631 578 641; x_wconf 62\">\\n       m\\n      </span>\\n      <span class=\"ocrx_word\" dir=\"ltr\" id=\"word_1_724\" lang=\"eng\" title=\"bbox 587 631 606 641; x_wconf 60\">\\n       .h.\\n      </span>\\n      <span class=\"ocrx_word\" dir=\"ltr\" id=\"word_1_725\" lang=\"eng\" title=\"bbox 616 631 665 641; x_wconf 66\">\\n       hbcrues\\n      </span>\\n      <span class=\"ocrx_word\" dir=\"ltr\" id=\"word_1_726\" lang=\"eng\" title=\"bbox 673 631 686 641; x_wconf 69\">\\n       of\\n      </span>\\n      <span class=\"ocrx_word\" dir=\"ltr\" id=\"word_1_727\" lang=\"eng\" title=\"bbox 692 631 711 641; x_wconf 67\">\\n       (In:\\n      </span>\\n     </span>\\n     <span class=\"ocr_line\" id=\"line_1_135\" title=\"bbox 387 645 711 660; baseline -0.012 -2; x_size 21.288961; x_descenders 5.5; x_ascenders 5.2629871\">\\n      <span class=\"ocrx_word\" dir=\"ltr\" id=\"word_1_728\" lang=\"eng\" title=\"bbox 387 647 432 660; x_wconf 60\">\\n       poems,\\n      </span>\\n      <span class=\"ocrx_word\" dir=\"ltr\" id=\"word_1_729\" lang=\"eng\" title=\"bbox 439 646 486 660; x_wconf 67\">\\n       <strong>\\n        v‘cquirc,\\n       </strong>\\n      </span>\\n      <span class=\"ocrx_word\" dir=\"ltr\" id=\"word_1_730\" lang=\"eng\" title=\"bbox 494 646 545 660; x_wconf 70\">\\n       perhaps.\\n      </span>\\n      <span class=\"ocrx_word\" id=\"word_1_731\" lang=\"eng\" title=\"bbox 553 650 564 656; x_wconf 57\">\\n       ..\\n      </span>\\n      <span class=\"ocrx_word\" dir=\"ltr\" id=\"word_1_732\" lang=\"eng\" title=\"bbox 573 646 605 656; x_wconf 67\">\\n       mud:\\n      </span>\\n      <span class=\"ocrx_word\" id=\"word_1_733\" lang=\"eng\" title=\"bbox 614 649 626 655; x_wconf 59\">\\n       2.\\n      </span>\\n      <span class=\"ocrx_word\" dir=\"ltr\" id=\"word_1_734\" lang=\"eng\" title=\"bbox 633 649 663 657; x_wconf 62\">\\n       <strong>\\n        Ever,\\n       </strong>\\n      </span>\\n      <span class=\"ocrx_word\" dir=\"ltr\" id=\"word_1_735\" lang=\"eng\" title=\"bbox 669 645 689 655; x_wconf 64\">\\n       1h:\\n      </span>\\n      <span class=\"ocrx_word\" id=\"word_1_736\" lang=\"eng\" title=\"bbox 696 647 711 655; x_wconf 62\">\\n       :2.\\n      </span>\\n     </span>\\n     <span class=\"ocr_line\" id=\"line_1_136\" title=\"bbox 387 659 711 674; baseline -0.006 -3; x_size 21.288961; x_descenders 5.5; x_ascenders 5.2629871\">\\n      <span class=\"ocrx_word\" dir=\"ltr\" id=\"word_1_737\" lang=\"eng\" title=\"bbox 387 663 429 672; x_wconf 61\">\\n       mum.\\n      </span>\\n      <span class=\"ocrx_word\" dir=\"ltr\" id=\"word_1_738\" lang=\"eng\" title=\"bbox 435 661 448 671; x_wconf 65\">\\n       a!\\n      </span>\\n      <span class=\"ocrx_word\" dir=\"ltr\" id=\"word_1_739\" lang=\"eng\" title=\"bbox 454 661 486 671; x_wconf 62\">\\n       .hm\\n      </span>\\n      <span class=\"ocrx_word\" dir=\"ltr\" id=\"word_1_740\" lang=\"eng\" title=\"bbox 491 661 517 671; x_wconf 80\">\\n       who\\n      </span>\\n      <span class=\"ocrx_word\" dir=\"ltr\" id=\"word_1_741\" lang=\"eng\" title=\"bbox 526 664 570 674; x_wconf 59\">\\n       possess\\n      </span>\\n      <span class=\"ocrx_word\" dir=\"ltr\" id=\"word_1_742\" lang=\"eng\" title=\"bbox 575 664 596 674; x_wconf 74\">\\n       my\\n      </span>\\n      <span class=\"ocrx_word\" dir=\"ltr\" id=\"word_1_743\" lang=\"eng\" title=\"bbox 602 660 634 670; x_wconf 66\">\\n       .hm\\n      </span>\\n      <span class=\"ocrx_word\" dir=\"ltr\" id=\"word_1_744\" lang=\"eng\" title=\"bbox 639 659 652 670; x_wconf 68\">\\n       or\\n      </span>\\n      <span class=\"ocrx_word\" dir=\"ltr\" id=\"word_1_745\" lang=\"eng\" title=\"bbox 658 659 677 670; x_wconf 68\">\\n       the\\n      </span>\\n      <span class=\"ocrx_word\" id=\"word_1_746\" lang=\"eng\" title=\"bbox 683 660 711 673; x_wconf 54\">\\n       1......\\n      </span>\\n     </span>\\n     <span class=\"ocr_line\" id=\"line_1_137\" title=\"bbox 387 676 478 686; baseline -0.011 0; x_size 21.288961; x_descenders 5.5; x_ascenders 5.2629871\">\\n      <span class=\"ocrx_word\" dir=\"ltr\" id=\"word_1_747\" lang=\"eng\" title=\"bbox 387 676 401 686; x_wconf 78\">\\n       Inc\\n      </span>\\n      <span class=\"ocrx_word\" dir=\"ltr\" id=\"word_1_748\" lang=\"eng\" title=\"bbox 407 676 478 686; x_wconf 58\">\\n       Collﬁdthce,\\n      </span>\\n     </span>\\n    </p>\\n    <p class=\"ocr_par\" dir=\"ltr\" id=\"par_1_65\" title=\"bbox 387 689 714 819\">\\n     <span class=\"ocr_line\" id=\"line_1_138\" title=\"bbox 401 689 711 703; baseline -0.003 -3; x_size 21.288961; x_descenders 5.5; x_ascenders 5.2629871\">\\n      <span class=\"ocrx_word\" dir=\"ltr\" id=\"word_1_749\" lang=\"eng\" title=\"bbox 401 691 405 700; x_wconf 73\">\\n       <strong>\\n        x\\n       </strong>\\n      </span>\\n      <span class=\"ocrx_word\" dir=\"ltr\" id=\"word_1_750\" lang=\"eng\" title=\"bbox 414 690 454 700; x_wconf 61\">\\n       mm\\n      </span>\\n      <span class=\"ocrx_word\" dir=\"ltr\" id=\"word_1_751\" lang=\"eng\" title=\"bbox 464 690 536 700; x_wconf 53\">\\n       hmumme\\n      </span>\\n      <span class=\"ocrx_word\" dir=\"ltr\" id=\"word_1_752\" lang=\"eng\" title=\"bbox 545 689 558 700; x_wconf 62\">\\n       or\\n      </span>\\n      <span class=\"ocrx_word\" dir=\"ltr\" id=\"word_1_753\" lang=\"eng\" title=\"bbox 564 689 628 703; x_wconf 44\">\\n       Rummy.\\n      </span>\\n      <span class=\"ocrx_word\" dir=\"ltr\" id=\"word_1_754\" lang=\"eng\" title=\"bbox 635 689 647 702; x_wconf 70\">\\n       1r,\\n      </span>\\n      <span class=\"ocrx_word\" dir=\"ltr\" id=\"word_1_755\" lang=\"eng\" title=\"bbox 654 693 685 703; x_wconf 74\">\\n       <strong>\\n        “pull\\n       </strong>\\n      </span>\\n      <span class=\"ocrx_word\" dir=\"ltr\" id=\"word_1_756\" lang=\"eng\" title=\"bbox 693 692 711 703; x_wconf 77\">\\n       my\\n      </span>\\n     </span>\\n     <span class=\"ocr_line\" id=\"line_1_139\" title=\"bbox 387 703 711 717; baseline 0 -3; x_size 21.288961; x_descenders 5.5; x_ascenders 5.2629871\">\\n      <span class=\"ocrx_word\" dir=\"ltr\" id=\"word_1_757\" lang=\"eng\" title=\"bbox 387 708 407 715; x_wconf 62\">\\n       :«m\\n      </span>\\n      <span class=\"ocrx_word\" dir=\"ltr\" id=\"word_1_758\" lang=\"eng\" title=\"bbox 422 704 425 714; x_wconf 97\">\\n       <strong>\\n        l\\n       </strong>\\n      </span>\\n      <span class=\"ocrx_word\" dir=\"ltr\" id=\"word_1_759\" lang=\"eng\" title=\"bbox 435 704 504 717; x_wconf 35\">\\n       ..-..hi.:hy.\\n      </span>\\n      <span class=\"ocrx_word\" dir=\"ltr\" id=\"word_1_760\" lang=\"eng\" title=\"bbox 511 704 631 717; x_wconf 63\">\\n       .Imlpuwuhﬂionw\\n      </span>\\n      <span class=\"ocrx_word\" dir=\"ltr\" id=\"word_1_761\" lang=\"eng\" title=\"bbox 637 704 658 714; x_wconf 68\">\\n       um\\n      </span>\\n      <span class=\"ocrx_word\" dir=\"ltr\" id=\"word_1_762\" lang=\"eng\" title=\"bbox 668 703 711 717; x_wconf 58\">\\n       legisla-\\n      </span>\\n     </span>\\n     <span class=\"ocr_line\" id=\"line_1_140\" title=\"bbox 387 718 710 732; baseline -0.003 -3; x_size 21.288961; x_descenders 5.5; x_ascenders 5.2629871\">\\n      <span class=\"ocrx_word\" dir=\"ltr\" id=\"word_1_763\" lang=\"eng\" title=\"bbox 387 720 414 731; x_wconf 64\">\\n       tum.\\n      </span>\\n      <span class=\"ocrx_word\" id=\"word_1_764\" lang=\"eng\" title=\"bbox 422 719 444 729; x_wconf 69\">\\n       .....1\\n      </span>\\n      <span class=\"ocrx_word\" dir=\"ltr\" id=\"word_1_765\" lang=\"eng\" title=\"bbox 453 719 513 732; x_wconf 57\">\\n       (specully\\n      </span>\\n      <span class=\"ocrx_word\" dir=\"ltr\" id=\"word_1_766\" lang=\"eng\" title=\"bbox 522 720 533 729; x_wconf 70\">\\n       h.\\n      </span>\\n      <span class=\"ocrx_word\" dir=\"ltr\" id=\"word_1_767\" lang=\"eng\" title=\"bbox 543 719 564 729; x_wconf 62\">\\n       u...\\n      </span>\\n      <span class=\"ocrx_word\" dir=\"ltr\" id=\"word_1_768\" lang=\"eng\" title=\"bbox 576 720 620 731; x_wconf 66\">\\n       Scmtr,\\n      </span>\\n      <span class=\"ocrx_word\" id=\"word_1_769\" lang=\"eng\" title=\"bbox 629 719 633 729; x_wconf 71\">\\n       1\\n      </span>\\n      <span class=\"ocrx_word\" dir=\"ltr\" id=\"word_1_770\" lang=\"eng\" title=\"bbox 644 718 678 729; x_wconf 71\">\\n       <strong>\\n        could\\n       </strong>\\n      </span>\\n      <span class=\"ocrx_word\" id=\"word_1_771\" lang=\"eng\" title=\"bbox 688 722 710 730; x_wconf 68\">\\n       1:2,\\n      </span>\\n     </span>\\n     <span class=\"ocr_line\" id=\"line_1_141\" title=\"bbox 387 732 714 746; baseline 0 -3; x_size 21.288961; x_descenders 5.5; x_ascenders 5.2629871\">\\n      <span class=\"ocrx_word\" dir=\"ltr\" id=\"word_1_772\" lang=\"eng\" title=\"bbox 387 734 433 743; x_wconf 65\">\\n       \\\\Hﬂmut\\n      </span>\\n      <span class=\"ocrx_word\" dir=\"ltr\" id=\"word_1_773\" lang=\"eng\" title=\"bbox 444 735 495 746; x_wconf 64\">\\n       nmntmn,\\n      </span>\\n      <span class=\"ocrx_word\" id=\"word_1_774\" lang=\"eng\" title=\"bbox 502 737 514 743; x_wconf 44\">\\n       3..\\n      </span>\\n      <span class=\"ocrx_word\" dir=\"ltr\" id=\"word_1_775\" lang=\"eng\" title=\"bbox 523 737 554 746; x_wconf 74\">\\n       many\\n      </span>\\n      <span class=\"ocrx_word\" dir=\"ltr\" id=\"word_1_776\" lang=\"eng\" title=\"bbox 563 733 576 743; x_wconf 58\">\\n       at\\n      </span>\\n      <span class=\"ocrx_word\" dir=\"ltr\" id=\"word_1_777\" lang=\"eng\" title=\"bbox 583 733 615 743; x_wconf 62\">\\n       .hm\\n      </span>\\n      <span class=\"ocrx_word\" dir=\"ltr\" id=\"word_1_778\" lang=\"eng\" title=\"bbox 626 733 692 745; x_wconf 58\">\\n       clm‘actus,\\n      </span>\\n      <span class=\"ocrx_word\" dir=\"ltr\" id=\"word_1_779\" lang=\"eng\" title=\"bbox 700 732 714 743; x_wconf 74\">\\n       or\\n      </span>\\n     </span>\\n     <span class=\"ocr_line\" id=\"line_1_142\" title=\"bbox 388 747 712 758; baseline -0.003 0; x_size 21.288961; x_descenders 5.5; x_ascenders 5.2629871\">\\n      <span class=\"ocrx_word\" dir=\"ltr\" id=\"word_1_780\" lang=\"eng\" title=\"bbox 388 748 424 758; x_wconf 62\">\\n       <strong>\\n        \\\\tlmsc\\n       </strong>\\n      </span>\\n      <span class=\"ocrx_word\" dir=\"ltr\" id=\"word_1_781\" lang=\"eng\" title=\"bbox 433 748 482 758; x_wconf 67\">\\n       vimimm\\n      </span>\\n      <span class=\"ocrx_word\" dir=\"ltr\" id=\"word_1_782\" lang=\"eng\" title=\"bbox 491 749 547 758; x_wconf 57\">\\n       mm\"...\\n      </span>\\n      <span class=\"ocrx_word\" dir=\"ltr\" id=\"word_1_783\" lang=\"eng\" title=\"bbox 556 748 560 758; x_wconf 73\">\\n       <strong>\\n        x\\n       </strong>\\n      </span>\\n      <span class=\"ocrx_word\" dir=\"ltr\" id=\"word_1_784\" lang=\"eng\" title=\"bbox 570 747 597 757; x_wconf 68\">\\n       hm\\n      </span>\\n      <span class=\"ocrx_word\" id=\"word_1_785\" lang=\"eng\" title=\"bbox 606 751 619 758; x_wconf 54\">\\n       .0\\n      </span>\\n      <span class=\"ocrx_word\" dir=\"ltr\" id=\"word_1_786\" lang=\"eng\" title=\"bbox 629 747 659 758; x_wconf 57\">\\n       on...\\n      </span>\\n      <span class=\"ocrx_word\" dir=\"ltr\" id=\"word_1_787\" lang=\"eng\" title=\"bbox 668 747 697 757; x_wconf 51\">\\n       he...\\n      </span>\\n      <span class=\"ocrx_word\" id=\"word_1_788\" lang=\"eng\" title=\"bbox 706 751 712 757; x_wconf 71\">\\n       ..\\n      </span>\\n     </span>\\n     <span class=\"ocr_line\" id=\"line_1_143\" title=\"bbox 387 761 711 775; baseline 0 -3; x_size 21.288961; x_descenders 5.5; x_ascenders 5.2629871\">\\n      <span class=\"ocrx_word\" dir=\"ltr\" id=\"word_1_789\" lang=\"eng\" title=\"bbox 387 764 431 773; x_wconf 55\">\\n       mm...\\n      </span>\\n      <span class=\"ocrx_word\" dir=\"ltr\" id=\"word_1_790\" lang=\"eng\" title=\"bbox 447 762 474 773; x_wconf 56\">\\n       rm...\\n      </span>\\n      <span class=\"ocrx_word\" dir=\"ltr\" id=\"word_1_791\" lang=\"eng\" title=\"bbox 480 763 517 772; x_wconf 59\">\\n       who»:\\n      </span>\\n      <span class=\"ocrx_word\" dir=\"ltr\" id=\"word_1_792\" lang=\"eng\" title=\"bbox 523 765 551 772; x_wconf 67\">\\n       m...\\n      </span>\\n      <span class=\"ocrx_word\" dir=\"ltr\" id=\"word_1_793\" lang=\"eng\" title=\"bbox 565 765 605 772; x_wconf 67\">\\n       <strong>\\n        “ducts\\n       </strong>\\n      </span>\\n      <span class=\"ocrx_word\" dir=\"ltr\" id=\"word_1_794\" lang=\"eng\" title=\"bbox 614 762 635 772; x_wconf 63\">\\n       and\\n      </span>\\n      <span class=\"ocrx_word\" dir=\"ltr\" id=\"word_1_795\" lang=\"eng\" title=\"bbox 644 761 711 775; x_wconf 63\">\\n       cmphu\\n      </span>\\n     </span>\\n     <span class=\"ocr_line\" id=\"line_1_144\" title=\"bbox 387 776 711 790; baseline 0 -4; x_size 21.288961; x_descenders 5.5; x_ascenders 5.2629871\">\\n      <span class=\"ocrx_word\" dir=\"ltr\" id=\"word_1_796\" lang=\"eng\" title=\"bbox 387 777 415 787; x_wconf 52\">\\n       h...\\n      </span>\\n      <span class=\"ocrx_word\" dir=\"ltr\" id=\"word_1_797\" lang=\"eng\" title=\"bbox 423 780 449 787; x_wconf 64\">\\n       crzr\\n      </span>\\n      <span class=\"ocrx_word\" dir=\"ltr\" id=\"word_1_798\" lang=\"eng\" title=\"bbox 458 777 504 787; x_wconf 48\">\\n       (hm...\\n      </span>\\n      <span class=\"ocrx_word\" dir=\"ltr\" id=\"word_1_799\" lang=\"eng\" title=\"bbox 513 778 608 790; x_wconf 60\">\\n       mlrmu’agrmrnl\\n      </span>\\n      <span class=\"ocrx_word\" dir=\"ltr\" id=\"word_1_800\" lang=\"eng\" title=\"bbox 618 776 639 786; x_wconf 60\">\\n       and\\n      </span>\\n      <span class=\"ocrx_word\" dir=\"ltr\" id=\"word_1_801\" lang=\"eng\" title=\"bbox 647 776 711 788; x_wconf 53\">\\n       ”human,\\n      </span>\\n     </span>\\n     <span class=\"ocr_line\" id=\"line_1_145\" title=\"bbox 388 791 710 807; baseline -0.003 -6; x_size 21.288961; x_descenders 5.5; x_ascenders 5.2629871\">\\n      <span class=\"ocrx_word\" dir=\"ltr\" id=\"word_1_802\" lang=\"eng\" title=\"bbox 388 791 424 807; x_wconf 55\">\\n       hhm\\n      </span>\\n      <span class=\"ocrx_word\" dir=\"ltr\" id=\"word_1_803\" lang=\"eng\" title=\"bbox 433 791 511 801; x_wconf 54\">\\n       «hummualuT\\n      </span>\\n      <span class=\"ocrx_word\" id=\"word_1_804\" lang=\"eng\" title=\"bbox 520 791 537 801; x_wconf 62\">\\n       4...\\n      </span>\\n      <span class=\"ocrx_word\" id=\"word_1_805\" lang=\"eng\" title=\"bbox 542 791 581 804; x_wconf 56\">\\n       \".14....\\n      </span>\\n      <span class=\"ocrx_word\" dir=\"ltr\" id=\"word_1_806\" lang=\"eng\" title=\"bbox 590 791 609 801; x_wconf 45\">\\n       h...\\n      </span>\\n      <span class=\"ocrx_word\" dir=\"ltr\" id=\"word_1_807\" lang=\"eng\" title=\"bbox 618 791 680 804; x_wconf 53\">\\n       hmpmw\\n      </span>\\n      <span class=\"ocrx_word\" dir=\"ltr\" id=\"word_1_808\" lang=\"eng\" title=\"bbox 689 794 710 803; x_wconf 63\">\\n       me,\\n      </span>\\n     </span>\\n     <span class=\"ocr_line\" id=\"line_1_146\" title=\"bbox 388 805 712 819; baseline 0 -4; x_size 21.288961; x_descenders 5.5; x_ascenders 5.2629871\">\\n      <span class=\"ocrx_word\" dir=\"ltr\" id=\"word_1_809\" lang=\"eng\" title=\"bbox 388 809 398 816; x_wconf 77\">\\n       h.\\n      </span>\\n      <span class=\"ocrx_word\" dir=\"ltr\" id=\"word_1_810\" lang=\"eng\" title=\"bbox 404 809 435 819; x_wconf 68\">\\n       .......y\\n      </span>\\n      <span class=\"ocrx_word\" dir=\"ltr\" id=\"word_1_811\" lang=\"eng\" title=\"bbox 442 807 491 816; x_wconf 48\">\\n       hum»...\\n      </span>\\n      <span class=\"ocrx_word\" dir=\"ltr\" id=\"word_1_812\" lang=\"eng\" title=\"bbox 500 807 580 819; x_wconf 59\">\\n       <strong>\\n        cuvuumnu-n\\n       </strong>\\n      </span>\\n      <span class=\"ocrx_word\" dir=\"ltr\" id=\"word_1_813\" lang=\"eng\" title=\"bbox 589 805 646 818; x_wconf 61\">\\n       0/1.“.th\\n      </span>\\n      <span class=\"ocrx_word\" id=\"word_1_814\" lang=\"eng\" title=\"bbox 655 809 660 815; x_wconf 70\">\\n       .\\n      </span>\\n      <span class=\"ocrx_word\" id=\"word_1_815\" lang=\"eng\" title=\"bbox 681 809 695 817; x_wconf 65\">\\n       .5,\\n      </span>\\n      <span class=\"ocrx_word\" dir=\"ltr\" id=\"word_1_816\" lang=\"eng\" title=\"bbox 701 807 712 815; x_wconf 69\">\\n       <strong>\\n        u\\n       </strong>\\n      </span>\\n     </span>\\n    </p>\\n    <p class=\"ocr_par\" dir=\"ltr\" id=\"par_1_66\" title=\"bbox 388 819 712 931\">\\n     <span class=\"ocr_line\" id=\"line_1_147\" title=\"bbox 555 819 711 830; baseline 0.006 -1; x_size 21.288961; x_descenders 5.5; x_ascenders 5.2629871\">\\n      <span class=\"ocrx_word\" id=\"word_1_817\" lang=\"eng\" title=\"bbox 555 820 605 830; x_wconf 43\">\\n       1......“\\n      </span>\\n      <span class=\"ocrx_word\" dir=\"ltr\" id=\"word_1_818\" lang=\"eng\" title=\"bbox 611 819 670 830; x_wconf 49\">\\n       defender;\\n      </span>\\n      <span class=\"ocrx_word\" dir=\"ltr\" id=\"word_1_819\" lang=\"eng\" title=\"bbox 676 819 689 830; x_wconf 72\">\\n       of\\n      </span>\\n      <span class=\"ocrx_word\" dir=\"ltr\" id=\"word_1_820\" lang=\"eng\" title=\"bbox 693 820 711 830; x_wconf 70\">\\n       the\\n      </span>\\n     </span>\\n     <span class=\"ocr_line\" id=\"line_1_148\" title=\"bbox 388 834 712 847; baseline 0 -3; x_size 21.288961; x_descenders 5.5; x_ascenders 5.2629871\">\\n      <span class=\"ocrx_word\" dir=\"ltr\" id=\"word_1_821\" lang=\"eng\" title=\"bbox 388 835 409 844; x_wconf 65\">\\n       hh:\\n      </span>\\n      <span class=\"ocrx_word\" dir=\"ltr\" id=\"word_1_822\" lang=\"eng\" title=\"bbox 421 838 436 844; x_wconf 75\">\\n       mx\\n      </span>\\n      <span class=\"ocrx_word\" dir=\"ltr\" id=\"word_1_823\" lang=\"eng\" title=\"bbox 446 834 485 844; x_wconf 72\">\\n       n’ﬂm\\n      </span>\\n      <span class=\"ocrx_word\" dir=\"ltr\" id=\"word_1_824\" lang=\"eng\" title=\"bbox 494 836 544 847; x_wconf 69\">\\n       con-my,\\n      </span>\\n      <span class=\"ocrx_word\" dir=\"ltr\" id=\"word_1_825\" lang=\"eng\" title=\"bbox 551 834 587 844; x_wconf 81\">\\n       whom\\n      </span>\\n      <span class=\"ocrx_word\" dir=\"ltr\" id=\"word_1_826\" lang=\"eng\" title=\"bbox 597 834 712 844; x_wconf 65\">\\n       mennczscauldnot\\n      </span>\\n     </span>\\n     <span class=\"ocr_line\" id=\"line_1_149\" title=\"bbox 388 848 707 861; baseline 0 -3; x_size 21.288961; x_descenders 5.5; x_ascenders 5.2629871\">\\n      <span class=\"ocrx_word\" dir=\"ltr\" id=\"word_1_827\" lang=\"eng\" title=\"bbox 388 848 451 861; x_wconf 53\">\\n       hummus,\\n      </span>\\n      <span class=\"ocrx_word\" dir=\"ltr\" id=\"word_1_828\" lang=\"eng\" title=\"bbox 463 848 527 861; x_wconf 65\">\\n       uuy-upﬁmn\\n      </span>\\n      <span class=\"ocrx_word\" dir=\"ltr\" id=\"word_1_829\" lang=\"eng\" title=\"bbox 539 848 584 860; x_wconf 54\">\\n       when,\\n      </span>\\n      <span class=\"ocrx_word\" id=\"word_1_830\" lang=\"eng\" title=\"bbox 595 852 605 858; x_wconf 56\">\\n       0.\\n      </span>\\n      <span class=\"ocrx_word\" dir=\"ltr\" id=\"word_1_831\" lang=\"eng\" title=\"bbox 619 848 662 861; x_wconf 50\">\\n       Many\\n      </span>\\n      <span class=\"ocrx_word\" dir=\"ltr\" id=\"word_1_832\" lang=\"eng\" title=\"bbox 672 848 707 859; x_wconf 67\">\\n       <strong>\\n        allure\\n       </strong>\\n      </span>\\n     </span>\\n     <span class=\"ocr_line\" id=\"line_1_150\" title=\"bbox 388 862 710 876; baseline 0.003 -3; x_size 21.288961; x_descenders 5.5; x_ascenders 5.2629871\">\\n      <span class=\"ocrx_word\" dir=\"ltr\" id=\"word_1_833\" lang=\"eng\" title=\"bbox 388 863 419 873; x_wconf 71\">\\n       <strong>\\n        llmsc\\n       </strong>\\n      </span>\\n      <span class=\"ocrx_word\" dir=\"ltr\" id=\"word_1_834\" lang=\"eng\" title=\"bbox 427 863 475 876; x_wconf 64\">\\n       in‘v\\'cpn’l\\n      </span>\\n      <span class=\"ocrx_word\" dir=\"ltr\" id=\"word_1_835\" lang=\"eng\" title=\"bbox 484 864 535 873; x_wconf 55\">\\n       luscrwrs\\n      </span>\\n      <span class=\"ocrx_word\" dir=\"ltr\" id=\"word_1_836\" lang=\"eng\" title=\"bbox 545 862 557 872; x_wconf 63\">\\n       hr‘\\n      </span>\\n      <span class=\"ocrx_word\" id=\"word_1_837\" lang=\"eng\" title=\"bbox 565 863 583 873; x_wconf 57\">\\n       41.:\\n      </span>\\n      <span class=\"ocrx_word\" dir=\"ltr\" id=\"word_1_838\" lang=\"eng\" title=\"bbox 593 862 647 876; x_wconf 67\">\\n       Hglnsof\\n      </span>\\n      <span class=\"ocrx_word\" dir=\"ltr\" id=\"word_1_839\" lang=\"eng\" title=\"bbox 654 863 710 875; x_wconf 71\">\\n       mankind.\\n      </span>\\n     </span>\\n     <span class=\"ocr_line\" id=\"line_1_151\" title=\"bbox 388 877 712 891; baseline 0 -4; x_size 21.288961; x_descenders 5.5; x_ascenders 5.2629871\">\\n      <span class=\"ocrx_word\" dir=\"ltr\" id=\"word_1_840\" lang=\"eng\" title=\"bbox 388 877 424 887; x_wconf 62\">\\n       when\\n      </span>\\n      <span class=\"ocrx_word\" dir=\"ltr\" id=\"word_1_841\" lang=\"eng\" title=\"bbox 433 877 500 891; x_wconf 67\">\\n       phdnsophy\\n      </span>\\n      <span class=\"ocrx_word\" dir=\"ltr\" id=\"word_1_842\" lang=\"eng\" title=\"bbox 505 877 527 887; x_wconf 69\">\\n       and\\n      </span>\\n      <span class=\"ocrx_word\" dir=\"ltr\" id=\"word_1_843\" lang=\"eng\" title=\"bbox 535 880 550 891; x_wconf 67\">\\n       1m\\n      </span>\\n      <span class=\"ocrx_word\" id=\"word_1_844\" lang=\"eng\" title=\"bbox 567 880 573 890; x_wconf 72\">\\n       );\\n      </span>\\n      <span class=\"ocrx_word\" dir=\"ltr\" id=\"word_1_845\" lang=\"eng\" title=\"bbox 579 877 606 887; x_wconf 61\">\\n       hm\\n      </span>\\n      <span class=\"ocrx_word\" dir=\"ltr\" id=\"word_1_846\" lang=\"eng\" title=\"bbox 612 877 685 891; x_wconf 56\">\\n       cnlxghmmd\\n      </span>\\n      <span class=\"ocrx_word\" dir=\"ltr\" id=\"word_1_847\" lang=\"eng\" title=\"bbox 693 879 712 887; x_wconf 70\">\\n       m:\\n      </span>\\n     </span>\\n     <span class=\"ocr_line\" id=\"line_1_152\" title=\"bbox 389 891 712 905; baseline 0.003 -4; x_size 21.288961; x_descenders 5.5; x_ascenders 5.2629871\">\\n      <span class=\"ocrx_word\" dir=\"ltr\" id=\"word_1_848\" lang=\"eng\" title=\"bbox 389 892 426 904; x_wconf 64\">\\n       mm,\\n      </span>\\n      <span class=\"ocrx_word\" dir=\"ltr\" id=\"word_1_849\" lang=\"eng\" title=\"bbox 434 895 444 901; x_wconf 66\">\\n       h.\\n      </span>\\n      <span class=\"ocrx_word\" dir=\"ltr\" id=\"word_1_850\" lang=\"eng\" title=\"bbox 450 893 492 905; x_wconf 54\">\\n       mm\\n      </span>\\n      <span class=\"ocrx_word\" dir=\"ltr\" id=\"word_1_851\" lang=\"eng\" title=\"bbox 497 895 531 905; x_wconf 49\">\\n       mm,\\n      </span>\\n      <span class=\"ocrx_word\" dir=\"ltr\" id=\"word_1_852\" lang=\"eng\" title=\"bbox 537 895 567 902; x_wconf 54\">\\n       mm.\\n      </span>\\n      <span class=\"ocrx_word\" dir=\"ltr\" id=\"word_1_853\" lang=\"eng\" title=\"bbox 573 892 598 901; x_wconf 63\">\\n       .h...\\n      </span>\\n      <span class=\"ocrx_word\" dir=\"ltr\" id=\"word_1_854\" lang=\"eng\" title=\"bbox 605 893 668 902; x_wconf 59\">\\n       Hummer\\n      </span>\\n      <span class=\"ocrx_word\" dir=\"ltr\" id=\"word_1_855\" lang=\"eng\" title=\"bbox 673 891 712 902; x_wconf 66\">\\n       hcfore\\n      </span>\\n     </span>\\n     <span class=\"ocr_line\" id=\"line_1_153\" title=\"bbox 388 906 711 919; baseline 0.003 -3; x_size 21.288961; x_descenders 5.5; x_ascenders 5.2629871\">\\n      <span class=\"ocrx_word\" dir=\"ltr\" id=\"word_1_856\" lang=\"eng\" title=\"bbox 388 906 460 919; x_wconf 64\">\\n       cubghlrucrl\\n      </span>\\n      <span class=\"ocrx_word\" dir=\"ltr\" id=\"word_1_857\" lang=\"eng\" title=\"bbox 468 910 478 916; x_wconf 83\">\\n       <em>\\n        m\\n       </em>\\n      </span>\\n      <span class=\"ocrx_word\" id=\"word_1_858\" lang=\"eng\" title=\"bbox 487 909 490 916; x_wconf 87\">\\n       .\\n      </span>\\n      <span class=\"ocrx_word\" id=\"word_1_859\" lang=\"eng\" title=\"bbox 514 910 518 916; x_wconf 78\">\\n       .\\n      </span>\\n      <span class=\"ocrx_word\" dir=\"ltr\" id=\"word_1_860\" lang=\"eng\" title=\"bbox 525 910 534 916; x_wconf 76\">\\n       <em>\\n        u\\n       </em>\\n      </span>\\n      <span class=\"ocrx_word\" dir=\"ltr\" id=\"word_1_861\" lang=\"eng\" title=\"bbox 540 908 584 918; x_wconf 60\">\\n       huh-m,\\n      </span>\\n      <span class=\"ocrx_word\" dir=\"ltr\" id=\"word_1_862\" lang=\"eng\" title=\"bbox 591 906 605 919; x_wconf 71\">\\n       by\\n      </span>\\n      <span class=\"ocrx_word\" dir=\"ltr\" id=\"word_1_863\" lang=\"eng\" title=\"bbox 611 908 655 916; x_wconf 62\">\\n       hum...\\n      </span>\\n      <span class=\"ocrx_word\" dir=\"ltr\" id=\"word_1_864\" lang=\"eng\" title=\"bbox 663 906 711 918; x_wconf 36\">\\n       .chwh.\\n      </span>\\n     </span>\\n     <span class=\"ocr_line\" id=\"line_1_154\" title=\"bbox 388 921 529 931; baseline 0 0; x_size 21.288961; x_descenders 5.5; x_ascenders 5.2629871\">\\n      <span class=\"ocrx_word\" dir=\"ltr\" id=\"word_1_865\" lang=\"eng\" title=\"bbox 388 924 398 931; x_wconf 68\">\\n       cu\\n      </span>\\n      <span class=\"ocrx_word\" dir=\"ltr\" id=\"word_1_866\" lang=\"eng\" title=\"bbox 405 921 451 931; x_wconf 64\">\\n       <strong>\\n        madam\\n       </strong>\\n      </span>\\n      <span class=\"ocrx_word\" dir=\"ltr\" id=\"word_1_867\" lang=\"eng\" title=\"bbox 457 924 481 931; x_wconf 56\">\\n       h...»\\n      </span>\\n      <span class=\"ocrx_word\" dir=\"ltr\" id=\"word_1_868\" lang=\"eng\" title=\"bbox 506 922 529 931; x_wconf 62\">\\n       h...\\n      </span>\\n     </span>\\n    </p>\\n    <p class=\"ocr_par\" dir=\"ltr\" id=\"par_1_67\" title=\"bbox 388 935 714 1006\">\\n     <span class=\"ocr_line\" id=\"line_1_155\" title=\"bbox 402 935 714 946; baseline 0 -1; x_size 21.288961; x_descenders 5.5; x_ascenders 5.2629871\">\\n      <span class=\"ocrx_word\" dir=\"ltr\" id=\"word_1_869\" lang=\"eng\" title=\"bbox 402 936 406 945; x_wconf 85\">\\n       l\\n      </span>\\n      <span class=\"ocrx_word\" dir=\"ltr\" id=\"word_1_870\" lang=\"eng\" title=\"bbox 417 937 447 945; x_wconf 67\">\\n       uh...\\n      </span>\\n      <span class=\"ocrx_word\" dir=\"ltr\" id=\"word_1_871\" lang=\"eng\" title=\"bbox 456 935 483 945; x_wconf 67\">\\n       hm\\n      </span>\\n      <span class=\"ocrx_word\" dir=\"ltr\" id=\"word_1_872\" lang=\"eng\" title=\"bbox 494 935 522 945; x_wconf 66\">\\n       hm.\\n      </span>\\n      <span class=\"ocrx_word\" dir=\"ltr\" id=\"word_1_873\" lang=\"eng\" title=\"bbox 530 937 595 945; x_wconf 54\">\\n       mum...\\n      </span>\\n      <span class=\"ocrx_word\" dir=\"ltr\" id=\"word_1_874\" lang=\"eng\" title=\"bbox 605 936 616 945; x_wconf 64\">\\n       to\\n      </span>\\n      <span class=\"ocrx_word\" dir=\"ltr\" id=\"word_1_875\" lang=\"eng\" title=\"bbox 625 935 643 945; x_wconf 68\">\\n       the\\n      </span>\\n      <span class=\"ocrx_word\" dir=\"ltr\" id=\"word_1_876\" lang=\"eng\" title=\"bbox 652 939 692 946; x_wconf 54\">\\n       m...“\\n      </span>\\n      <span class=\"ocrx_word\" dir=\"ltr\" id=\"word_1_877\" lang=\"eng\" title=\"bbox 701 935 714 945; x_wconf 60\">\\n       of\\n      </span>\\n     </span>\\n     <span class=\"ocr_line\" id=\"line_1_156\" title=\"bbox 388 949 712 963; baseline 0.003 -4; x_size 21.288961; x_descenders 5.5; x_ascenders 5.2629871\">\\n      <span class=\"ocrx_word\" dir=\"ltr\" id=\"word_1_878\" lang=\"eng\" title=\"bbox 388 951 430 962; x_wconf 67\">\\n       events,\\n      </span>\\n      <span class=\"ocrx_word\" dir=\"ltr\" id=\"word_1_879\" lang=\"eng\" title=\"bbox 437 949 446 959; x_wconf 66\">\\n       .r\\n      </span>\\n      <span class=\"ocrx_word\" dir=\"ltr\" id=\"word_1_880\" lang=\"eng\" title=\"bbox 451 950 454 959; x_wconf 72\">\\n       <strong>\\n        y\\n       </strong>\\n      </span>\\n      <span class=\"ocrx_word\" dir=\"ltr\" id=\"word_1_881\" lang=\"eng\" title=\"bbox 460 953 489 960; x_wconf 45\">\\n       w...\\n      </span>\\n      <span class=\"ocrx_word\" dir=\"ltr\" id=\"word_1_882\" lang=\"eng\" title=\"bbox 496 950 531 960; x_wconf 68\">\\n       cnhcr\\n      </span>\\n      <span class=\"ocrx_word\" dir=\"ltr\" id=\"word_1_883\" lang=\"eng\" title=\"bbox 540 953 569 963; x_wconf 38\">\\n       who.\\n      </span>\\n      <span class=\"ocrx_word\" dir=\"ltr\" id=\"word_1_884\" lang=\"eng\" title=\"bbox 575 951 589 960; x_wconf 67\">\\n       m.\\n      </span>\\n      <span class=\"ocrx_word\" dir=\"ltr\" id=\"word_1_885\" lang=\"eng\" title=\"bbox 596 949 609 959; x_wconf 55\">\\n       M\\n      </span>\\n      <span class=\"ocrx_word\" dir=\"ltr\" id=\"word_1_886\" lang=\"eng\" title=\"bbox 614 950 633 959; x_wconf 63\">\\n       <strong>\\n        m\\n       </strong>\\n      </span>\\n      <span class=\"ocrx_word\" dir=\"ltr\" id=\"word_1_887\" lang=\"eng\" title=\"bbox 639 949 672 962; x_wconf 71\">\\n       <strong>\\n        fame,\\n       </strong>\\n      </span>\\n      <span class=\"ocrx_word\" dir=\"ltr\" id=\"word_1_888\" lang=\"eng\" title=\"bbox 679 953 692 960; x_wconf 83\">\\n       ox-\\n      </span>\\n      <span class=\"ocrx_word\" dir=\"ltr\" id=\"word_1_889\" lang=\"eng\" title=\"bbox 697 950 712 960; x_wconf 69\">\\n       ah.\\n      </span>\\n     </span>\\n     <span class=\"ocr_line\" id=\"line_1_157\" title=\"bbox 388 964 712 975; baseline 0 -1; x_size 21.288961; x_descenders 5.5; x_ascenders 5.2629871\">\\n      <span class=\"ocrx_word\" dir=\"ltr\" id=\"word_1_890\" lang=\"eng\" title=\"bbox 388 964 435 974; x_wconf 61\">\\n       :crmhle\\n      </span>\\n      <span class=\"ocrx_word\" dir=\"ltr\" id=\"word_1_891\" lang=\"eng\" title=\"bbox 440 966 451 974; x_wconf 78\">\\n       <strong>\\n        m\\n       </strong>\\n      </span>\\n      <span class=\"ocrx_word\" dir=\"ltr\" id=\"word_1_892\" lang=\"eng\" title=\"bbox 457 964 475 974; x_wconf 53\">\\n       .h.\\n      </span>\\n      <span class=\"ocrx_word\" dir=\"ltr\" id=\"word_1_893\" lang=\"eng\" title=\"bbox 481 966 513 974; x_wconf 66\">\\n       m...\\n      </span>\\n      <span class=\"ocrx_word\" dir=\"ltr\" id=\"word_1_894\" lang=\"eng\" title=\"bbox 519 964 566 974; x_wconf 52\">\\n       auh...\\n      </span>\\n      <span class=\"ocrx_word\" dir=\"ltr\" id=\"word_1_895\" lang=\"eng\" title=\"bbox 571 965 603 974; x_wconf 62\">\\n       huh».\\n      </span>\\n      <span class=\"ocrx_word\" dir=\"ltr\" id=\"word_1_896\" lang=\"eng\" title=\"bbox 609 965 622 974; x_wconf 82\">\\n       ch\\n      </span>\\n      <span class=\"ocrx_word\" dir=\"ltr\" id=\"word_1_897\" lang=\"eng\" title=\"bbox 636 966 671 975; x_wconf 53\">\\n       m...\\n      </span>\\n      <span class=\"ocrx_word\" dir=\"ltr\" id=\"word_1_898\" lang=\"eng\" title=\"bbox 677 968 687 975; x_wconf 65\">\\n       h.\\n      </span>\\n      <span class=\"ocrx_word\" dir=\"ltr\" id=\"word_1_899\" lang=\"eng\" title=\"bbox 693 965 712 975; x_wconf 69\">\\n       the\\n      </span>\\n     </span>\\n     <span class=\"ocr_line\" id=\"line_1_158\" title=\"bbox 388 979 712 992; baseline 0.003 -4; x_size 21.288961; x_descenders 5.5; x_ascenders 5.2629871\">\\n      <span class=\"ocrx_word\" dir=\"ltr\" id=\"word_1_900\" lang=\"eng\" title=\"bbox 388 979 528 991; x_wconf 57\">\\n       SPIYHKE,\\'()\\\\\\\\|\\\\DM1[‘M§\\n      </span>\\n      <span class=\"ocrx_word\" dir=\"ltr\" id=\"word_1_901\" lang=\"eng\" title=\"bbox 537 979 565 989; x_wconf 68\">\\n       hum\\n      </span>\\n      <span class=\"ocrx_word\" dir=\"ltr\" id=\"word_1_902\" lang=\"eng\" title=\"bbox 574 982 592 992; x_wconf 81\">\\n       my\\n      </span>\\n      <span class=\"ocrx_word\" dir=\"ltr\" id=\"word_1_903\" lang=\"eng\" title=\"bbox 598 979 662 989; x_wconf 56\">\\n       Imd\\'mhlnc\\n      </span>\\n      <span class=\"ocrx_word\" dir=\"ltr\" id=\"word_1_904\" lang=\"eng\" title=\"bbox 667 981 679 989; x_wconf 74\">\\n       (o\\n      </span>\\n      <span class=\"ocrx_word\" dir=\"ltr\" id=\"word_1_905\" lang=\"eng\" title=\"bbox 684 979 712 989; x_wconf 66\">\\n       hm\\n      </span>\\n     </span>\\n     <span class=\"ocr_line\" id=\"line_1_159\" title=\"bbox 389 993 604 1006; baseline 0 -3; x_size 21.288961; x_descenders 5.5; x_ascenders 5.2629871\">\\n      <span class=\"ocrx_word\" dir=\"ltr\" id=\"word_1_906\" lang=\"eng\" title=\"bbox 389 993 416 1003; x_wconf 47\">\\n       he...\\n      </span>\\n      <span class=\"ocrx_word\" dir=\"ltr\" id=\"word_1_907\" lang=\"eng\" title=\"bbox 422 993 471 1003; x_wconf 68\">\\n       lullmr‘o\\n      </span>\\n      <span class=\"ocrx_word\" dir=\"ltr\" id=\"word_1_908\" lang=\"eng\" title=\"bbox 479 993 542 1006; x_wconf 60\">\\n       ymhonally\\n      </span>\\n      <span class=\"ocrx_word\" dir=\"ltr\" id=\"word_1_909\" lang=\"eng\" title=\"bbox 547 993 604 1004; x_wconf 76\">\\n       <strong>\\n        unknnwn\\n       </strong>\\n      </span>\\n     </span>\\n    </p>\\n    <p class=\"ocr_par\" dir=\"ltr\" id=\"par_1_68\" title=\"bbox 388 1007 713 1138\">\\n     <span class=\"ocr_line\" id=\"line_1_160\" title=\"bbox 403 1007 712 1021; baseline 0.003 -4; x_size 21.288961; x_descenders 5.5; x_ascenders 5.2629871\">\\n      <span class=\"ocrx_word\" id=\"word_1_910\" lang=\"eng\" title=\"bbox 403 1008 412 1018; x_wconf 66\">\\n       1.\\n      </span>\\n      <span class=\"ocrx_word\" dir=\"ltr\" id=\"word_1_911\" lang=\"eng\" title=\"bbox 442 1008 467 1018; x_wconf 70\">\\n       mm\\n      </span>\\n      <span class=\"ocrx_word\" dir=\"ltr\" id=\"word_1_912\" lang=\"eng\" title=\"bbox 478 1007 545 1018; x_wconf 56\">\\n       mustache“\\n      </span>\\n      <span class=\"ocrx_word\" dir=\"ltr\" id=\"word_1_913\" lang=\"eng\" title=\"bbox 558 1008 581 1018; x_wconf 70\">\\n       vlm\\n      </span>\\n      <span class=\"ocrx_word\" dir=\"ltr\" id=\"word_1_914\" lang=\"eng\" title=\"bbox 591 1009 595 1018; x_wconf 73\">\\n       <strong>\\n        x\\n       </strong>\\n      </span>\\n      <span class=\"ocrx_word\" dir=\"ltr\" id=\"word_1_915\" lang=\"eng\" title=\"bbox 605 1008 682 1021; x_wconf 62\">\\n       congntuhm\\n      </span>\\n      <span class=\"ocrx_word\" dir=\"ltr\" id=\"word_1_916\" lang=\"eng\" title=\"bbox 693 1008 712 1018; x_wconf 65\">\\n       «he\\n      </span>\\n     </span>\\n     <span class=\"ocr_line\" id=\"line_1_161\" title=\"bbox 388 1021 712 1035; baseline 0 -3; x_size 21.288961; x_descenders 5.5; x_ascenders 5.2629871\">\\n      <span class=\"ocrx_word\" dir=\"ltr\" id=\"word_1_917\" lang=\"eng\" title=\"bbox 388 1022 429 1035; x_wconf 75\">\\n       <strong>\\n        pcnplc\\n       </strong>\\n      </span>\\n      <span class=\"ocrx_word\" dir=\"ltr\" id=\"word_1_918\" lang=\"eng\" title=\"bbox 435 1021 448 1032; x_wconf 74\">\\n       of\\n      </span>\\n      <span class=\"ocrx_word\" dir=\"ltr\" id=\"word_1_919\" lang=\"eng\" title=\"bbox 454 1023 506 1032; x_wconf 67\">\\n       <strong>\\n        Amcnm\\n       </strong>\\n      </span>\\n      <span class=\"ocrx_word\" dir=\"ltr\" id=\"word_1_920\" lang=\"eng\" title=\"bbox 514 1025 527 1032; x_wconf 73\">\\n       an\\n      </span>\\n      <span class=\"ocrx_word\" dir=\"ltr\" id=\"word_1_921\" lang=\"eng\" title=\"bbox 536 1022 556 1032; x_wconf 64\">\\n       the\\n      </span>\\n      <span class=\"ocrx_word\" dir=\"ltr\" id=\"word_1_922\" lang=\"eng\" title=\"bbox 564 1022 623 1032; x_wconf 68\">\\n       ﬁn-Imlion\\n      </span>\\n      <span class=\"ocrx_word\" dir=\"ltr\" id=\"word_1_923\" lang=\"eng\" title=\"bbox 632 1022 644 1032; x_wconf 70\">\\n       u!\\n      </span>\\n      <span class=\"ocrx_word\" dir=\"ltr\" id=\"word_1_924\" lang=\"eng\" title=\"bbox 650 1026 656 1032; x_wconf 68\">\\n       <strong>\\n        <em>\\n         a\\n        </em>\\n       </strong>\\n      </span>\\n      <span class=\"ocrx_word\" dir=\"ltr\" id=\"word_1_925\" lang=\"eng\" title=\"bbox 664 1022 712 1033; x_wconf 71\">\\n       nulmlhl\\n      </span>\\n     </span>\\n     <span class=\"ocr_line\" id=\"line_1_162\" title=\"bbox 388 1036 713 1050; baseline 0.003 -4; x_size 21.288961; x_descenders 5.5; x_ascenders 5.2629871\">\\n      <span class=\"ocrx_word\" dir=\"ltr\" id=\"word_1_926\" lang=\"eng\" title=\"bbox 388 1036 466 1049; x_wconf 63\">\\n       Cnmtuuﬁrm,\\n      </span>\\n      <span class=\"ocrx_word\" dir=\"ltr\" id=\"word_1_927\" lang=\"eng\" title=\"bbox 474 1037 495 1047; x_wconf 61\">\\n       h...\\n      </span>\\n      <span class=\"ocrx_word\" dir=\"ltr\" id=\"word_1_928\" lang=\"eng\" title=\"bbox 505 1037 523 1047; x_wconf 59\">\\n       We\\n      </span>\\n      <span class=\"ocrx_word\" id=\"word_1_929\" lang=\"eng\" title=\"bbox 532 1036 549 1047; x_wconf 51\">\\n       9’...\\n      </span>\\n      <span class=\"ocrx_word\" dir=\"ltr\" id=\"word_1_930\" lang=\"eng\" title=\"bbox 561 1038 614 1050; x_wconf 62\">\\n       prmpﬁct\\n      </span>\\n      <span class=\"ocrx_word\" dir=\"ltr\" id=\"word_1_931\" lang=\"eng\" title=\"bbox 622 1036 635 1046; x_wconf 58\">\\n       or\\n      </span>\\n      <span class=\"ocrx_word\" dir=\"ltr\" id=\"word_1_932\" lang=\"eng\" title=\"bbox 641 1037 713 1047; x_wconf 51\">\\n       “ohms.“\\n      </span>\\n     </span>\\n     <span class=\"ocr_line\" id=\"line_1_163\" title=\"bbox 388 1051 712 1065; baseline 0.003 -4; x_size 21.288961; x_descenders 5.5; x_ascenders 5.2629871\">\\n      <span class=\"ocrx_word\" dir=\"ltr\" id=\"word_1_933\" lang=\"eng\" title=\"bbox 388 1051 420 1061; x_wconf 70\">\\n       .amh\\n      </span>\\n      <span class=\"ocrx_word\" dir=\"ltr\" id=\"word_1_934\" lang=\"eng\" title=\"bbox 430 1053 474 1061; x_wconf 66\">\\n       mmmn\\n      </span>\\n      <span class=\"ocrx_word\" dir=\"ltr\" id=\"word_1_935\" lang=\"eng\" title=\"bbox 484 1051 497 1061; x_wconf 77\">\\n       nf\\n      </span>\\n      <span class=\"ocrx_word\" id=\"word_1_936\" lang=\"eng\" title=\"bbox 503 1055 509 1061; x_wconf 90\">\\n       ..\\n      </span>\\n      <span class=\"ocrx_word\" dir=\"ltr\" id=\"word_1_937\" lang=\"eng\" title=\"bbox 517 1053 591 1065; x_wconf 60\">\\n       gmmmh.\\n      </span>\\n      <span class=\"ocrx_word\" dir=\"ltr\" id=\"word_1_938\" lang=\"eng\" title=\"bbox 599 1051 612 1061; x_wconf 71\">\\n       of\\n      </span>\\n      <span class=\"ocrx_word\" dir=\"ltr\" id=\"word_1_939\" lang=\"eng\" title=\"bbox 621 1051 647 1061; x_wconf 49\">\\n       I...~\\n      </span>\\n      <span class=\"ocrx_word\" dir=\"ltr\" id=\"word_1_940\" lang=\"eng\" title=\"bbox 668 1053 685 1062; x_wconf 76\">\\n       ()n\\n      </span>\\n      <span class=\"ocrx_word\" dir=\"ltr\" id=\"word_1_941\" lang=\"eng\" title=\"bbox 693 1051 712 1062; x_wconf 68\">\\n       the\\n      </span>\\n     </span>\\n     <span class=\"ocr_line\" id=\"line_1_164\" title=\"bbox 388 1065 713 1079; baseline 0.003 -4; x_size 21.288961; x_descenders 5.5; x_ascenders 5.2629871\">\\n      <span class=\"ocrx_word\" dir=\"ltr\" id=\"word_1_942\" lang=\"eng\" title=\"bbox 388 1069 409 1079; x_wconf 62\">\\n       val\\n      </span>\\n      <span class=\"ocrx_word\" dir=\"ltr\" id=\"word_1_943\" lang=\"eng\" title=\"bbox 431 1065 472 1075; x_wconf 59\">\\n       honnf\\n      </span>\\n      <span class=\"ocrx_word\" id=\"word_1_944\" lang=\"eng\" title=\"bbox 482 1070 487 1076; x_wconf 56\">\\n       ..\\n      </span>\\n      <span class=\"ocrx_word\" dir=\"ltr\" id=\"word_1_945\" lang=\"eng\" title=\"bbox 497 1067 534 1076; x_wconf 67\">\\n       Home\\n      </span>\\n      <span class=\"ocrx_word\" dir=\"ltr\" id=\"word_1_946\" lang=\"eng\" title=\"bbox 544 1065 557 1076; x_wconf 67\">\\n       or\\n      </span>\\n      <span class=\"ocrx_word\" dir=\"ltr\" id=\"word_1_947\" lang=\"eng\" title=\"bbox 564 1067 664 1079; x_wconf 59\">\\n       lupresenutwss,\\n      </span>\\n      <span class=\"ocrx_word\" dir=\"ltr\" id=\"word_1_948\" lang=\"eng\" title=\"bbox 671 1066 713 1076; x_wconf 65\">\\n       chum.\\n      </span>\\n     </span>\\n     <span class=\"ocr_line\" id=\"line_1_165\" title=\"bbox 389 1080 713 1094; baseline 0 -4; x_size 21.288961; x_descenders 5.5; x_ascenders 5.2629871\">\\n      <span class=\"ocrx_word\" dir=\"ltr\" id=\"word_1_949\" lang=\"eng\" title=\"bbox 389 1080 402 1093; x_wconf 79\">\\n       by\\n      </span>\\n      <span class=\"ocrx_word\" dir=\"ltr\" id=\"word_1_950\" lang=\"eng\" title=\"bbox 408 1080 479 1090; x_wconf 50\">\\n       .hc...whv.&lt;.\\n      </span>\\n      <span class=\"ocrx_word\" dir=\"ltr\" id=\"word_1_951\" lang=\"eng\" title=\"bbox 488 1080 501 1090; x_wconf 76\">\\n       af\\n      </span>\\n      <span class=\"ocrx_word\" id=\"word_1_952\" lang=\"eng\" title=\"bbox 507 1084 513 1090; x_wconf 77\">\\n       :\\\\\\n      </span>\\n      <span class=\"ocrx_word\" dir=\"ltr\" id=\"word_1_953\" lang=\"eng\" title=\"bbox 520 1081 561 1090; x_wconf 66\">\\n       Sum:\\n      </span>\\n      <span class=\"ocrx_word\" dir=\"ltr\" id=\"word_1_954\" lang=\"eng\" title=\"bbox 567 1080 592 1090; x_wconf 76\">\\n       .h...\\n      </span>\\n      <span class=\"ocrx_word\" dir=\"ltr\" id=\"word_1_955\" lang=\"eng\" title=\"bbox 597 1080 658 1094; x_wconf 65\">\\n       campnlcﬂ\\n      </span>\\n      <span class=\"ocrx_word\" dir=\"ltr\" id=\"word_1_956\" lang=\"eng\" title=\"bbox 663 1080 678 1093; x_wconf 83\">\\n       by\\n      </span>\\n      <span class=\"ocrx_word\" dir=\"ltr\" id=\"word_1_957\" lang=\"eng\" title=\"bbox 684 1080 713 1091; x_wconf 61\">\\n       mi.»\\n      </span>\\n     </span>\\n     <span class=\"ocr_line\" id=\"line_1_166\" title=\"bbox 389 1094 712 1108; baseline 0.003 -4; x_size 21.288961; x_descenders 5.5; x_ascenders 5.2629871\">\\n      <span class=\"ocrx_word\" dir=\"ltr\" id=\"word_1_958\" lang=\"eng\" title=\"bbox 389 1098 413 1104; x_wconf 64\">\\n       own\\n      </span>\\n      <span class=\"ocrx_word\" dir=\"ltr\" id=\"word_1_959\" lang=\"eng\" title=\"bbox 421 1095 451 1104; x_wconf 59\">\\n       5mm\\n      </span>\\n      <span class=\"ocrx_word\" dir=\"ltr\" id=\"word_1_960\" lang=\"eng\" title=\"bbox 458 1095 536 1108; x_wconf 38\">\\n       Legldalu’nty\\n      </span>\\n      <span class=\"ocrx_word\" dir=\"ltr\" id=\"word_1_961\" lang=\"eng\" title=\"bbox 545 1094 566 1104; x_wconf 61\">\\n       and\\n      </span>\\n      <span class=\"ocrx_word\" dir=\"ltr\" id=\"word_1_962\" lang=\"eng\" title=\"bbox 575 1098 588 1104; x_wconf 58\">\\n       m»\\n      </span>\\n      <span class=\"ocrx_word\" dir=\"ltr\" id=\"word_1_963\" lang=\"eng\" title=\"bbox 594 1094 613 1105; x_wconf 62\">\\n       .h.»\\n      </span>\\n      <span class=\"ocrx_word\" dir=\"ltr\" id=\"word_1_964\" lang=\"eng\" title=\"bbox 622 1094 693 1108; x_wconf 56\">\\n       pmgpzctol.\\n      </span>\\n      <span class=\"ocrx_word\" dir=\"ltr\" id=\"word_1_965\" lang=\"eng\" title=\"bbox 699 1098 712 1105; x_wconf 69\">\\n       u.\\n      </span>\\n     </span>\\n     <span class=\"ocr_line\" id=\"line_1_167\" title=\"bbox 389 1109 712 1123; baseline 0 -4; x_size 21.288961; x_descenders 5.5; x_ascenders 5.2629871\">\\n      <span class=\"ocrx_word\" dir=\"ltr\" id=\"word_1_966\" lang=\"eng\" title=\"bbox 389 1109 447 1119; x_wconf 61\">\\n       mam...\\n      </span>\\n      <span class=\"ocrx_word\" dir=\"ltr\" id=\"word_1_967\" lang=\"eng\" title=\"bbox 453 1109 512 1122; x_wconf 71\">\\n       \\'mt‘wnly,\\n      </span>\\n      <span class=\"ocrx_word\" dir=\"ltr\" id=\"word_1_968\" lang=\"eng\" title=\"bbox 533 1109 552 1119; x_wconf 54\">\\n       2h.\\n      </span>\\n      <span class=\"ocrx_word\" dir=\"ltr\" id=\"word_1_969\" lang=\"eng\" title=\"bbox 557 1109 592 1119; x_wconf 60\">\\n       hand.\\n      </span>\\n      <span class=\"ocrx_word\" dir=\"ltr\" id=\"word_1_970\" lang=\"eng\" title=\"bbox 598 1109 611 1119; x_wconf 60\">\\n       of\\n      </span>\\n      <span class=\"ocrx_word\" dir=\"ltr\" id=\"word_1_971\" lang=\"eng\" title=\"bbox 618 1112 638 1120; x_wconf 61\">\\n       a...\\n      </span>\\n      <span class=\"ocrx_word\" dir=\"ltr\" id=\"word_1_972\" lang=\"eng\" title=\"bbox 644 1109 682 1119; x_wconf 58\">\\n       whilst\\n      </span>\\n      <span class=\"ocrx_word\" dir=\"ltr\" id=\"word_1_973\" lang=\"eng\" title=\"bbox 688 1113 712 1123; x_wconf 56\">\\n       pup\\n      </span>\\n     </span>\\n     <span class=\"ocr_line\" id=\"line_1_168\" title=\"bbox 390 1123 713 1138; baseline 0 -4; x_size 21.288961; x_descenders 5.5; x_ascenders 5.2629871\">\\n      <span class=\"ocrx_word\" dir=\"ltr\" id=\"word_1_974\" lang=\"eng\" title=\"bbox 390 1123 413 1134; x_wconf 62\">\\n       hm\\n      </span>\\n      <span class=\"ocrx_word\" dir=\"ltr\" id=\"word_1_975\" lang=\"eng\" title=\"bbox 419 1124 423 1134; x_wconf 71\">\\n       <strong>\\n        I\\n       </strong>\\n      </span>\\n      <span class=\"ocrx_word\" dir=\"ltr\" id=\"word_1_976\" lang=\"eng\" title=\"bbox 429 1123 456 1134; x_wconf 50\">\\n       dun\\n      </span>\\n      <span class=\"ocrx_word\" id=\"word_1_977\" lang=\"eng\" title=\"bbox 462 1125 481 1134; x_wconf 63\">\\n       1\\'0!\\n      </span>\\n      <span class=\"ocrx_word\" dir=\"ltr\" id=\"word_1_978\" lang=\"eng\" title=\"bbox 490 1126 541 1138; x_wconf 70\">\\n       <strong>\\n        pxzmme\\n       </strong>\\n      </span>\\n      <span class=\"ocrx_word\" dir=\"ltr\" id=\"word_1_979\" lang=\"eng\" title=\"bbox 549 1125 560 1134; x_wconf 71\">\\n       <strong>\\n        m\\n       </strong>\\n      </span>\\n      <span class=\"ocrx_word\" dir=\"ltr\" id=\"word_1_980\" lang=\"eng\" title=\"bbox 566 1124 599 1134; x_wconf 69\">\\n       dnw.\\n      </span>\\n      <span class=\"ocrx_word\" dir=\"ltr\" id=\"word_1_981\" lang=\"eng\" title=\"bbox 617 1125 660 1134; x_wconf 71\">\\n       <strong>\\n        were]\\n       </strong>\\n      </span>\\n      <span class=\"ocrx_word\" dir=\"ltr\" id=\"word_1_982\" lang=\"eng\" title=\"bbox 668 1124 713 1134; x_wconf 64\">\\n       blessed\\n      </span>\\n     </span>\\n    </p>\\n   </div>\\n   <div class=\"ocr_carea\" id=\"block_1_45\" title=\"bbox 418 709 420 714\">\\n    <p class=\"ocr_par\" dir=\"ltr\" id=\"par_1_69\" title=\"bbox 418 709 420 714\">\\n     <span class=\"ocr_line\" id=\"line_1_169\" title=\"bbox 418 709 420 714; baseline 0 0; x_size 2.5; x_descenders -1.25; x_ascenders 1.25\">\\n      <span class=\"ocrx_word\" dir=\"ltr\" id=\"word_1_983\" lang=\"eng\" title=\"bbox 418 709 420 714; x_wconf 95\">\\n      </span>\\n     </span>\\n    </p>\\n   </div>\\n   <div class=\"ocr_carea\" id=\"block_1_46\" title=\"bbox 553 763 562 772\">\\n    <p class=\"ocr_par\" dir=\"ltr\" id=\"par_1_70\" title=\"bbox 553 763 562 772\">\\n     <span class=\"ocr_line\" id=\"line_1_170\" title=\"bbox 553 763 562 772; baseline 0 425; x_size 20; x_descenders 5; x_ascenders 5\">\\n      <span class=\"ocrx_word\" dir=\"ltr\" id=\"word_1_984\" lang=\"eng\" title=\"bbox 553 763 562 772; x_wconf 95\">\\n      </span>\\n     </span>\\n    </p>\\n   </div>\\n   <div class=\"ocr_carea\" id=\"block_1_47\" title=\"bbox 662 805 680 815\">\\n    <p class=\"ocr_par\" dir=\"ltr\" id=\"par_1_71\" title=\"bbox 662 805 680 815\">\\n     <span class=\"ocr_line\" id=\"line_1_171\" title=\"bbox 662 805 680 815; baseline 0 382; x_size 20; x_descenders 5; x_ascenders 5\">\\n      <span class=\"ocrx_word\" dir=\"ltr\" id=\"word_1_985\" lang=\"eng\" title=\"bbox 662 805 680 815; x_wconf 95\">\\n      </span>\\n     </span>\\n    </p>\\n   </div>\\n   <div class=\"ocr_carea\" id=\"block_1_48\" title=\"bbox 388 820 553 832\">\\n    <p class=\"ocr_par\" dir=\"ltr\" id=\"par_1_72\" title=\"bbox 388 820 553 832\">\\n     <span class=\"ocr_line\" id=\"line_1_172\" title=\"bbox 388 820 553 832; baseline 0 -6; x_size 20; x_descenders 5; x_ascenders 5\">\\n      <span class=\"ocrx_word\" dir=\"ltr\" id=\"word_1_986\" lang=\"eng\" title=\"bbox 388 820 535 832; x_wconf 95\">\\n      </span>\\n      <span class=\"ocrx_word\" dir=\"ltr\" id=\"word_1_987\" lang=\"eng\" title=\"bbox 551 824 553 826; x_wconf 95\">\\n      </span>\\n     </span>\\n    </p>\\n   </div>\\n   <div class=\"ocr_carea\" id=\"block_1_49\" title=\"bbox 552 877 565 887\">\\n    <p class=\"ocr_par\" dir=\"ltr\" id=\"par_1_73\" title=\"bbox 552 877 565 887\">\\n     <span class=\"ocr_line\" id=\"line_1_173\" title=\"bbox 552 877 565 887; baseline 0 310; x_size 20; x_descenders 5; x_ascenders 5\">\\n      <span class=\"ocrx_word\" dir=\"ltr\" id=\"word_1_988\" lang=\"eng\" title=\"bbox 552 877 565 887; x_wconf 95\">\\n      </span>\\n     </span>\\n    </p>\\n   </div>\\n   <div class=\"ocr_carea\" id=\"block_1_50\" title=\"bbox 481 909 514 931\">\\n    <p class=\"ocr_par\" dir=\"ltr\" id=\"par_1_74\" title=\"bbox 481 909 514 931\">\\n     <span class=\"ocr_line\" id=\"line_1_174\" title=\"bbox 492 909 514 919; baseline 0 278; x_size 20; x_descenders 5; x_ascenders 5\">\\n      <span class=\"ocrx_word\" dir=\"ltr\" id=\"word_1_989\" lang=\"eng\" title=\"bbox 492 909 514 919; x_wconf 95\">\\n      </span>\\n     </span>\\n     <span class=\"ocr_line\" id=\"line_1_175\" title=\"bbox 481 921 505 931; baseline 0 266; x_size 20; x_descenders 5; x_ascenders 5\">\\n      <span class=\"ocrx_word\" dir=\"ltr\" id=\"word_1_990\" lang=\"eng\" title=\"bbox 481 921 505 931; x_wconf 95\">\\n      </span>\\n     </span>\\n    </p>\\n   </div>\\n   <div class=\"ocr_carea\" id=\"block_1_51\" title=\"bbox 423 1011 425 1018\">\\n    <p class=\"ocr_par\" dir=\"ltr\" id=\"par_1_75\" title=\"bbox 423 1011 425 1018\">\\n     <span class=\"ocr_line\" id=\"line_1_176\" title=\"bbox 423 1011 425 1018; baseline 0 179; x_size 20; x_descenders 5; x_ascenders 5\">\\n      <span class=\"ocrx_word\" dir=\"ltr\" id=\"word_1_991\" lang=\"eng\" title=\"bbox 423 1011 425 1018; x_wconf 95\">\\n      </span>\\n     </span>\\n    </p>\\n   </div>\\n   <div class=\"ocr_carea\" id=\"block_1_52\" title=\"bbox 409 1069 429 1076\">\\n    <p class=\"ocr_par\" dir=\"ltr\" id=\"par_1_76\" title=\"bbox 409 1069 429 1076\">\\n     <span class=\"ocr_line\" id=\"line_1_177\" title=\"bbox 409 1069 429 1076; baseline 0 121; x_size 20; x_descenders 5; x_ascenders 5\">\\n      <span class=\"ocrx_word\" dir=\"ltr\" id=\"word_1_992\" lang=\"eng\" title=\"bbox 409 1069 429 1076; x_wconf 95\">\\n      </span>\\n     </span>\\n    </p>\\n   </div>\\n   <div class=\"ocr_carea\" id=\"block_1_53\" title=\"bbox 525 1113 528 1119\">\\n    <p class=\"ocr_par\" dir=\"ltr\" id=\"par_1_77\" title=\"bbox 525 1113 528 1119\">\\n     <span class=\"ocr_line\" id=\"line_1_178\" title=\"bbox 525 1113 528 1119; baseline 0 0; x_size 3; x_descenders -1.5; x_ascenders 1.5\">\\n      <span class=\"ocrx_word\" dir=\"ltr\" id=\"word_1_993\" lang=\"eng\" title=\"bbox 525 1113 528 1119; x_wconf 95\">\\n      </span>\\n     </span>\\n    </p>\\n   </div>\\n   <div class=\"ocr_carea\" id=\"block_1_54\" title=\"bbox 745 0 750 1197\">\\n    <p class=\"ocr_par\" dir=\"ltr\" id=\"par_1_78\" title=\"bbox 745 0 750 1197\">\\n     <span class=\"ocr_line\" id=\"line_1_179\" title=\"bbox 745 0 750 1197; baseline 0 0; x_size 598.5; x_descenders -299.25; x_ascenders 299.25\">\\n      <span class=\"ocrx_word\" dir=\"ltr\" id=\"word_1_994\" lang=\"eng\" title=\"bbox 745 0 750 1197; x_wconf 95\">\\n      </span>\\n     </span>\\n    </p>\\n   </div>\\n  </div>\\n </body>\\n</html>\\n'"
      ]
     },
     "execution_count": 21,
     "metadata": {},
     "output_type": "execute_result"
    }
   ],
   "source": [
    "from bs4 import BeautifulSoup\n",
    "soup = BeautifulSoup(hocr_file, 'html.parser')\n",
    "\n",
    "soup.prettify()\n"
   ]
  },
  {
   "cell_type": "code",
   "execution_count": 22,
   "metadata": {},
   "outputs": [],
   "source": [
    "from collections import Counter\n",
    "\n",
    "approx_left_border=[]\n",
    "approx_right_border=[]\n",
    "boxes = []\n",
    "num_occurences=2\n",
    "for span in soup.find_all('span'):\n",
    "    #print(span.get('class'))\n",
    "    if (span.get('class')[0]=='ocr_line'):\n",
    "        #print(span.get('class'))\n",
    "        #print(span.get('title'))\n",
    "        line=span.get('title').replace(\";\",\" \").split(\" \")\n",
    "        approx_left_border.append(int(line[1])) # left, up, right, bottom\n",
    "        approx_right_border.append(int(line[3])) # left, up, right, bottom\n",
    "        new_element = {'l':int(line[1]),\n",
    "                       'u':int(line[2]),\n",
    "                       'r':int(line[3]),\n",
    "                       'b':int(line[4])}\n",
    "        boxes.append(new_element)\n",
    "#print(Counter(approx_left_border).most_common(5))\n",
    "#print(Counter(approx_right_border).most_common(5))\n",
    "#print(Counter(approx_right_border))\n",
    "\n",
    "cnt_left = Counter(approx_left_border)\n",
    "most_frequent_left_border = [k for (k, v) in cnt_left.items() if v > num_occurences]\n",
    "approx_left_border = [ k for k in approx_left_border if k in most_frequent_left_border]\n",
    "\n",
    "\n",
    "cnt_right = Counter(approx_right_border)\n",
    "most_frequent_right_border = [k for (k, v) in cnt_right.items() if v > num_occurences]\n",
    "approx_right_border = [ k for k in approx_right_border if k in most_frequent_right_border]\n",
    "\n",
    "#original_file.size"
   ]
  },
  {
   "cell_type": "code",
   "execution_count": 13,
   "metadata": {
    "collapsed": true
   },
   "outputs": [
    {
     "data": {
      "text/plain": [
       "[39,\n",
       " 40,\n",
       " 29,\n",
       " 29,\n",
       " 29,\n",
       " 29,\n",
       " 29,\n",
       " 30,\n",
       " 30,\n",
       " 30,\n",
       " 44,\n",
       " 47,\n",
       " 46,\n",
       " 47,\n",
       " 36,\n",
       " 36,\n",
       " 36,\n",
       " 37,\n",
       " 37,\n",
       " 37,\n",
       " 37,\n",
       " 37,\n",
       " 39,\n",
       " 39,\n",
       " 39,\n",
       " 40,\n",
       " 40,\n",
       " 39,\n",
       " 39,\n",
       " 39,\n",
       " 40,\n",
       " 40,\n",
       " 42,\n",
       " 42,\n",
       " 42,\n",
       " 42,\n",
       " 43,\n",
       " 43,\n",
       " 43,\n",
       " 44,\n",
       " 44,\n",
       " 44,\n",
       " 45,\n",
       " 45,\n",
       " 45,\n",
       " 46,\n",
       " 46,\n",
       " 46,\n",
       " 46,\n",
       " 47,\n",
       " 46]"
      ]
     },
     "execution_count": 13,
     "metadata": {},
     "output_type": "execute_result"
    }
   ],
   "source": [
    "approx_left_border"
   ]
  },
  {
   "cell_type": "code",
   "execution_count": 23,
   "metadata": {},
   "outputs": [
    {
     "data": {
      "text/plain": [
       "[386, 387, 389, 388, 51, 53, 54, 55, 52, 65, 66, 401]"
      ]
     },
     "execution_count": 23,
     "metadata": {},
     "output_type": "execute_result"
    }
   ],
   "source": [
    "most_frequent_left_border"
   ]
  },
  {
   "cell_type": "code",
   "execution_count": 24,
   "metadata": {},
   "outputs": [
    {
     "data": {
      "text/plain": [
       "[371, 372, 373, 374, 375, 376, 709, 707, 710, 711, 712, 713]"
      ]
     },
     "execution_count": 24,
     "metadata": {},
     "output_type": "execute_result"
    }
   ],
   "source": [
    "most_frequent_right_border"
   ]
  },
  {
   "cell_type": "code",
   "execution_count": 25,
   "metadata": {},
   "outputs": [],
   "source": [
    "import matplotlib.pyplot as plt\n",
    "import numpy as np\n",
    "import scipy.cluster.hierarchy as hcluster\n",
    "\n",
    "data=np.array(approx_left_border).reshape(-1,1)\n",
    "# clustering\n",
    "thresh = 50\n",
    "clusters = hcluster.fclusterdata(data, thresh, criterion=\"distance\")"
   ]
  },
  {
   "cell_type": "code",
   "execution_count": 26,
   "metadata": {},
   "outputs": [
    {
     "data": {
      "text/plain": [
       "array([1, 1, 1, 1, 1, 1, 1, 1, 1, 1, 1, 1, 1, 1, 1, 1, 1, 1, 1, 1, 1, 1,\n",
       "       1, 1, 1, 1, 1, 1, 1, 1, 1, 1, 1, 1, 1, 1, 1, 1, 1, 1, 1, 1, 1, 1,\n",
       "       1, 1, 1, 1, 1, 1, 1, 1, 1, 1, 1, 1, 1, 1, 1, 1, 2, 2, 2, 2, 2, 2,\n",
       "       2, 2, 2, 2, 2, 2, 2, 2, 2, 2, 2, 2, 2, 2, 2, 2, 2, 2, 2, 2, 2, 2,\n",
       "       2, 2, 2, 2, 2, 2, 2, 2, 2, 2, 2, 2, 2, 2, 2, 2, 2, 2, 2, 2, 2, 2,\n",
       "       2, 2, 2, 2, 2, 2], dtype=int32)"
      ]
     },
     "execution_count": 26,
     "metadata": {},
     "output_type": "execute_result"
    }
   ],
   "source": [
    "clusters"
   ]
  },
  {
   "cell_type": "code",
   "execution_count": 10,
   "metadata": {
    "scrolled": true
   },
   "outputs": [
    {
     "data": {
      "image/png": "[encoded data removed]",
      "text/plain": [
       "<Figure size 432x288 with 1 Axes>"
      ]
     },
     "metadata": {},
     "output_type": "display_data"
    }
   ],
   "source": [
    "# plotting\n",
    "plt.scatter(*numpy.transpose(data), y=clusters)\n",
    "plt.axis(\"equal\")\n",
    "title = \"threshold: %f, number of clusters: %d\" % (thresh, len(set(clusters)))\n",
    "plt.title(title)\n",
    "plt.show()"
   ]
  },
  {
   "cell_type": "code",
   "execution_count": 252,
   "metadata": {},
   "outputs": [
    {
     "name": "stdout",
     "output_type": "stream",
     "text": [
      "[2 2 2 2 2 2 0 0 0 1 0 0 0 1 0 0 0 0 0 0 0 0 0 0 0 0 1 0]\n",
      "Left border of the left page: [52.26315789]\n",
      "Left border of the right page: [74.]\n"
     ]
    }
   ],
   "source": [
    "from sklearn.cluster import KMeans\n",
    "import numpy as np\n",
    "\n",
    "X=np.array(approx_left_border).reshape(-1,1)\n",
    "kmeans_left = KMeans(n_clusters=3, random_state=0).fit(X)\n",
    "print(kmeans_left.labels_)\n",
    "#print(kmeans_left.cluster_centers_) #The centers represent the weighted average. of the borders. Proved.\n",
    "\n",
    "# kmeans_left.labels_==1 means that it is the left border of the left page.\n",
    "# kmeans_left.labels_==0 means that it is the left border of the right page.\n",
    "\n",
    "print(\"Left border of the left page: %s\" %(kmeans_left.cluster_centers_[0]))\n",
    "print(\"Left border of the right page: %s\" %(kmeans_left.cluster_centers_[1]))"
   ]
  },
  {
   "cell_type": "code",
   "execution_count": 253,
   "metadata": {},
   "outputs": [],
   "source": [
    "new_l=sorted(kmeans_left.cluster_centers_)"
   ]
  },
  {
   "cell_type": "code",
   "execution_count": 254,
   "metadata": {},
   "outputs": [
    {
     "name": "stdout",
     "output_type": "stream",
     "text": [
      "Right border of the left page: 695.0\n",
      "Right border of the right page: 692.0\n"
     ]
    }
   ],
   "source": [
    "from sklearn.cluster import KMeans\n",
    "import numpy as np\n",
    "\n",
    "X=np.array(approx_right_border).reshape(-1,1)\n",
    "kmeans_right = KMeans(n_clusters=3, random_state=0).fit(X)\n",
    "#print(kmeans_right.labels_)\n",
    "#print(kmeans_right.cluster_centers_)\n",
    "\n",
    "# kmeans_right.labels_==1 means that it is the right border of the right page.\n",
    "# kmeans_right.labels_==0 means that it is the right border of the left page.\n",
    "print(\"Right border of the left page: %s\" %(kmeans_right.cluster_centers_[0][0]))\n",
    "print(\"Right border of the right page: %s\" %(kmeans_right.cluster_centers_[1][0]))"
   ]
  },
  {
   "cell_type": "code",
   "execution_count": 269,
   "metadata": {},
   "outputs": [
    {
     "data": {
      "text/plain": [
       "array([692])"
      ]
     },
     "execution_count": 269,
     "metadata": {},
     "output_type": "execute_result"
    }
   ],
   "source": [
    "X[0]"
   ]
  },
  {
   "cell_type": "code",
   "execution_count": 262,
   "metadata": {},
   "outputs": [
    {
     "data": {
      "text/plain": [
       "array([1, 1, 1, 1, 1, 2, 2, 2, 0, 2, 0, 0, 0, 0, 0, 0, 2, 2, 0, 0, 2, 0,\n",
       "       2, 2], dtype=int32)"
      ]
     },
     "execution_count": 262,
     "metadata": {},
     "output_type": "execute_result"
    }
   ],
   "source": [
    "kmeans_right.labels_"
   ]
  },
  {
   "cell_type": "code",
   "execution_count": 268,
   "metadata": {},
   "outputs": [
    {
     "data": {
      "text/plain": [
       "array([[695.],\n",
       "       [692.],\n",
       "       [694.]])"
      ]
     },
     "execution_count": 268,
     "metadata": {},
     "output_type": "execute_result"
    }
   ],
   "source": [
    "kmeans_right.cluster_centers_"
   ]
  },
  {
   "cell_type": "code",
   "execution_count": 255,
   "metadata": {},
   "outputs": [],
   "source": [
    "new_r=sorted(kmeans_right.cluster_centers_)"
   ]
  },
  {
   "cell_type": "code",
   "execution_count": 259,
   "metadata": {},
   "outputs": [
    {
     "data": {
      "text/plain": [
       "list"
      ]
     },
     "execution_count": 259,
     "metadata": {},
     "output_type": "execute_result"
    }
   ],
   "source": [
    "type(new_r)"
   ]
  },
  {
   "cell_type": "code",
   "execution_count": 257,
   "metadata": {},
   "outputs": [
    {
     "data": {
      "text/plain": [
       "[array([49.]), array([52.26315789]), array([74.])]"
      ]
     },
     "execution_count": 257,
     "metadata": {},
     "output_type": "execute_result"
    }
   ],
   "source": [
    "new_l"
   ]
  },
  {
   "cell_type": "code",
   "execution_count": 260,
   "metadata": {},
   "outputs": [],
   "source": [
    "columns = np.concatenate((new_l, new_r), axis=1)"
   ]
  },
  {
   "cell_type": "code",
   "execution_count": 306,
   "metadata": {},
   "outputs": [
    {
     "data": {
      "text/plain": [
       "array([[ 49.        , 692.        ],\n",
       "       [ 52.26315789, 694.        ],\n",
       "       [ 74.        , 695.        ]])"
      ]
     },
     "execution_count": 306,
     "metadata": {},
     "output_type": "execute_result"
    }
   ],
   "source": [
    "columns"
   ]
  },
  {
   "cell_type": "code",
   "execution_count": 325,
   "metadata": {},
   "outputs": [
    {
     "data": {
      "text/plain": [
       "array([ 49.        , 692.        ,  52.26315789, 694.        ,\n",
       "        74.        , 695.        ])"
      ]
     },
     "execution_count": 325,
     "metadata": {},
     "output_type": "execute_result"
    }
   ],
   "source": []
  },
  {
   "cell_type": "code",
   "execution_count": 324,
   "metadata": {},
   "outputs": [
    {
     "name": "stdout",
     "output_type": "stream",
     "text": [
      "[ True  True  True  True  True]\n"
     ]
    },
    {
     "data": {
      "text/plain": [
       "True"
      ]
     },
     "execution_count": 324,
     "metadata": {},
     "output_type": "execute_result"
    }
   ],
   "source": [
    "pr = (np.diff([ 49, 52, 74, 692, 694, 695])>=0)\n",
    "print(pr)\n"
   ]
  },
  {
   "cell_type": "code",
   "execution_count": 261,
   "metadata": {},
   "outputs": [
    {
     "name": "stdout",
     "output_type": "stream",
     "text": [
      "[ 49. 692.]\n",
      "[ 52.26315789 694.        ]\n",
      "[ 74. 695.]\n"
     ]
    }
   ],
   "source": [
    "for col in columns:\n",
    "    print(col)"
   ]
  },
  {
   "cell_type": "code",
   "execution_count": 110,
   "metadata": {},
   "outputs": [
    {
     "name": "stdout",
     "output_type": "stream",
     "text": [
      "Left page: right border: 373.2093023255815 \n",
      " \t   left border: 54.44999999999999\n",
      "\n",
      "Right page: right border: 710.7272727272729 \n",
      " \t    left border: 388.07142857142856\n"
     ]
    }
   ],
   "source": [
    "print(\"Left page: right border: %s \\n \\t   left border: %s\" %(kmeans_right.cluster_centers_[0][0], kmeans_left.cluster_centers_[0][0]))\n",
    "print(\"\\nRight page: right border: %s \\n \\t    left border: %s\" %(kmeans_right.cluster_centers_[1][0], kmeans_left.cluster_centers_[1][0]))\n"
   ]
  },
  {
   "cell_type": "code",
   "execution_count": 111,
   "metadata": {},
   "outputs": [
    {
     "name": "stdout",
     "output_type": "stream",
     "text": [
      "LEFT PAGE\n",
      "Ranges for the left border of the left page\n",
      "Minimum: 51\n",
      "Maximum: 66\n",
      "Average: 54.44999999999999\n",
      "\n",
      "Ranges for the right border of the left page\n",
      "Minimum: 371\n",
      "Maximum: 376\n",
      "Average: 373.2093023255815\n",
      "{'l': (51, 54.44999999999999, 66), 'r': (371, 373.2093023255815, 376)}\n"
     ]
    }
   ],
   "source": [
    "from operator import itemgetter \n",
    "\n",
    "print(\"LEFT PAGE\")\n",
    "left_page={}\n",
    "b = [ind for ind in np.where(kmeans_left.labels_==0)[0]]\n",
    "a = approx_left_border\n",
    "print(\"Ranges for the left border of the left page\")\n",
    "print(\"Minimum: \"+str(min(itemgetter(*b)(a))))\n",
    "print(\"Maximum: \"+str(max(itemgetter(*b)(a))))\n",
    "print(\"Average: \"+str(kmeans_left.cluster_centers_[0][0]))\n",
    "\n",
    "left_page['l']=(min(itemgetter(*b)(a)),kmeans_left.cluster_centers_[0][0], max(itemgetter(*b)(a)))\n",
    "                \n",
    "b = [ind for ind in np.where(kmeans_right.labels_==0)[0]]\n",
    "a = approx_right_border\n",
    "print(\"\\nRanges for the right border of the left page\")\n",
    "print(\"Minimum: \"+str(min(itemgetter(*b)(a))))\n",
    "print(\"Maximum: \"+str(max(itemgetter(*b)(a))))\n",
    "print(\"Average: \"+str(kmeans_right.cluster_centers_[0][0]))\n",
    "left_page['r']=(min(itemgetter(*b)(a)),kmeans_right.cluster_centers_[0][0], max(itemgetter(*b)(a)))\n",
    "\n",
    "print(left_page)"
   ]
  },
  {
   "cell_type": "code",
   "execution_count": 112,
   "metadata": {},
   "outputs": [
    {
     "name": "stdout",
     "output_type": "stream",
     "text": [
      "RIGHT PAGE\n",
      "Ranges for the left border of the right page\n",
      "Minimum: 386\n",
      "Maximum: 401\n",
      "Average: 388.07142857142856\n",
      "\n",
      "Ranges for the right border of the right page\n",
      "Minimum: 707\n",
      "Maximum: 713\n",
      "Average: 710.7272727272729\n",
      "{'l': (386, 388.07142857142856, 401), 'r': (707, 710.7272727272729, 713)}\n"
     ]
    }
   ],
   "source": [
    "from operator import itemgetter \n",
    "\n",
    "print(\"RIGHT PAGE\")\n",
    "\n",
    "right_page={}\n",
    "\n",
    "b = [ind for ind in np.where(kmeans_left.labels_==1)[0]]\n",
    "a = approx_left_border\n",
    "print(\"Ranges for the left border of the right page\")\n",
    "print(\"Minimum: \"+str(min(itemgetter(*b)(a))))\n",
    "print(\"Maximum: \"+str(max(itemgetter(*b)(a))))\n",
    "print(\"Average: \"+str(kmeans_left.cluster_centers_[1][0]))\n",
    "\n",
    "right_page['l']=(min(itemgetter(*b)(a)),kmeans_left.cluster_centers_[1][0], max(itemgetter(*b)(a)))\n",
    "\n",
    "b = [ind for ind in np.where(kmeans_right.labels_==1)[0]]\n",
    "a = approx_right_border\n",
    "print(\"\\nRanges for the right border of the right page\")\n",
    "print(\"Minimum: \"+str(min(itemgetter(*b)(a))))\n",
    "print(\"Maximum: \"+str(max(itemgetter(*b)(a))))\n",
    "print(\"Average: \"+str(kmeans_right.cluster_centers_[1][0]))\n",
    "right_page['r']=(min(itemgetter(*b)(a)),kmeans_right.cluster_centers_[1][0], max(itemgetter(*b)(a)))\n",
    "\n",
    "print(right_page)"
   ]
  },
  {
   "cell_type": "code",
   "execution_count": 113,
   "metadata": {},
   "outputs": [
    {
     "name": "stdout",
     "output_type": "stream",
     "text": [
      "{'l': (51, 54.44999999999999, 66), 'r': (371, 373.2093023255815, 376)}\n"
     ]
    }
   ],
   "source": [
    "print(left_page)"
   ]
  },
  {
   "cell_type": "code",
   "execution_count": 114,
   "metadata": {},
   "outputs": [
    {
     "name": "stdout",
     "output_type": "stream",
     "text": [
      "{'l': (386, 388.07142857142856, 401), 'r': (707, 710.7272727272729, 713)}\n"
     ]
    }
   ],
   "source": [
    "print(right_page)"
   ]
  },
  {
   "cell_type": "code",
   "execution_count": 116,
   "metadata": {
    "collapsed": true
   },
   "outputs": [
    {
     "name": "stdout",
     "output_type": "stream",
     "text": [
      "Box: {'l': 51, 'b': 167, 'r': 371, 'u': 150} is Left Page\n",
      "Box: {'l': 65, 'b': 195, 'r': 372, 'u': 179} is Left Page\n",
      "Box: {'l': 51, 'b': 210, 'r': 372, 'u': 193} is Left Page\n",
      "Box: {'l': 52, 'b': 224, 'r': 372, 'u': 208} is Left Page\n",
      "Box: {'l': 65, 'b': 254, 'r': 371, 'u': 237} is Left Page\n",
      "Box: {'l': 51, 'b': 311, 'r': 372, 'u': 294} is Left Page\n",
      "Box: {'l': 51, 'b': 325, 'r': 373, 'u': 309} is Left Page\n",
      "Box: {'l': 51, 'b': 338, 'r': 371, 'u': 324} is Left Page\n",
      "Box: {'l': 51, 'b': 355, 'r': 372, 'u': 337} is Left Page\n",
      "Box: {'l': 51, 'b': 367, 'r': 372, 'u': 352} is Left Page\n",
      "Box: {'l': 65, 'b': 397, 'r': 371, 'u': 381} is Left Page\n",
      "Box: {'l': 51, 'b': 440, 'r': 372, 'u': 424} is Left Page\n",
      "Box: {'l': 51, 'b': 453, 'r': 373, 'u': 439} is Left Page\n",
      "Box: {'l': 66, 'b': 509, 'r': 373, 'u': 496} is Left Page\n",
      "Box: {'l': 51, 'b': 523, 'r': 373, 'u': 510} is Left Page\n",
      "Box: {'l': 66, 'b': 553, 'r': 372, 'u': 539} is Left Page\n",
      "Box: {'l': 65, 'b': 581, 'r': 373, 'u': 567} is Left Page\n",
      "Box: {'l': 51, 'b': 595, 'r': 374, 'u': 582} is Left Page\n",
      "Box: {'l': 52, 'b': 610, 'r': 373, 'u': 597} is Left Page\n",
      "Box: {'l': 52, 'b': 625, 'r': 372, 'u': 611} is Left Page\n",
      "Box: {'l': 52, 'b': 640, 'r': 372, 'u': 625} is Left Page\n",
      "Box: {'l': 66, 'b': 667, 'r': 374, 'u': 654} is Left Page\n",
      "Box: {'l': 52, 'b': 685, 'r': 373, 'u': 669} is Left Page\n",
      "Box: {'l': 52, 'b': 699, 'r': 373, 'u': 684} is Left Page\n",
      "Box: {'l': 52, 'b': 742, 'r': 373, 'u': 727} is Left Page\n",
      "Box: {'l': 66, 'b': 768, 'r': 374, 'u': 756} is Left Page\n",
      "Box: {'l': 52, 'b': 782, 'r': 374, 'u': 770} is Left Page\n",
      "Box: {'l': 53, 'b': 860, 'r': 373, 'u': 843} is Left Page\n",
      "Box: {'l': 55, 'b': 932, 'r': 374, 'u': 917} is Left Page\n",
      "Box: {'l': 54, 'b': 947, 'r': 374, 'u': 931} is Left Page\n",
      "Box: {'l': 54, 'b': 963, 'r': 374, 'u': 947} is Left Page\n",
      "Box: {'l': 54, 'b': 977, 'r': 375, 'u': 962} is Left Page\n",
      "Box: {'l': 54, 'b': 993, 'r': 374, 'u': 976} is Left Page\n",
      "Box: {'l': 54, 'b': 1078, 'r': 374, 'u': 1065} is Left Page\n",
      "Box: {'l': 55, 'b': 1093, 'r': 375, 'u': 1080} is Left Page\n",
      "Box: {'l': 54, 'b': 1107, 'r': 376, 'u': 1094} is Left Page\n",
      "Box: {'l': 55, 'b': 1122, 'r': 376, 'u': 1108} is Left Page\n",
      "Box: {'l': 386, 'b': 197, 'r': 709, 'u': 179} is Right Page\n",
      "Box: {'l': 400, 'b': 224, 'r': 709, 'u': 208} is Right Page\n",
      "Box: {'l': 401, 'b': 304, 'r': 710, 'u': 287} is Right Page\n",
      "Box: {'l': 386, 'b': 317, 'r': 710, 'u': 302} is Right Page\n",
      "Box: {'l': 386, 'b': 334, 'r': 709, 'u': 317} is Right Page\n",
      "Box: {'l': 386, 'b': 349, 'r': 710, 'u': 332} is Right Page\n",
      "Box: {'l': 386, 'b': 361, 'r': 710, 'u': 346} is Right Page\n",
      "Box: {'l': 401, 'b': 395, 'r': 710, 'u': 380} is Right Page\n",
      "Box: {'l': 386, 'b': 411, 'r': 709, 'u': 395} is Right Page\n",
      "Box: {'l': 386, 'b': 424, 'r': 710, 'u': 409} is Right Page\n",
      "Box: {'l': 386, 'b': 437, 'r': 712, 'u': 423} is Right Page\n",
      "Box: {'l': 388, 'b': 481, 'r': 710, 'u': 467} is Right Page\n",
      "Box: {'l': 386, 'b': 544, 'r': 711, 'u': 530} is Right Page\n",
      "Box: {'l': 387, 'b': 558, 'r': 710, 'u': 543} is Right Page\n",
      "Box: {'l': 387, 'b': 573, 'r': 710, 'u': 559} is Right Page\n",
      "Box: {'l': 387, 'b': 587, 'r': 710, 'u': 573} is Right Page\n",
      "Box: {'l': 387, 'b': 602, 'r': 711, 'u': 587} is Right Page\n",
      "Box: {'l': 387, 'b': 616, 'r': 711, 'u': 602} is Right Page\n",
      "Box: {'l': 387, 'b': 629, 'r': 711, 'u': 616} is Right Page\n",
      "Box: {'l': 387, 'b': 646, 'r': 711, 'u': 631} is Right Page\n",
      "Box: {'l': 387, 'b': 660, 'r': 711, 'u': 645} is Right Page\n",
      "Box: {'l': 387, 'b': 674, 'r': 711, 'u': 659} is Right Page\n",
      "Box: {'l': 401, 'b': 703, 'r': 711, 'u': 689} is Right Page\n",
      "Box: {'l': 387, 'b': 717, 'r': 711, 'u': 703} is Right Page\n",
      "Box: {'l': 387, 'b': 732, 'r': 710, 'u': 718} is Right Page\n",
      "Box: {'l': 388, 'b': 758, 'r': 712, 'u': 747} is Right Page\n",
      "Box: {'l': 387, 'b': 775, 'r': 711, 'u': 761} is Right Page\n",
      "Box: {'l': 387, 'b': 790, 'r': 711, 'u': 776} is Right Page\n",
      "Box: {'l': 388, 'b': 807, 'r': 710, 'u': 791} is Right Page\n",
      "Box: {'l': 388, 'b': 819, 'r': 712, 'u': 805} is Right Page\n",
      "Box: {'l': 388, 'b': 847, 'r': 712, 'u': 834} is Right Page\n",
      "Box: {'l': 388, 'b': 861, 'r': 707, 'u': 848} is Right Page\n",
      "Box: {'l': 388, 'b': 876, 'r': 710, 'u': 862} is Right Page\n",
      "Box: {'l': 388, 'b': 891, 'r': 712, 'u': 877} is Right Page\n",
      "Box: {'l': 389, 'b': 905, 'r': 712, 'u': 891} is Right Page\n",
      "Box: {'l': 388, 'b': 919, 'r': 711, 'u': 906} is Right Page\n",
      "Box: {'l': 388, 'b': 963, 'r': 712, 'u': 949} is Right Page\n",
      "Box: {'l': 388, 'b': 975, 'r': 712, 'u': 964} is Right Page\n",
      "Box: {'l': 388, 'b': 992, 'r': 712, 'u': 979} is Right Page\n",
      "Box: {'l': 388, 'b': 1035, 'r': 712, 'u': 1021} is Right Page\n",
      "Box: {'l': 388, 'b': 1050, 'r': 713, 'u': 1036} is Right Page\n",
      "Box: {'l': 388, 'b': 1065, 'r': 712, 'u': 1051} is Right Page\n",
      "Box: {'l': 388, 'b': 1079, 'r': 713, 'u': 1065} is Right Page\n",
      "Box: {'l': 389, 'b': 1094, 'r': 713, 'u': 1080} is Right Page\n",
      "Box: {'l': 389, 'b': 1108, 'r': 712, 'u': 1094} is Right Page\n",
      "Box: {'l': 389, 'b': 1123, 'r': 712, 'u': 1109} is Right Page\n",
      "Box: {'l': 390, 'b': 1138, 'r': 713, 'u': 1123} is Right Page\n"
     ]
    }
   ],
   "source": [
    "#GOAL: Now I wanna take all the points that should help me finding the middle point. Once I have these \n",
    "#      points, I will cluster them into two cluster and take the middle point of the centers.\n",
    "\n",
    "# HOW: For each line, if it is a line of the \"right page\" then I add its left border, while, if it is\n",
    "#      a line of the left page, I add its right border.\n",
    "\n",
    "#Boxes are all the lines saved previously as map of \"left, up, right, bottom\"\n",
    "middle_left = []\n",
    "middle_right = []\n",
    "\n",
    "count=0\n",
    "for box in boxes:\n",
    "    if ( right_page['l'][0] <= box['l'] <= right_page['l'][2] ):\n",
    "        if ( right_page['r'][0] <= box['r'] <= right_page['r'][2] ):\n",
    "            #print(\"Box: \"+str(box)+\" is Right Page\")\n",
    "            middle.append(box['l'])\n",
    "            count += 1\n",
    "    if ( left_page['l'][0] <= box['l'] <= left_page['l'][2] ):\n",
    "        if ( left_page['r'][0] <= box['r'] <= left_page['r'][2] ):\n",
    "            #print(\"Box: \"+str(box)+\" is Left Page\")\n",
    "            count += 1\n",
    "            middle.append(box['r'])\n",
    "\n",
    "# Some lines might belong to text that should not count on the determination of the middle point. Therefore\n",
    "# I will filter the boxes that have the left and right point outside the minimum and maximum point of left and right. \n",
    "\n",
    "# In pratica: Ci sono delle linee che rappresentano il numero di pagina o cose così. Se per esempio il\n",
    "# numero di pagina si trova in alto a destra, il left border di questa \"box\" non cadrà nel range \n",
    "# di valori del bordo sinistro della \"right page\". Quindi faccio un filtering dove tolgo queste linee.\n"
   ]
  },
  {
   "cell_type": "code",
   "execution_count": 117,
   "metadata": {},
   "outputs": [
    {
     "name": "stdout",
     "output_type": "stream",
     "text": [
      "Middle point:  382.1311475409836\n",
      "The cut needs to be done in: 367.8688524590164\n"
     ]
    }
   ],
   "source": [
    "middle_point = np.mean(middle)\n",
    "print(\"Middle point: \",middle_point)\n",
    "\n",
    "print(\"The cut needs to be done in: %s\" %(original_file.size[0]-middle_point))\n"
   ]
  },
  {
   "cell_type": "code",
   "execution_count": 188,
   "metadata": {},
   "outputs": [],
   "source": [
    "from PIL import ImageOps\n",
    "\n",
    "# Cut the left page.\n",
    "left_border = (0, 0, (original_file.size[0]-middle_point), -1) # left, up, right, bottom\n",
    "#ImageOps.crop(original_file, border).show()\n",
    "left_imm = ImageOps.crop(original_file, left_border)\n",
    "left_imm.save(input_page+\"_left.png\")"
   ]
  },
  {
   "cell_type": "code",
   "execution_count": 189,
   "metadata": {},
   "outputs": [],
   "source": [
    "from PIL import ImageOps\n",
    "\n",
    "# Cut the right page.\n",
    "right_border = (middle_point, 0, -1, -1) # left, up, right, bottom\n",
    "#ImageOps.crop(original_file, border).show()\n",
    "right_imm = ImageOps.crop(original_file, right_border)\n",
    "right_imm.save(input_page+\"_right.png\")"
   ]
  },
  {
   "cell_type": "code",
   "execution_count": 190,
   "metadata": {},
   "outputs": [
    {
     "data": {
      "text/plain": [
       "(382, 1198)"
      ]
     },
     "execution_count": 190,
     "metadata": {},
     "output_type": "execute_result"
    }
   ],
   "source": [
    "left_imm.size"
   ]
  },
  {
   "cell_type": "code",
   "execution_count": 191,
   "metadata": {},
   "outputs": [
    {
     "data": {
      "text/plain": [
       "(369, 1198)"
      ]
     },
     "execution_count": 191,
     "metadata": {},
     "output_type": "execute_result"
    }
   ],
   "source": [
    "right_imm.size"
   ]
  },
  {
   "cell_type": "markdown",
   "metadata": {},
   "source": [
    "Vedi sto link se vuoi aggiungere blank blocks: https://auth0.com/blog/image-processing-in-python-with-pillow/#Drawing-on-Images "
   ]
  },
  {
   "cell_type": "code",
   "execution_count": 186,
   "metadata": {},
   "outputs": [
    {
     "name": "stdout",
     "output_type": "stream",
     "text": [
      "382\n",
      "2396\n"
     ]
    }
   ],
   "source": [
    "images = [left_imm , right_imm]\n",
    "widths, heights = zip(*(i.size for i in images))\n",
    "total_width = max(widths) \n",
    "max_height = sum(heights)\n",
    "print(total_width)\n",
    "print(max_height)"
   ]
  },
  {
   "cell_type": "code",
   "execution_count": 201,
   "metadata": {},
   "outputs": [],
   "source": [
    "new_im = Image.new('RGB', (total_width, max_height))\n",
    "y_offset = 0\n",
    "for im in images:\n",
    "    new_im.paste(im, (0,y_offset))\n",
    "    y_offset += im.size[1]\n",
    "new_im.show()\n",
    "new_im.save('prova.png')"
   ]
  },
  {
   "cell_type": "markdown",
   "metadata": {},
   "source": [
    "## 3 - Detect text with Google Vision API"
   ]
  },
  {
   "cell_type": "code",
   "execution_count": 1,
   "metadata": {},
   "outputs": [],
   "source": [
    "import io\n",
    "import os\n",
    "os.environ[\"GOOGLE_APPLICATION_CREDENTIALS\"]=\"/home/fla/Desktop/Research_Assistantship/Congress_Documents_Scraping/data/credentials.json\"# Instantiates a client\n",
    "\n",
    "\n",
    "# Imports the Google Cloud client library\n",
    "from google.cloud import vision\n",
    "from google.cloud.vision import types"
   ]
  },
  {
   "cell_type": "code",
   "execution_count": 5,
   "metadata": {},
   "outputs": [
    {
     "name": "stdout",
     "output_type": "stream",
     "text": [
      "Labels:\n",
      "Text\n",
      "Font\n",
      "Document\n",
      "Paper\n"
     ]
    }
   ],
   "source": [
    "import os\n",
    "\n",
    "client = vision.ImageAnnotatorClient()\n",
    "\n",
    "# The name of the image file to annotate\n",
    "file_name = os.path.join(\n",
    "    os.path.dirname(\".\"),\n",
    "    'one_column_page_12.png')\n",
    "\n",
    "# Loads the image into memory\n",
    "with io.open(file_name, 'rb') as image_file:\n",
    "    content = image_file.read()\n",
    "\n",
    "image = types.Image(content=content)\n",
    "\n",
    "# Performs label detection on the image file\n",
    "response = client.label_detection(image=image)\n",
    "labels = response.label_annotations\n",
    "\n",
    "print('Labels:')\n",
    "for label in labels:\n",
    "    print(label.description)"
   ]
  },
  {
   "cell_type": "code",
   "execution_count": 298,
   "metadata": {},
   "outputs": [],
   "source": [
    "def detect_document(path):\n",
    "    \"\"\"Detects document features in an image.\"\"\"\n",
    "    from google.cloud import vision\n",
    "    client = vision.ImageAnnotatorClient()\n",
    "\n",
    "    with io.open(path, 'rb') as image_file:\n",
    "        content = image_file.read()\n",
    "\n",
    "    image = vision.types.Image(content=content)\n",
    "\n",
    "    response = client.document_text_detection(image=image)\n",
    "\n",
    "    for page in response.full_text_annotation.pages:\n",
    "        for block in page.blocks:\n",
    "            print('\\nBlock confidence: {}\\n'.format(block.confidence))\n",
    "\n",
    "            for paragraph in block.paragraphs:\n",
    "                print('Paragraph confidence: {}'.format(\n",
    "                    paragraph.confidence))\n",
    "\n",
    "                for word in paragraph.words:\n",
    "                    word_text = ''.join([\n",
    "                        symbol.text for symbol in word.symbols\n",
    "                    ])\n",
    "                    print('Word text: {} (confidence: {})'.format(\n",
    "                        word_text, word.confidence))\n",
    "\n",
    "                    for symbol in word.symbols:\n",
    "                        print('\\tSymbol: {} (confidence: {})'.format(\n",
    "                            symbol.text, symbol.confidence))"
   ]
  },
  {
   "cell_type": "code",
   "execution_count": 299,
   "metadata": {},
   "outputs": [
    {
     "ename": "NameError",
     "evalue": "name 'response' is not defined",
     "output_type": "error",
     "traceback": [
      "\u001b[0;31m---------------------------------------------------------------------------\u001b[0m",
      "\u001b[0;31mNameError\u001b[0m                                 Traceback (most recent call last)",
      "\u001b[0;32m<ipython-input-299-b71c46fa24f9>\u001b[0m in \u001b[0;36m<module>\u001b[0;34m()\u001b[0m\n\u001b[0;32m----> 1\u001b[0;31m \u001b[0mresponse\u001b[0m\u001b[0;34m.\u001b[0m\u001b[0mfull_text_annotation\u001b[0m\u001b[0;34m.\u001b[0m\u001b[0mpages\u001b[0m\u001b[0;34m\u001b[0m\u001b[0m\n\u001b[0m",
      "\u001b[0;31mNameError\u001b[0m: name 'response' is not defined"
     ]
    }
   ],
   "source": [
    "response.full_text_annotation.pages"
   ]
  },
  {
   "cell_type": "code",
   "execution_count": null,
   "metadata": {},
   "outputs": [],
   "source": [
    "detect_document(\"./page_142.png\")"
   ]
  }
 ],
 "metadata": {
  "kernelspec": {
   "display_name": "Python 3",
   "language": "python",
   "name": "python3"
  },
  "language_info": {
   "codemirror_mode": {
    "name": "ipython",
    "version": 3
   },
   "file_extension": ".py",
   "mimetype": "text/x-python",
   "name": "python",
   "nbconvert_exporter": "python",
   "pygments_lexer": "ipython3",
   "version": "3.5.2"
  }
 },
 "nbformat": 4,
 "nbformat_minor": 2
}
