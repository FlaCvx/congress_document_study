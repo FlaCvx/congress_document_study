{
 "cells": [
  {
   "cell_type": "code",
   "execution_count": 1,
   "metadata": {},
   "outputs": [],
   "source": [
    "import os\n",
    "import numpy as np\n"
   ]
  },
  {
   "cell_type": "code",
   "execution_count": 2,
   "metadata": {},
   "outputs": [],
   "source": [
    "with open(input_file_path, 'r') as input_file:\n",
    "    my_text = input_file.read(-1)\n",
    "    # my_text = re.split(r'\\n{2,}', my_text)\n",
    "    # my_text = [new_ele.replace(\"\\t\", \" \") for new_ele in my_text]\n",
    "    # my_text = re.split(r'\\n{2,}', my_text)\n",
    "\n",
    "\n",
    "    print(my_text)\n",
    "    print(type(my_text))\n"
   ]
  },
  {
   "cell_type": "code",
   "execution_count": null,
   "metadata": {},
   "outputs": [],
   "source": []
  }
 ],
 "metadata": {
  "kernelspec": {
   "display_name": "Python 3",
   "language": "python",
   "name": "python3"
  },
  "language_info": {
   "codemirror_mode": {
    "name": "ipython",
    "version": 3
   },
   "file_extension": ".py",
   "mimetype": "text/x-python",
   "name": "python",
   "nbconvert_exporter": "python",
   "pygments_lexer": "ipython3",
   "version": "3.5.2"
  }
 },
 "nbformat": 4,
 "nbformat_minor": 2
}
