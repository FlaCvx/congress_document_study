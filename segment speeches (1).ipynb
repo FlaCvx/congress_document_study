{
 "cells": [
  {
   "cell_type": "code",
   "execution_count": 2,
   "metadata": {},
   "outputs": [],
   "source": [
    "from PIL import Image\n",
    "\n",
    "\n",
    "# GOOGLE API CREDITS : https://lp.google-mkto.com/gcp-research-credits.html"
   ]
  },
  {
   "cell_type": "code",
   "execution_count": 3,
   "metadata": {
    "scrolled": true
   },
   "outputs": [],
   "source": [
    "text_one=\"that it is impossible to know the extent of the\\nevil, or provide a remedy. If these facts and\\narguments are sufficient to produce doubts in\\ngentlemen's minds, they will hesitate in con-\\ncurring with the committee in this article of the\\nreport; for, in cases of uncertainty, I take it to\\nbe the wisest way not to proceed in a dubious\\ntrack.\\nMr. GERRY.--After what I said yesterday on\\nthis subject, it cannot be necessary for me to\\ngo again fully into the argument; what I then\\nadvanced has been answered in few cases. I\\nmentioned the difficulties to which a merchant\\nwould be subjected who would have to advance\\nthe duties; he must sell to a loss, or have a large\\ncapital for the purpose; no argument has been\\nurged to show an impropriety in this reasoning.\\ncargo and outfits of a vessel worth £1000,\\nlaw ful money, would bring in return 22,000 gal.\\ntons of molasses; this, as I said yesterday, will\\npay £396, a duty of near forty per cent upon\\nThe cargo. It was also mentioned, that a large\\nquantity of the article was used by the poor of\\nthe seaports; a high duty must necessarily raise\\nthe pricu or lessen the consumption, in which\\ncase it will be an additional discouragement to\\nthe trade. If the price is raised, the distiller\\nmust likewise increase his capital or manufac-\\nture less, if so, the demand is again decreased.\\nIf it is necessary to destroy the manufacture\\non account of the injury it does to the tnorals\\nof the people, the proprietors ought to be in.\\ndemnified. But if rum is still to be used among\\nug, let us give a preference to our own manu-\\nfacture. By discouraging the molasses trade,\\nyou lessen the demand for fish, which are ex-\\nported to be exchanged for that article.\\nIt has been said, that a fisherman uses but\\ntwelve gallons. I include his family, and make\\nit thirty; for this he has to pay two dollars an-\\nnually. Is not this a burthen? Gentlemen must\\nown it is..\\nThe gentleman from Virginia refers us to a\\nperiod before the revolution, when the inanu.\\nfacture supported itself under a duty. The\\nkingdom of Great Britain was at that tine in\\nthe zenith of her power; she had her board of\\ncommerce, her vessels of war, and bodies of\\ntroops to support the measure; she sent over an\\narmy before she gave it up; at last she was com-\\npelled to reduce it. But do gentlemen mean to\\nengage Congress to support its measures in this\\nway. The Parliament had an object to contend\\nfor; they did notlike their New England colonies\\nto interfere with the business of their West India\\nislands; they wished totally to destroy our dis-\\ntilleries, but could not succeed. This Govern-\\nment has no object of this kind; then shall we\\ngive chagrin to those people of whom we exact\\nsupport? Are we not putting to hazard the af-\\nfections of the numerous citizens concerned in\\nthis business, who have been the wart adyo-\\ncates of the Constitution from an expectation\\nof benefit to their particular interests? And this\\nfor the sake of a measure that must decat il\\nsell. The duty will exceed the risk of smug.\\n\"\n",
    "text_two=\"gling; the latter, perhaps, not being more than\\nfive per cent., the former forty per cent., on the\\nvalue of the article.\\n11, therefore, we lay an excise upon the rum\\nand a small duty on inolasses, we shall prevent\\nthe necessity of a clandestine trade, obtain a\\ngreater revenue, and avoid those injuries which\\nare so justly apprehended to extend to our fish-\\neries and navigation,\\nMr. JACKSON. I have attended through the\\nwhole of this debate, but have been unable to\\ndiscover any new light reflected on the subject.\\nI do not mean to trespass upon the patience of\\nthe committee but for a moment. The gentle-\\nmen from Massachusetts tell us that fish is an\\narticle of their trade, and they sell it for molas-\\nSes; but if a duty is imposed upon molasses, the\\nbusiness is ruined. Let me ask them, are there\\nnot other articles of trade of great moment to\\nthe southward? What is to become of the lum-\\nber of Georgia? We are obliged to take rum\\nin the West Indies in exchange for our lumber,\\nupon which we pay fifteen cents a gallon duty\\nThe gentlemen are not for reducing this; 80 I\\nhope they will admit their arguments on this\\npoint to be obviated.\\nOne gentleman has thrown out a remark re.\\nspecting the slaves in the Southern States. I\\nknow the subject is not before the House; but I\\nbeg just to observe, that however slavery may\\nbe condemned in the Eastern States, it is im-\\npracticable to cultivate the Southei'n country\\nwithout their assistance.\\nThe question on striking out six cents was\\ndetermined in the negative.\\nMr. FITZSIMONS revived his motion which\\nwas lost in the committee, that a drawback of\\nthree cents per gallon be allowed on all rum\\ndistilled in the United States, and which shall\\nbe exported without the limits, thereof. This\\nwas agreed to.\\nOn \\\"inotion of Mr. MADISON, the clauses of\\nthe report respecting the duty to be laid on tori-\\nnage, was postponed. And then the House ap-\\npointed a committee to bring in a bill or bills,\\npursuant to the report as adopted:\\nWEDNESDAY, April 29.\\nThe petitions of the citizens of New Jersey,\\nwhose names are thereunto subscribed, com\\nplaining of the illegality of the election of Rep-\\nresentatives to Congress for that State, as re-\\nferred to in Mr. Ogden's letter of yesterday,\\nwere read: Whereupon,..\\nOrdered, That the said petitions be referred\\nto the comiittee of elections, and that it be an\\ninstruction to the said committee, to report a pro-\\nper mode of investigation and decision thereupon.\\nThe House proceeded to consider the report\\nfrom the committee of elections, (which lay on\\nthe table) on the petition of David Ramsay of\\nthe State of South Carolina, suggesting that\\nWilliam Smith, returned a member of this\\nHouse as elected within that State, was, at the\\n\"\n",
    "\n",
    "\n",
    "#text_one = text_one.replace(\"\\n\",\" \")\n",
    "#text_two = text_two.replace(\"\\n\",\" \")\n",
    "\n",
    "#text = text.replace(\"Mr.\",\"Mr\")\n",
    "#text = text.split(\".\")\n",
    "#text"
   ]
  },
  {
   "cell_type": "code",
   "execution_count": 4,
   "metadata": {},
   "outputs": [],
   "source": [
    "# import spacy\n",
    "# nlp = spacy.load('en')\n",
    "\n",
    "# sentence_one = nlp(text_one)\n",
    "# sentence_two = nlp(text_two)\n"
   ]
  },
  {
   "cell_type": "code",
   "execution_count": 5,
   "metadata": {},
   "outputs": [],
   "source": [
    "# Preprocessing da fare: In futuro, forse.\n",
    "# 1-alcune parole hanno il trattino in mezzo, bisognerebbe toglierlo e ricomporre. "
   ]
  },
  {
   "cell_type": "markdown",
   "metadata": {},
   "source": [
    "## 1- Find all the \"stops\""
   ]
  },
  {
   "cell_type": "code",
   "execution_count": 6,
   "metadata": {},
   "outputs": [],
   "source": [
    "text_two=\"gling; the latter, perhaps, not being more than\\nfive per cent., the former forty per cent., on the\\nvalue of the article.\\n11, therefore, we lay an excise upon the rum\\nand a small duty on inolasses, we shall prevent\\nthe necessity of a clandestine trade, obtain a\\ngreater revenue, and avoid those injuries which\\nare so justly apprehended to extend to our fish-\\neries and navigation,\\nMr. JACKSON. I have attended through the\\nwhole of this debate, but have been unable to\\ndiscover any new light reflected on the subject.\\nI do not mean to trespass upon the patience of\\nthe committee but for a moment. The gentle-\\nmen from Massachusetts tell us that fish is an\\narticle of their trade, and they sell it for molas-\\nSes; but if a duty is imposed upon molasses, the\\nbusiness is ruined. Let me ask them, are there\\nnot other articles of trade of great moment to\\nthe southward? What is to become of the lum-\\nber of Georgia? We are obliged to take rum\\nin the West Indies in exchange for our lumber,\\nupon which we pay fifteen cents a gallon duty\\nThe gentlemen are not for reducing this; 80 I\\nhope they will admit their arguments on this\\npoint to be obviated.\\nOne gentleman has thrown out a remark re.\\nspecting the slaves in the Southern States. I\\nknow the subject is not before the House; but I\\nbeg just to observe, that however slavery may\\nbe condemned in the Eastern States, it is im-\\npracticable to cultivate the Southei'n country\\nwithout their assistance.\\nThe question on striking out six cents was\\ndetermined in the negative.\\nMr. FITZSIMONS revived his motion which\\nwas lost in the committee, that a drawback of\\nthree cents per gallon be allowed on all rum\\ndistilled in the United States, and which shall\\nbe exported without the limits, thereof. This\\nwas agreed to.\\nOn \\\"inotion of Mr. MADISON, the clauses of\\nthe report respecting the duty to be laid on tori-\\nnage, was postponed. And then the House ap-\\npointed a committee to bring in a bill or bills,\\npursuant to the report as adopted:\\nWEDNESDAY, April 29.\\nThe petitions of the citizens of New Jersey,\\nwhose names are thereunto subscribed, com\\nplaining of the illegality of the election of Rep-\\nresentatives to Congress for that State, as re-\\nferred to in Mr. Ogden's letter of yesterday,\\nwere read: Whereupon,..\\nOrdered, That the said petitions be referred\\nto the comiittee of elections, and that it be an\\ninstruction to the said committee, to report a pro-\\nper mode of investigation and decision thereupon.\\nThe House proceeded to consider the report\\nfrom the committee of elections, (which lay on\\nthe table) on the petition of David Ramsay of\\nthe State of South Carolina, suggesting that\\nWilliam Smith, returned a member of this\\nHouse as elected within that State, was, at the\\n\"\n"
   ]
  },
  {
   "cell_type": "markdown",
   "metadata": {},
   "source": [
    "### 1a- Consider as \"stops\" all the \"Mr.\" "
   ]
  },
  {
   "cell_type": "code",
   "execution_count": 7,
   "metadata": {},
   "outputs": [],
   "source": [
    "def find_allThe_Mrs(text):\n",
    "    index = 0\n",
    "    occurences = []\n",
    "    while( index < len(text) ):\n",
    "        if ( text[index:].find(\"Mr.\") == -1):\n",
    "            break\n",
    "        else:\n",
    "            index += text[index:].find(\"Mr.\")\n",
    "            #print(index)\n",
    "            occurences.append(index)\n",
    "            index += 1\n",
    "    return occurences"
   ]
  },
  {
   "cell_type": "code",
   "execution_count": 8,
   "metadata": {},
   "outputs": [],
   "source": [
    "occurences_Mrs = find_allThe_Mrs(text_two)"
   ]
  },
  {
   "cell_type": "markdown",
   "metadata": {},
   "source": [
    "### 1b- Consider as \"stops\" all the  days of the week / Months / day when they are between '\\n' example.  \" \\n wednesday, April 29.\\n\""
   ]
  },
  {
   "cell_type": "code",
   "execution_count": 9,
   "metadata": {},
   "outputs": [],
   "source": [
    "week_days=['monday','tuesday','wednesday','thursday','friday','saturday','sunday']\n",
    "months=['january','february','march','april','may','june','july','august','september','october','november','december']"
   ]
  },
  {
   "cell_type": "code",
   "execution_count": 10,
   "metadata": {},
   "outputs": [],
   "source": [
    "def find_allThe_weekDays_separator(text):\n",
    "    occurences = []\n",
    "    for day in week_days:\n",
    "        index = 0\n",
    "        while( index < len(text) ):\n",
    "            if ( text[index:].find(\"\\n\"+str(day)) == -1):\n",
    "                break\n",
    "            else:\n",
    "                index += text[index:].find(\"\\n\"+str(day))\n",
    "                occurences.append(index)\n",
    "                index += 1\n",
    "    return occurences\n"
   ]
  },
  {
   "cell_type": "code",
   "execution_count": 11,
   "metadata": {},
   "outputs": [
    {
     "data": {
      "text/plain": [
       "[1976]"
      ]
     },
     "execution_count": 11,
     "metadata": {},
     "output_type": "execute_result"
    }
   ],
   "source": [
    "occurences_days = find_allThe_weekDays_separator(str.lower(text_two))\n",
    "occurences_days"
   ]
  },
  {
   "cell_type": "code",
   "execution_count": 13,
   "metadata": {},
   "outputs": [
    {
     "data": {
      "text/plain": [
       "\"\\nWEDNESDAY, April 29.\\nThe petitions of the citizens of New Jersey,\\nwhose names are thereunto subscribed, com\\nplaining of the illegality of the election of Rep-\\nresentatives to Congress for that State, as re-\\nferred to in Mr. Ogden's letter of yesterday,\\nwere read: Whereupon,..\\nOrdered, That the said petitions be referred\\nto the comiittee of elections, and that it be an\\ninstruction to the said committee, to report a pro-\\nper mode of investigation and decision thereupon.\\nThe House proceeded to consider the report\\nfrom the committee of elections, (which lay on\\nthe table) on the petition of David Ramsay of\\nthe State of South Carolina, suggesting that\\nWilliam Smith, returned a member of this\\nHouse as elected within that State, was, at the\\n\""
      ]
     },
     "execution_count": 13,
     "metadata": {},
     "output_type": "execute_result"
    }
   ],
   "source": [
    "text_two[occurences_days[0]:]"
   ]
  },
  {
   "cell_type": "markdown",
   "metadata": {},
   "source": [
    "### 2- Now put together all the \"stop\" indices"
   ]
  },
  {
   "cell_type": "code",
   "execution_count": 14,
   "metadata": {},
   "outputs": [],
   "source": [
    "import numpy as np\n",
    "\n",
    "def calculate_stop_occurences(text):\n",
    "    occurences_Mrs = find_allThe_Mrs(text)\n",
    "    occurences_days = find_allThe_weekDays_separator(str.lower(text))\n",
    "    occurences = list(np.hstack([occurences_days, occurences_Mrs]))\n",
    "    occurences.sort(reverse = True)\n",
    "    #print(occurences)\n",
    "    return occurences_Mrs, occurences\n"
   ]
  },
  {
   "cell_type": "markdown",
   "metadata": {},
   "source": [
    "### 3- Extract name and speech"
   ]
  },
  {
   "cell_type": "code",
   "execution_count": 15,
   "metadata": {},
   "outputs": [],
   "source": [
    "def extract_following_name(text):\n",
    "    name=[]\n",
    "    i=0\n",
    "    while(True):\n",
    "        #print(text[i])\n",
    "        if(text[i]==' '):\n",
    "            i+=1\n",
    "        elif(text[i].lower().isalpha()):\n",
    "            i += 1\n",
    "        else:\n",
    "            i += 1\n",
    "            \n",
    "            break;\n",
    "    name=text[0:i]\n",
    "    return name\n",
    "\n",
    "\n",
    "def check_is_speech_after_name(text, name): #If after the name there is a dot or -- then it's for sure a speech, return True\n",
    "    i=len(name)+1\n",
    "    if (text[i]==' '):\n",
    "        i += 1\n",
    "    elif not ((text[i].isalpha) and ( text[i].isdigit()) ): #It must be a puntuaction that means that is said by the name\n",
    "        return True\n",
    "    else:\n",
    "        return False\n",
    "\n",
    "def check_is_synonim_of_say(word):\n",
    "    if word in synonims:\n",
    "        return True\n",
    "    else:\n",
    "        return False\n",
    "    \n",
    "def get_verb_of_sentence_after_name(sentence):\n",
    "    nlp = spacy.load('en')\n",
    "\n",
    "    sentence_spacy = nlp(sentence)\n",
    "    for token in sentence_spacy:\n",
    "        if(token.tag_ is 'VBP'  ):\n",
    "            result = check_is_synonim_of_say(token.text)\n",
    "            break\n",
    "    return result\n",
    "\n",
    "def extract_speech(text, start, stop):\n",
    "    return text[start:stop]\n",
    "\n",
    "def add_speech(text, start_occurences, stop_occurences):\n",
    "    if(len(start_occurences)>0):\n",
    "        occ = start_occurences.pop()\n",
    "        index = int(occ+3)\n",
    "        stop_occurences.remove(occ)\n",
    "        name = extract_following_name(text[index:])\n",
    "        #print(\"Name: \"+name)\n",
    "        index=int(index+len(name))\n",
    "        is_speech = check_is_speech_after_name(text[index:], name)\n",
    "        if(len(stop_occurences)==0):\n",
    "            return name, text[index:], False\n",
    "        else:\n",
    "            stop = stop_occurences.pop()\n",
    "            speech = extract_speech(text, index, stop)\n",
    "            return name, speech, True\n",
    "    else:\n",
    "        return None, text, False \n",
    "\n",
    "def load_next_text(list_of_texts_toLoad):\n",
    "    text= None\n",
    "    return text\n"
   ]
  },
  {
   "cell_type": "code",
   "execution_count": null,
   "metadata": {
    "scrolled": false
   },
   "outputs": [],
   "source": [
    "loaded_text=text_two\n",
    "speaker_andSpeech = {}\n",
    "tmp_name= None\n",
    "tmp_speech = None\n",
    "is_finished=True\n",
    "\n",
    "\n",
    "#loaded_text = load_next_text(list_of_texts_toLoad)\n",
    "#while(loaded_text!=None):\n",
    "\n",
    "while(True):\n",
    "    start_occurences, stop_occurences = calculate_stop_occurences(loaded_text)\n",
    "    #print(occurences)\n",
    "    name, speech, is_finished = add_speech(loaded_text, start_occurences, stop_occurences)\n",
    "    if (is_finished): #If it is true I have the whole value (Name, Speech)\n",
    "        print(\"Case 1\")\n",
    "        if( name not in speaker_andSpeech):\n",
    "            speaker_andSpeech[name] = []\n",
    "        speaker_andSpeech[name].append(speech)\n",
    "        tmp_name = None\n",
    "        tmp_speech = None\n",
    "    else: #It may be that 1- There is no speaker/speech at all or 2- A speech was interrupted in the middle.\n",
    "        if (name is None): #Case 1: Now two scenarios: 1- Discard the text if tmp_name is None or\n",
    "                                                     # 2- concatenate the speech otherwise.\n",
    "            if(tmp_name is None):\n",
    "                print(\"Case 2\")\n",
    "                break;\n",
    "            else: \n",
    "                print(\"Case 3\")\n",
    "                tmp_speech += text\n",
    "        if(name is not None): #Case 2\n",
    "            print(\"Case 4\")\n",
    "            tmp_name = name\n",
    "            tmp_speech = speech\n",
    "    \n",
    "#    loaded_text = load_next_text(text)\n",
    "      "
   ]
  },
  {
   "cell_type": "code",
   "execution_count": null,
   "metadata": {},
   "outputs": [],
   "source": []
  },
  {
   "cell_type": "code",
   "execution_count": null,
   "metadata": {},
   "outputs": [],
   "source": [
    "# final idea: make histograms of lenght of speeches, and set boundaries"
   ]
  }
 ],
 "metadata": {
  "kernelspec": {
   "display_name": "Python 3",
   "language": "python",
   "name": "python3"
  },
  "language_info": {
   "codemirror_mode": {
    "name": "ipython",
    "version": 3
   },
   "file_extension": ".py",
   "mimetype": "text/x-python",
   "name": "python",
   "nbconvert_exporter": "python",
   "pygments_lexer": "ipython3",
   "version": "3.7.4"
  }
 },
 "nbformat": 4,
 "nbformat_minor": 2
}
